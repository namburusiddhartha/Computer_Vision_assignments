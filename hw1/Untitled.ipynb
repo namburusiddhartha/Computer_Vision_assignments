{
 "cells": [
  {
   "cell_type": "code",
   "execution_count": 1,
   "id": "97bb3b6d-8d10-484f-ad17-988d4ff2712c",
   "metadata": {},
   "outputs": [
    {
     "name": "stdout",
     "output_type": "stream",
     "text": [
      "[[1 2 3 4 5]\n",
      " [1 2 3 4 5]\n",
      " [1 2 3 4 5]\n",
      " [1 2 3 4 5]\n",
      " [1 2 3 4 5]]\n"
     ]
    }
   ],
   "source": [
    "import numpy as np\n",
    "a = [1, 2 ,3, 4 ,5]\n",
    "b = np.tile(a,(5,1))\n",
    "print(b)"
   ]
  },
  {
   "cell_type": "code",
   "execution_count": 2,
   "id": "ea67f831-7687-4d1d-b783-6e3e66241c60",
   "metadata": {},
   "outputs": [
    {
     "name": "stdout",
     "output_type": "stream",
     "text": [
      "[[1 1 1 1 1]\n",
      " [2 2 2 2 2]\n",
      " [3 3 3 3 3]\n",
      " [4 4 4 4 4]\n",
      " [5 5 5 5 5]\n",
      " [6 6 6 6 6]\n",
      " [7 7 7 7 7]\n",
      " [8 8 8 8 8]\n",
      " [9 9 9 9 9]]\n"
     ]
    }
   ],
   "source": [
    "a = np.array([[1, 2, 3], [4, 5, 6], [7, 8, 9]])\n",
    "b = a.reshape(-1, 1)\n",
    "c = np.tile(b,(1,5))\n",
    "print(c)"
   ]
  },
  {
   "cell_type": "code",
   "execution_count": 7,
   "id": "b3f2b90f-1017-40e9-9f3d-dec21e54ad1f",
   "metadata": {},
   "outputs": [
    {
     "name": "stdout",
     "output_type": "stream",
     "text": [
      "90\n",
      "90\n",
      "90\n",
      "90\n",
      "90\n",
      "90\n",
      "90\n",
      "90\n",
      "90\n",
      "90\n"
     ]
    }
   ],
   "source": [
    "a = np.array([30, 35, 67, 108, 137, 199, 248, 272, 300, 356])\n",
    "for x in a:\n",
    "    b = 0 if x <= 22.5 else 90# x > 22.5 and x < 45 45 else 90\n",
    "    print(b)"
   ]
  },
  {
   "cell_type": "code",
   "execution_count": 9,
   "id": "6ba94814-d95a-4cca-90d3-3ab21c582c19",
   "metadata": {},
   "outputs": [
    {
     "data": {
      "text/plain": [
       "array([[ 1,  2,  1],\n",
       "       [ 0,  0,  0],\n",
       "       [-1, -2, -1]])"
      ]
     },
     "execution_count": 9,
     "metadata": {},
     "output_type": "execute_result"
    }
   ],
   "source": [
    "a = np.array([[-1, 0, 1], [-2, 0, 2], [-1, 0, 1]])\n",
    "b = np.flip(a.T, axis=0)\n",
    "b"
   ]
  },
  {
   "cell_type": "code",
   "execution_count": 5,
   "id": "51794973-ae8f-4ef3-abab-a39a457e3a6b",
   "metadata": {},
   "outputs": [
    {
     "data": {
      "text/plain": [
       "330"
      ]
     },
     "execution_count": 5,
     "metadata": {},
     "output_type": "execute_result"
    }
   ],
   "source": [
    "c = (-30) % 360\n",
    "c"
   ]
  },
  {
   "cell_type": "code",
   "execution_count": 7,
   "id": "86eaadc1-86a0-4895-b9d7-1dcb081cab7b",
   "metadata": {},
   "outputs": [
    {
     "name": "stdout",
     "output_type": "stream",
     "text": [
      "2.1999999999999997\n"
     ]
    }
   ],
   "source": [
    "import numpy as np\n",
    "x = [1.0, 2.0, 3.0, 4.0]\n",
    "h = [element * 1.6 for element in x]\n",
    "h = np.array(h)\n",
    "y = np.array([1.0, 2.0, 5.0, 7.0])\n",
    "print(sum((y-h)*(y-h)))"
   ]
  },
  {
   "cell_type": "code",
   "execution_count": 17,
   "id": "8e418c86-7e34-437c-97c3-17d5c33c56b1",
   "metadata": {},
   "outputs": [
    {
     "name": "stdout",
     "output_type": "stream",
     "text": [
      "0.0\n"
     ]
    }
   ],
   "source": [
    "print((np.degrees(np.arctan2(0,1)) % 360))"
   ]
  },
  {
   "cell_type": "code",
   "execution_count": 19,
   "id": "028b1c06-e584-41b9-9ddb-3dab85d6b6e2",
   "metadata": {},
   "outputs": [
    {
     "data": {
      "text/plain": [
       "1.0"
      ]
     },
     "execution_count": 19,
     "metadata": {},
     "output_type": "execute_result"
    }
   ],
   "source": [
    "1.0 % 360"
   ]
  },
  {
   "cell_type": "code",
   "execution_count": 3,
   "id": "25d567ae-cb70-4225-b49f-383ce179d531",
   "metadata": {},
   "outputs": [
    {
     "data": {
      "text/plain": [
       "array([[0, 0, 0],\n",
       "       [0, 0, 1],\n",
       "       [0, 0, 0]])"
      ]
     },
     "execution_count": 3,
     "metadata": {},
     "output_type": "execute_result"
    }
   ],
   "source": [
    "a = np.array([[-1, 0, 1], [-2, 0, 2], [-1, 0, 1]])\n",
    "b = 1*(a > 1)\n",
    "b"
   ]
  },
  {
   "cell_type": "code",
   "execution_count": 4,
   "id": "dc53d865-292f-41c4-873c-d2d7a7db7325",
   "metadata": {},
   "outputs": [
    {
     "name": "stdout",
     "output_type": "stream",
     "text": [
      "1 4\n",
      "2 5\n",
      "3 6\n"
     ]
    }
   ],
   "source": [
    "for (x,y) in zip ([1, 2, 3], [4, 5 ,6]):\n",
    "    print(x, y)"
   ]
  },
  {
   "cell_type": "code",
   "execution_count": 21,
   "id": "3b80dd1f-e8fb-40ce-8a0e-bf0691541cdf",
   "metadata": {},
   "outputs": [
    {
     "data": {
      "text/plain": [
       "array([-5. , -4.5, -4. , -3.5, -3. , -2.5, -2. , -1.5, -1. , -0.5,  0. ,\n",
       "        0.5,  1. ,  1.5,  2. ,  2.5,  3. ,  3.5,  4. ,  4.5,  5. ])"
      ]
     },
     "execution_count": 21,
     "metadata": {},
     "output_type": "execute_result"
    }
   ],
   "source": [
    "a = np.arange(-5, 5+0.5, step = 0.5)\n",
    "a"
   ]
  },
  {
   "cell_type": "code",
   "execution_count": 18,
   "id": "22adce8c-1416-4b4b-ba6a-ae4397802f43",
   "metadata": {},
   "outputs": [
    {
     "data": {
      "text/plain": [
       "85"
      ]
     },
     "execution_count": 18,
     "metadata": {},
     "output_type": "execute_result"
    }
   ],
   "source": [
    "c = np.argmin(np.abs(a - b))\n",
    "c"
   ]
  },
  {
   "cell_type": "code",
   "execution_count": 4,
   "id": "995944b4-b4e9-4723-88d2-8ef0e045b699",
   "metadata": {},
   "outputs": [
    {
     "data": {
      "text/plain": [
       "array([[0, 1, 2],\n",
       "       [0, 2, 1],\n",
       "       [0, 1, 2]], dtype=int64)"
      ]
     },
     "execution_count": 4,
     "metadata": {},
     "output_type": "execute_result"
    }
   ],
   "source": [
    "a = np.array([[-1, 0, 1], [-2, 10, 2], [-1, 0, 1]])\n",
    "b = np.argsort(a)\n",
    "b"
   ]
  },
  {
   "cell_type": "code",
   "execution_count": 33,
   "id": "97ec0ae7-9a28-4dd3-8cfe-d0a5ccd51770",
   "metadata": {},
   "outputs": [
    {
     "data": {
      "text/plain": [
       "(1, 12, 2)"
      ]
     },
     "execution_count": 33,
     "metadata": {},
     "output_type": "execute_result"
    }
   ],
   "source": [
    "arr = np.array([[5, 2, 4],\n",
    "[3, 3, 3],\n",
    "[6, 1, 2],\n",
    "[7, 3, 9]])\n",
    "b = np.dstack(np.unravel_index(np.argsort(arr.ravel()), (4, 3)))\n",
    "b.shape"
   ]
  },
  {
   "cell_type": "code",
   "execution_count": 34,
   "id": "b347bb93-d800-42c4-b5a1-dd8d27ae92be",
   "metadata": {},
   "outputs": [],
   "source": [
    "c = b[:,(b.shape[1]-3):,:]"
   ]
  },
  {
   "cell_type": "code",
   "execution_count": 35,
   "id": "0da2f21a-3e8c-4e95-b09c-e3a878778f4f",
   "metadata": {},
   "outputs": [
    {
     "data": {
      "text/plain": [
       "array([[[2, 0],\n",
       "        [3, 0],\n",
       "        [3, 2]]], dtype=int64)"
      ]
     },
     "execution_count": 35,
     "metadata": {},
     "output_type": "execute_result"
    }
   ],
   "source": [
    "c"
   ]
  },
  {
   "cell_type": "code",
   "execution_count": 30,
   "id": "604d9349-8f35-4a32-bea0-c52919a04110",
   "metadata": {},
   "outputs": [
    {
     "data": {
      "text/plain": [
       "array([[2, 3, 3]], dtype=int64)"
      ]
     },
     "execution_count": 30,
     "metadata": {},
     "output_type": "execute_result"
    }
   ],
   "source": [
    "c[:,:,0]"
   ]
  },
  {
   "cell_type": "code",
   "execution_count": 32,
   "id": "bee35334-3e9d-45db-9dd9-f92189a00e80",
   "metadata": {},
   "outputs": [
    {
     "data": {
      "text/plain": [
       "array([[0, 0, 2]], dtype=int64)"
      ]
     },
     "execution_count": 32,
     "metadata": {},
     "output_type": "execute_result"
    }
   ],
   "source": [
    "c[:,:,1]"
   ]
  },
  {
   "cell_type": "code",
   "execution_count": 44,
   "id": "4ba74560-23a6-48d8-a9ca-9d6c36399853",
   "metadata": {},
   "outputs": [
    {
     "name": "stdout",
     "output_type": "stream",
     "text": [
      "[[[2 0]\n",
      "  [3 0]\n",
      "  [3 2]]]\n",
      "[-5.  -4.5 -4.  -3.5 -3.  -2.5 -2.  -1.5 -1.  -0.5  0.   0.5  1.   1.5\n",
      "  2.   2.5  3.   3.5  4.   4.5  5. ]\n",
      "3\n"
     ]
    }
   ],
   "source": [
    "a = np.arange(-5, 5+0.5, step = 0.5)\n",
    "print(c)\n",
    "print(a)\n",
    "print(len(np.squeeze(a[c[:,:,1]])))"
   ]
  },
  {
   "cell_type": "code",
   "execution_count": 45,
   "id": "6f815b92-6f71-4f29-addd-de63cbbe2301",
   "metadata": {},
   "outputs": [],
   "source": [
    "neighbor_offsets = [(dy, dx) for dy in range(-1, 2) for dx in range(-1, 2) if (dy != 0 or dx != 0)]"
   ]
  },
  {
   "cell_type": "code",
   "execution_count": 51,
   "id": "ea70e7e2-45ef-4a52-900a-300b8383a954",
   "metadata": {},
   "outputs": [
    {
     "data": {
      "text/plain": [
       "[(-1, -1), (-1, 0), (-1, 1), (0, -1), (0, 1), (1, -1), (1, 0), (1, 1)]"
      ]
     },
     "execution_count": 51,
     "metadata": {},
     "output_type": "execute_result"
    }
   ],
   "source": [
    "neighbor_offsets"
   ]
  },
  {
   "cell_type": "code",
   "execution_count": 48,
   "id": "a93595fd-e215-47bc-8a3d-eb00f26b09f0",
   "metadata": {},
   "outputs": [
    {
     "data": {
      "text/plain": [
       "array([[  5,   2,   4,  13,  12],\n",
       "       [  3,   3,   3,   2,  -1],\n",
       "       [  6,   1,   2,   1, -10],\n",
       "       [  7,   3,   9,   1, -20],\n",
       "       [ 17,  13,  19,  11,  -2]])"
      ]
     },
     "execution_count": 48,
     "metadata": {},
     "output_type": "execute_result"
    }
   ],
   "source": [
    "arr = np.array([[5, 2, 4 ,13, 12],\n",
    "[3, 3, 3, 2, -1],\n",
    "[6, 1, 2, 1, -10],\n",
    "[7, 3, 9, 1 , -20],\n",
    "[17, 13, 19, 11 , -2]])\n",
    "arr"
   ]
  },
  {
   "cell_type": "code",
   "execution_count": 52,
   "id": "30bd690d-80d6-4549-b190-2cd694f3fb5c",
   "metadata": {},
   "outputs": [
    {
     "data": {
      "text/plain": [
       "[3, 3, 2, 1, 1, 3, 9, 1]"
      ]
     },
     "execution_count": 52,
     "metadata": {},
     "output_type": "execute_result"
    }
   ],
   "source": [
    "[arr[2+ dy, 2+ dx] for (dy, dx) in neighbor_offsets]"
   ]
  },
  {
   "cell_type": "code",
   "execution_count": 57,
   "id": "badacbf2-985a-4fa4-bb0b-54130fc976d2",
   "metadata": {},
   "outputs": [
    {
     "name": "stdout",
     "output_type": "stream",
     "text": [
      "-1 -1\n",
      "-1 0\n",
      "-1 1\n",
      "0 -1\n",
      "0 1\n",
      "1 -1\n",
      "1 0\n",
      "1 1\n"
     ]
    },
    {
     "data": {
      "text/plain": [
       "[None, None, None, None, None, None, None, None]"
      ]
     },
     "execution_count": 57,
     "metadata": {},
     "output_type": "execute_result"
    }
   ],
   "source": [
    "[print(dy,dx) for (dy, dx) in neighbor_offsets]"
   ]
  },
  {
   "cell_type": "code",
   "execution_count": 63,
   "id": "a6661e13-d5e3-47c8-99b2-094abe23ca1d",
   "metadata": {},
   "outputs": [],
   "source": [
    "arr = np.array([0, 0, 1])"
   ]
  },
  {
   "cell_type": "code",
   "execution_count": 64,
   "id": "3f5889d5-956c-41b4-9538-6d32576466f4",
   "metadata": {},
   "outputs": [
    {
     "data": {
      "text/plain": [
       "array([0, 0, 1])"
      ]
     },
     "execution_count": 64,
     "metadata": {},
     "output_type": "execute_result"
    }
   ],
   "source": [
    "arr"
   ]
  },
  {
   "cell_type": "code",
   "execution_count": 65,
   "id": "a86fe3db-8a46-470b-999b-ad3a15e7ad7d",
   "metadata": {},
   "outputs": [],
   "source": [
    "suppress_mask = np.logical_or.reduce(arr)"
   ]
  },
  {
   "cell_type": "code",
   "execution_count": 66,
   "id": "9a6d77b9-e3b8-430f-afb3-d35df0639019",
   "metadata": {},
   "outputs": [
    {
     "data": {
      "text/plain": [
       "True"
      ]
     },
     "execution_count": 66,
     "metadata": {},
     "output_type": "execute_result"
    }
   ],
   "source": [
    "suppress_mask"
   ]
  },
  {
   "cell_type": "code",
   "execution_count": 2,
   "id": "b5f8bb64-0c75-4da1-95a1-051c821e732c",
   "metadata": {},
   "outputs": [
    {
     "name": "stdout",
     "output_type": "stream",
     "text": [
      "1.19.5\n"
     ]
    }
   ],
   "source": [
    "print(np.__version__)"
   ]
  },
  {
   "cell_type": "code",
   "execution_count": 10,
   "id": "02350264-258d-4e8f-8525-8c57bf8223e6",
   "metadata": {},
   "outputs": [
    {
     "name": "stdout",
     "output_type": "stream",
     "text": [
      "9\n",
      "(1, 1)\n",
      "9\n",
      "(1, 1)\n",
      "9\n",
      "(1, 1)\n",
      "9\n",
      "(1, 1)\n",
      "9\n",
      "(1, 1)\n",
      "9\n",
      "(1, 1)\n"
     ]
    }
   ],
   "source": [
    "H = np.random.rand(8, 8)\n",
    "num_peaks = 6\n",
    "H1 = np.copy(H)\n",
    "indices = []\n",
    "for i in range(num_peaks):\n",
    "    idx = np.argmax(H1) # find argmax in flattened array\n",
    "    print(idx)\n",
    "    H1_idx = np.unravel_index(idx, H1.shape) # remap to shape of H\n",
    "    print(H1_idx)\n",
    "    indices.append(H1_idx)"
   ]
  },
  {
   "cell_type": "code",
   "execution_count": 28,
   "id": "d2475b72-bf66-4cbf-82e2-3bd2c359708f",
   "metadata": {},
   "outputs": [
    {
     "data": {
      "image/png": "[encoded data removed]",
      "text/plain": [
       "<Figure size 720x720 with 1 Axes>"
      ]
     },
     "metadata": {
      "needs_background": "light"
     },
     "output_type": "display_data"
    }
   ],
   "source": [
    "import matplotlib.pyplot as plt\n",
    "import numpy as np\n",
    "x1 = np.arange(-0,np.pi,0.1)\n",
    "y1 = 10*np.sin(x1) + 10*np.cos(x1)\n",
    "plt.figure(figsize=(10,10))\n",
    "plt.plot(x1, y1, label = 'Point (10,10)', c = 'r')\n",
    "y2 = 15*np.sin(x1) + 15*np.cos(x1)\n",
    "plt.plot(x1, y2, label = 'Point (15,15)', c = 'b')\n",
    "y3 = 30*np.sin(x1) + 30*np.cos(x1)\n",
    "plt.plot(x1, y3, label = 'Point (30,30)', c = 'g')\n",
    "plt.plot(2.356, 0, color='black', marker='o')\n",
    "plt.text(2.456, 0 , '(2.356 , 0)')\n",
    "plt.xlabel('theta')\n",
    "plt.ylabel('rho')\n",
    "plt.legend()\n",
    "plt.savefig('4theory.png')"
   ]
  },
  {
   "cell_type": "code",
   "execution_count": 1,
   "id": "6a9667dc-7dc6-46ef-982d-692ffcc4efe4",
   "metadata": {},
   "outputs": [],
   "source": [
    "import sys"
   ]
  },
  {
   "cell_type": "code",
   "execution_count": 2,
   "id": "44cf785a-4fa7-4d4c-a86e-4b4e846d0e92",
   "metadata": {},
   "outputs": [
    {
     "data": {
      "text/plain": [
       "9223372036854775807"
      ]
     },
     "execution_count": 2,
     "metadata": {},
     "output_type": "execute_result"
    }
   ],
   "source": [
    "sys.maxsize"
   ]
  },
  {
   "cell_type": "code",
   "execution_count": null,
   "id": "0d6e4a42-22f0-49f8-b7dc-04c3a8d78f69",
   "metadata": {},
   "outputs": [],
   "source": []
  }
 ],
 "metadata": {
  "kernelspec": {
   "display_name": "Python 3",
   "language": "python",
   "name": "python3"
  },
  "language_info": {
   "codemirror_mode": {
    "name": "ipython",
    "version": 3
   },
   "file_extension": ".py",
   "mimetype": "text/x-python",
   "name": "python",
   "nbconvert_exporter": "python",
   "pygments_lexer": "ipython3",
   "version": "3.7.9"
  }
 },
 "nbformat": 4,
 "nbformat_minor": 5
}
