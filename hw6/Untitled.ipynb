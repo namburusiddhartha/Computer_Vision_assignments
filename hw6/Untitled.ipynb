{
 "cells": [
  {
   "cell_type": "code",
   "execution_count": 1,
   "id": "6a1394dd-43fd-4a2e-bb0a-f923e6deba33",
   "metadata": {},
   "outputs": [],
   "source": [
    "import numpy as np"
   ]
  },
  {
   "cell_type": "code",
   "execution_count": 23,
   "id": "97742327-9c5f-4ab6-86dc-196cf1e1c772",
   "metadata": {},
   "outputs": [
    {
     "name": "stdout",
     "output_type": "stream",
     "text": [
      "(3,)\n"
     ]
    }
   ],
   "source": [
    "A = np.array([1, 2, 3])\n",
    "print(A.shape)"
   ]
  },
  {
   "cell_type": "code",
   "execution_count": 24,
   "id": "c767b11d-98d9-49bd-8a51-f85f147f4937",
   "metadata": {},
   "outputs": [
    {
     "name": "stdout",
     "output_type": "stream",
     "text": [
      "(3,)\n"
     ]
    }
   ],
   "source": [
    "B = np.array([4, 5, 6])\n",
    "print(B.shape)"
   ]
  },
  {
   "cell_type": "code",
   "execution_count": 29,
   "id": "b6714710-7484-4807-8588-1904c3994b4c",
   "metadata": {},
   "outputs": [
    {
     "name": "stdout",
     "output_type": "stream",
     "text": [
      "(3,)\n"
     ]
    }
   ],
   "source": [
    "D= np.array([7, 8, 9])\n",
    "print(B.shape)"
   ]
  },
  {
   "cell_type": "code",
   "execution_count": 33,
   "id": "c37327d8-4771-4d5d-ad62-d106932495d1",
   "metadata": {},
   "outputs": [],
   "source": [
    "C = np.hstack((np.expand_dims(A, axis = 1)*np.expand_dims(D, axis = 1), np.expand_dims(B, axis = 1), np.expand_dims(D, axis = 1)))"
   ]
  },
  {
   "cell_type": "code",
   "execution_count": 34,
   "id": "7af75e9a-c22d-48dd-8e73-9a0ee87485db",
   "metadata": {},
   "outputs": [
    {
     "data": {
      "text/plain": [
       "array([[ 7,  4,  7],\n",
       "       [16,  5,  8],\n",
       "       [27,  6,  9]])"
      ]
     },
     "execution_count": 34,
     "metadata": {},
     "output_type": "execute_result"
    }
   ],
   "source": [
    "C"
   ]
  },
  {
   "cell_type": "code",
   "execution_count": 26,
   "id": "89bb168b-0af4-485b-a1a5-01a188175b82",
   "metadata": {},
   "outputs": [],
   "source": [
    "C = np.array([A,B]).T"
   ]
  },
  {
   "cell_type": "code",
   "execution_count": 27,
   "id": "8b73100d-f390-4fa2-bf5c-322d696df96e",
   "metadata": {},
   "outputs": [
    {
     "data": {
      "text/plain": [
       "array([[1, 4],\n",
       "       [2, 5],\n",
       "       [3, 6]])"
      ]
     },
     "execution_count": 27,
     "metadata": {},
     "output_type": "execute_result"
    }
   ],
   "source": [
    "C"
   ]
  },
  {
   "cell_type": "code",
   "execution_count": null,
   "id": "f9c1637a-b24d-41cf-b660-74cd9ccfa543",
   "metadata": {},
   "outputs": [],
   "source": [
    "def LucasKanade(It, It1, rect, thresh=.025, maxIt=100):\n",
    "    \n",
    "    '''\n",
    "    Q1.1: Lucas-Kanade Forward Additive Alignment with Translation Only\n",
    "    \n",
    "      Inputs: \n",
    "        It: template image\n",
    "        It1: Current image\n",
    "        rect: Current position of the object\n",
    "        (top left, bottom right coordinates, x1, y1, x2, y2)\n",
    "        thresh: Stop condition when dp is too small\n",
    "        maxIt: Maximum number of iterations to run\n",
    "        \n",
    "      Outputs:\n",
    "        p: movement vector dx, dy\n",
    "    '''\n",
    "\n",
    "    # Set thresholds (you probably want to play around with the values)\n",
    "    p = np.zeros(2) # dx, dy\n",
    "    threshold = thresh\n",
    "    maxIters = maxIt\n",
    "    i = 0\n",
    "    x1, y1, x2, y2 = rect\n",
    "    dx = p[0]\n",
    "    dy = p[1]\n",
    "    \n",
    "    # ----- TODO -----\n",
    "    X1 = np.arange(0, It1.shape[0], 1)\n",
    "    Y1 = np.arange(0, It1.shape[1], 1)   \n",
    "    It1_spline = RectBivariateSpline(X1,Y1,It1)\n",
    "    \n",
    "    X = np.arange(0, It.shape[0], 1)\n",
    "    Y = np.arange(0, It.shape[1], 1)   \n",
    "    It_spline = RectBivariateSpline(X,Y,It)\n",
    "    xt_v = np.arange(x1, x2 + 0.1)\n",
    "    yt_v = np.arange(y1, y2 + 0.1)\n",
    "    xt, yt = np.meshgrid(xt_v, yt_v)\n",
    "    template = It_spline.ev(yt, xt)\n",
    "    delp_m = np.finfo('float').max\n",
    "    \n",
    "    while (i < maxIters and delp_m > thresh):\n",
    "        xt1_v = np.arange(x1 + dx, x2 + dx + 0.1)\n",
    "        yt1_v = np.arange(y1 + dy, y2 + dy + 0.1)\n",
    "        xt1, yt1 = np.meshgrid(xt1_v, yt1_v)\n",
    "        patch_It1 = It1_spline.ev(yt1, xt1)\n",
    "        \n",
    "        dIt1x = It1_spline.ev(yt1, xt1, dx=0, dy=1).flatten()\n",
    "        dIt1y = It1_spline.ev(yt1, xt1, dx=1, dy=0).flatten()\n",
    "        A = np.hstack((np.expand_dims(dIt1x, axis = 1), np.expand_dims(dIt1y, axis = 1)))\n",
    "        b = template - patch_It1\n",
    "        dp = np.linalg.lstsq(A,b.flatten(),rcond=None)[0]\n",
    "        dx = dx + dp[0]\n",
    "        dy = dy + dp[1]\n",
    "        delp_m = np.sqrt(dp[0]**2 + dp[1]**2)\n",
    "        i = i + 1\n",
    "    \n",
    "    p[0] = dx\n",
    "    p[1] = dy\n",
    "    return p"
   ]
  }
 ],
 "metadata": {
  "kernelspec": {
   "display_name": "Python 3",
   "language": "python",
   "name": "python3"
  },
  "language_info": {
   "codemirror_mode": {
    "name": "ipython",
    "version": 3
   },
   "file_extension": ".py",
   "mimetype": "text/x-python",
   "name": "python",
   "nbconvert_exporter": "python",
   "pygments_lexer": "ipython3",
   "version": "3.7.9"
  }
 },
 "nbformat": 4,
 "nbformat_minor": 5
}
