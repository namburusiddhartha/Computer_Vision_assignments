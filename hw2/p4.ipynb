{
 "cells": [
  {
   "cell_type": "code",
   "execution_count": null,
   "id": "6206c791",
   "metadata": {},
   "outputs": [],
   "source": []
  },
  {
   "cell_type": "markdown",
   "id": "66bfbae0",
   "metadata": {
    "deletable": false,
    "editable": false,
    "nbgrader": {
     "cell_type": "markdown",
     "checksum": "2291016bfa10702ead788906211add42",
     "grade": false,
     "grade_id": "cell-f840bb3247da6695",
     "locked": true,
     "schema_version": 3,
     "solution": false,
     "task": false
    }
   },
   "source": [
    "<img align=\"center\" src=\"figures/course.png\" width=\"800\">\n",
    "\n",
    "#                                    16720 (B) Bag of Visual Words - Assignment 2\n",
    "\n",
    "     Instructor: Kris Kitani                       TAs:Paritosh (Lead), Rawal, Yan, Zen, Wen-Hsuan, Qichen"
   ]
  },
  {
   "cell_type": "code",
   "execution_count": 2,
   "id": "c30de23a",
   "metadata": {
    "deletable": false,
    "editable": false,
    "nbgrader": {
     "cell_type": "code",
     "checksum": "112e3e9d9d76070a09a42ebf28c7c0e7",
     "grade": false,
     "grade_id": "cell-ab714820928ab812",
     "locked": true,
     "schema_version": 3,
     "solution": false,
     "task": false
    }
   },
   "outputs": [],
   "source": [
    "import nbimporter\n",
    "import numpy as np\n",
    "import scipy.ndimage\n",
    "from skimage import io\n",
    "import skimage.transform\n",
    "import os,time\n",
    "import util\n",
    "import multiprocessing\n",
    "import threading\n",
    "import queue\n",
    "import torch\n",
    "import torchvision\n",
    "import torchvision.transforms"
   ]
  },
  {
   "cell_type": "markdown",
   "id": "18d50839",
   "metadata": {
    "deletable": false,
    "editable": false,
    "nbgrader": {
     "cell_type": "markdown",
     "checksum": "3245cc9caf66c97d2949d64b21bbaa4d",
     "grade": false,
     "grade_id": "cell-0943543d897db3c7",
     "locked": true,
     "schema_version": 3,
     "solution": false,
     "task": false
    }
   },
   "source": [
    "## For Autograding P4, ensure uploading `trained_conf_matrix.npy` and `trained_system_deep.npz`."
   ]
  },
  {
   "cell_type": "markdown",
   "id": "40b983a9",
   "metadata": {
    "deletable": false,
    "editable": false,
    "nbgrader": {
     "cell_type": "markdown",
     "checksum": "3df0d1eeb0e83e225049013b703cb55e",
     "grade": false,
     "grade_id": "cell-17340b02fdb1c6df",
     "locked": true,
     "schema_version": 3,
     "solution": false,
     "task": false
    }
   },
   "source": [
    "### Deep Learning Features - An Alternative to ``Bag of Words``\n",
    "\n",
    "As we have discussed in class, another powerful method for scene classification in computer vision is the employment of convolutional neural networks (CNNs) - sometimes referred to generically as $deep learning$. It is important to understand how previously trained (pretrained) networks can be used as another form of feature extraction, and how they relate to classical Bag of Words (BoW) features. We will be covering details on how one chooses the network architecture and training procedures later in the course. For this question, however, we will be asking you to deal with the VGG-16 pretrained network. VGG-16 is a pretrained Convolutional Neural Network (CNN) that has been trained on approximately 1.2 million images from the ImageNet Dataset (``http://image-net.org/index``) by the Visual Geometry Group (VGG) at University of Oxford. The model can classify images into a 1000 object categories (e.g. keyboard, mouse, coffee mug, pencil).\n",
    "\n",
    "One lesson we want you to take away from this exercise is to understand the effectiveness of $deep$ $features$ for general classification tasks within computer vision - even when those features have been previously trained on a different dataset (i.e. ImageNet) and task (i.e. object recognition). "
   ]
  },
  {
   "cell_type": "markdown",
   "id": "b0762f44",
   "metadata": {
    "deletable": false,
    "editable": false,
    "nbgrader": {
     "cell_type": "markdown",
     "checksum": "afb19706afe8d0615f44a208e29ff6bd",
     "grade": false,
     "grade_id": "cell-4d7a2d7da9ad6236",
     "locked": true,
     "schema_version": 3,
     "solution": false,
     "task": false
    }
   },
   "source": [
    "#### Extracting Deep Features\n",
    "\n",
    "To complete this question, you need to install the ``torchvision`` library from Pytorch, a popular Python-based deep learning library.\n",
    "If you are using the Anaconda package manager (``https://www.anaconda.com/download/``), this can be done with the following command:\n",
    "```\n",
    "            conda install pytorch torchvision -c pytorch\n",
    "```\n",
    "To check that you have installed it correctly, make sure that you can ``import torch`` in a Python interpreter without errors.\n",
    "Please refer to ``https://pytorch.org/`` for more detailed installation instructions. "
   ]
  },
  {
   "cell_type": "markdown",
   "id": "3b77d7aa",
   "metadata": {
    "deletable": false,
    "editable": false,
    "nbgrader": {
     "cell_type": "markdown",
     "checksum": "ea96722fcf18543140b0ec3d16bd9e2d",
     "grade": false,
     "grade_id": "cell-1086d0481a485a9a",
     "locked": true,
     "schema_version": 3,
     "solution": false,
     "task": false
    }
   },
   "source": [
    "#### Q4.1.1 (25 Points)\n",
    "\n",
    "We want to extract out deep features corresponding to the convolutional layers of theVGG-16 network.  In this problem, we will use the trained weights from the VGG network directly, but implement our own operations. To load the network, use the line\n",
    "```\n",
    "        vgg16 = torchvision.models.vgg16(pretrained=True).double()\n",
    "```\n",
    "followed by ``vgg16.eval()``\n",
    "The latter line ensures that the VGG-16 network is in evaluation mode, not training mode."
   ]
  },
  {
   "cell_type": "markdown",
   "id": "8334c8ac",
   "metadata": {
    "deletable": false,
    "editable": false,
    "nbgrader": {
     "cell_type": "markdown",
     "checksum": "92298155f306c3a6810a855a830ab225",
     "grade": false,
     "grade_id": "cell-0852d8a76345d947",
     "locked": true,
     "schema_version": 3,
     "solution": false,
     "task": false
    }
   },
   "source": [
    "path_img = \"./data/aquarium/sun_aztvjgubyrgvirup.jpg\"\n",
    "\n",
    "image = io.imread(path_img)\n",
    "\n",
    "image = image.astype('float')/255\n",
    "\n",
    "vgg16 = torchvision.models.vgg16(pretrained=True).double()\n",
    "\n",
    "vgg16.eval()"
   ]
  },
  {
   "cell_type": "markdown",
   "id": "26f3be0f",
   "metadata": {
    "deletable": false,
    "editable": false,
    "nbgrader": {
     "cell_type": "markdown",
     "checksum": "28e71afeaf91366424b2b9faf92e5a55",
     "grade": false,
     "grade_id": "cell-8b240fc2fc30262a",
     "locked": true,
     "schema_version": 3,
     "solution": false,
     "task": false
    }
   },
   "source": [
    "We want you to complete a function that is able to output $VGG-16$ network outputs at the **fc7** layer in\n",
    "```\n",
    "    def extract_deep_feature(x,vgg16_weights):\n",
    "```\n",
    "where ``x`` refers to the input image and ``vgg16_weights`` is a structure containing the CNN's network parameters. In this function you will need to write sub-functions ``multichannel_conv2d``, ``relu``, ``max_pool2d``, and ``linear`` corresponding to the fundamental elements of the CNN: multi-channel convolution, rectified linear units (ReLU), max pooling, and fully-connected weighting.\n",
    "\n",
    "We have provided a helper function ``util.get_VGG16_weights()`` that extracts the weight parameters of VGG-16 and its meta information. The returned variable is a numpy array of shape $L\\times 3$, where $L$ is the number of layers in VGG-16. The first column of each row is a string indicating the layer type. The second/third columns may contain the learned weights and biases, or other meta-information (\\eg kernel size of max-pooling). Please refer to the function docstring for details."
   ]
  },
  {
   "cell_type": "markdown",
   "id": "e1db1a7f",
   "metadata": {
    "deletable": false,
    "editable": false,
    "nbgrader": {
     "cell_type": "markdown",
     "checksum": "126bd1545c46831c642e8428f6660a7c",
     "grade": false,
     "grade_id": "cell-5cbd9317d3fa3557",
     "locked": true,
     "schema_version": 3,
     "solution": false,
     "task": false
    }
   },
   "source": [
    "In order to build the ``extract_deep_feature`` function, you should run a for-loop through each layer index until layer **fc7**, which corresponds to **the second linear layer** (Refer to VGG structure to see where **fc7** is). **Remember**: the output of the preceding layer should be passed through as an input to the next.\n",
    "\n",
    "Details on the sub-functions needed for the ``extract_deep_feature`` function can be found below.\n",
    "\n",
    "Please use ``scipy.ndimage.convolve`` and ``numpy`` functions to implement these functions instead of using pytorch. Please keep speed in mind when implementing your function, for example, using double for loop over pixels is not a good idea."
   ]
  },
  {
   "cell_type": "markdown",
   "id": "2259dc42",
   "metadata": {
    "deletable": false,
    "editable": false,
    "nbgrader": {
     "cell_type": "markdown",
     "checksum": "265efb8ebc1b1970c7cdb98ffd8c36b3",
     "grade": false,
     "grade_id": "cell-536cfed312995b11",
     "locked": true,
     "schema_version": 3,
     "solution": false,
     "task": false
    }
   },
   "source": [
    "``multichannel_conv2d(x,weight,bias)``:\n",
    "\n",
    "a function that will perform multi-channel 2D convolution which can be defined as follows, \n",
    "\n",
    "\\begin{equation}\n",
    "\\mathbf{y}^{(j)} = \\sum_{k=1}^{K} \\begin{bmatrix} \\mathbf{x}^{(k)} * \\mathbf{h}^{(j,k)} \\end{bmatrix} + \\mathbf{b}[j] \n",
    "\\end{equation}\n",
    "\n",
    "where $*$ denotes $2D$ convolution, $\\mathbf{x} = \\{ \\mathbf{x}^{(k)} \\}_{k=1}^{K}$ is our vectorized $K$-channel input signal, $\\mathbf{h} = \\{ \\mathbf{h}^{(j,k)} \\}_{k=1,j=1}^{K,J}$ is our $J \\times K$ set of vectorized convolutional filters and $\\mathbf{r} = \\{ \\mathbf{y}^{(j)} \\}_{j=1}^{J}$ is our $J$ channel vectorized output response. Further, unlike traditional single-channel convolution CNNs often append a bias vector $\\mathbf{b}$ whose $J$ elements are added to the $J$ channels of the output response. \n",
    "\n",
    "To implement ``multichannel_conv2d``, you can use the Scipy convolution function directly with for loops to cycle through the filters and channels (``scipy.ndimage.convolve()``). All the necessary details concerning the number of filters ($J$), number of channels ($K$), filter weights ($\\mathbf{h}$) and biases ($\\mathbf{b}$) can be inferred from the shapes/dimensions of the weights and biases. Notice that pytorch's convolution function actually does correlation, so to get similar answer as pytroch with scipy, you need to flip the kernel on both axes using ``np.flip()``."
   ]
  },
  {
   "cell_type": "code",
   "execution_count": 15,
   "id": "afee3b08",
   "metadata": {
    "deletable": false,
    "nbgrader": {
     "cell_type": "code",
     "checksum": "cfafc16377dad8df84358ed123409a7d",
     "grade": false,
     "grade_id": "cell-39e262deb285001e",
     "locked": false,
     "schema_version": 3,
     "solution": true,
     "task": false
    }
   },
   "outputs": [],
   "source": [
    "def multichannel_conv2d(x,weight,bias):\n",
    "    '''\n",
    "    Performs multi-channel 2D convolution.\n",
    "\n",
    "    [input]\n",
    "    * x: numpy.ndarray of shape (H,W,input_dim)\n",
    "    * weight: numpy.ndarray of shape (output_dim,input_dim,kernel_size,kernel_size)\n",
    "    * bias: numpy.ndarray of shape (output_dim)\n",
    "\n",
    "    [output]\n",
    "    * feat: numpy.ndarray of shape (H,W,output_dim)\n",
    "    '''\n",
    "    h, w, input_dims = x.shape\n",
    "    output_dims = weight.shape[0]\n",
    "    final_res = np.zeros((h, w, output_dims))\n",
    "    '''\n",
    "    HINTS:\n",
    "    1.> for 2D convolution we need to use np.fliplr and np.flipud\n",
    "    2.> can use scipy.ndimage.convolve with the flipped kernel\n",
    "    3.> don't forget to add the bias\n",
    "    '''\n",
    "    # YOUR CODE HERE\n",
    "    inter = np.zeros((h, w, input_dims))\n",
    "    # filter = np.zeros((weight.shape[2], weight.shape[3]))\n",
    "    for i in range(output_dims):\n",
    "        for j in range(input_dims):\n",
    "            filter = np.fliplr(np.flipud(weight[i,j,:,:]))\n",
    "            inter[:,:,j] = scipy.ndimage.convolve(x[:,:,j], filter, mode = \"constant\")\n",
    "        final_res[:,:,i] = np.sum(inter, axis = 2) + bias[i]    \n",
    "    # raise NotImplementedError()\n",
    "    return final_res"
   ]
  },
  {
   "cell_type": "code",
   "execution_count": 16,
   "id": "152abad1-30d0-4b13-917a-2671de1d2740",
   "metadata": {},
   "outputs": [
    {
     "name": "stdout",
     "output_type": "stream",
     "text": [
      "1.9984014443252818e-14\n"
     ]
    }
   ],
   "source": [
    "import torch\n",
    "import numpy as np\n",
    "import torch.nn as nn\n",
    "import torch.nn.functional as F\n",
    "import scipy.ndimage\n",
    "\n",
    "def pytorch_conv2d(x, w, b):\n",
    "\n",
    "    x_reorder = np.moveaxis(x, [0, 1, 2], [1, 2, 0])\n",
    "    x_input = np.expand_dims(x_reorder, axis = 0)\n",
    "\n",
    "    x_t = torch.from_numpy(x_input)\n",
    "    w_t = torch.from_numpy(w)\n",
    "\n",
    "    # print(f\"{x_t.shape=}, {w_t.shape=}\")\n",
    "\n",
    "    o_t = F.conv2d(x_t, w_t, padding=1)\n",
    "\n",
    "    output = o_t.numpy()\n",
    "    \n",
    "    output = output[0,:,:,:]\n",
    "\n",
    "    return output\n",
    "\n",
    "np.random.seed(0)\n",
    "x = np.random.rand(10, 10, 2)\n",
    "w = np.random.rand(4, 2, 3, 3)\n",
    "b = np.zeros((4))\n",
    "\n",
    "pyoutput = pytorch_conv2d(x, w, b)\n",
    "cuoutput = multichannel_conv2d(x,w,b)\n",
    "\n",
    "cuoutput = np.moveaxis(cuoutput, [0, 1, 2], [1, 2, 0])\n",
    "\n",
    "diff = pyoutput - cuoutput\n",
    "\n",
    "print(np.sum(diff))"
   ]
  },
  {
   "cell_type": "markdown",
   "id": "ea2e5939",
   "metadata": {
    "deletable": false,
    "editable": false,
    "nbgrader": {
     "cell_type": "markdown",
     "checksum": "7ae1c551b9359d94adf085873f98e4ba",
     "grade": false,
     "grade_id": "cell-244ad83440a13a11",
     "locked": true,
     "schema_version": 3,
     "solution": false,
     "task": false
    }
   },
   "source": [
    "```relu(x)```:\n",
    "\n",
    "a function that shall perform the Rectified Linear Unit (ReLU) which can be defined mathematically as,\n",
    "\n",
    "\\begin{equation}\n",
    "\\mbox{ReLU}(x) = \\max_{x}(x, 0)\n",
    "\\end{equation}\n",
    "\n",
    "and is applied independently to each element of the matrix/vector $x$ passed to it."
   ]
  },
  {
   "cell_type": "code",
   "execution_count": 3,
   "id": "547e2ce4",
   "metadata": {
    "deletable": false,
    "nbgrader": {
     "cell_type": "code",
     "checksum": "4d0e9f9b71377bf8a52d6526abf7834f",
     "grade": false,
     "grade_id": "cell-9129e8637bed35d3",
     "locked": false,
     "schema_version": 3,
     "solution": true,
     "task": false
    }
   },
   "outputs": [],
   "source": [
    "def relu(x):\n",
    "    '''\n",
    "    Rectified linear unit.\n",
    "\n",
    "    [input]\n",
    "    * x: numpy.ndarray\n",
    "\n",
    "    [output]\n",
    "    * y: numpy.ndarray\n",
    "    '''\n",
    "    # YOUR CODE HERE\n",
    "    y = np.maximum(x, 0)\n",
    "    # raise NotImplementedError()\n",
    "    return y\n"
   ]
  },
  {
   "cell_type": "markdown",
   "id": "cec570ad",
   "metadata": {
    "deletable": false,
    "editable": false,
    "nbgrader": {
     "cell_type": "markdown",
     "checksum": "850072d50afe0d0486db01d3c3dc028e",
     "grade": false,
     "grade_id": "cell-bbe9e052ed717774",
     "locked": true,
     "schema_version": 3,
     "solution": false,
     "task": false
    }
   },
   "source": [
    "``max_pool2d(x,size):``\n",
    "\n",
    "a function that shall perform max pooling over $x$ using a receptive field of size $size$ $\\times$ $size$ (we assume a square receptive field here for simplicity).\n",
    "\n",
    "  If the function receives a multi-channel input, then it should apply the max pooling operation across each input channel independently.\n",
    "  \n",
    "(Hint: making use of smart array indexing can drastically speed up the code.)"
   ]
  },
  {
   "cell_type": "code",
   "execution_count": 4,
   "id": "77126b1a",
   "metadata": {
    "deletable": false,
    "nbgrader": {
     "cell_type": "code",
     "checksum": "cc3d9525fa5233cbcb1a2288e5408d1d",
     "grade": false,
     "grade_id": "cell-c1438c61d632ab1e",
     "locked": false,
     "schema_version": 3,
     "solution": true,
     "task": false
    }
   },
   "outputs": [],
   "source": [
    "def max_pool2d(x,size):\n",
    "    '''\n",
    "    2D max pooling operation.\n",
    "\n",
    "    [input]\n",
    "    * x: numpy.ndarray of shape (H,W,input_dim)\n",
    "    * size: pooling receptive field\n",
    "\n",
    "    [output]\n",
    "    * y: numpy.ndarray of shape (H/size,W/size,input_dim)\n",
    "    '''\n",
    "    h, w, dims = x.shape\n",
    "    ind1 = np.floor(h/size).astype(int)\n",
    "    ind2 = np.floor(w/size).astype(int)\n",
    "    \n",
    "    pooled_arr = np.zeros((ind1, ind2, dims))\n",
    "    '''\n",
    "    \n",
    "    HINTS:\n",
    "    1.> estimate the shape you need to apply the pooling operation.\n",
    "    2.> We can smart fill the padding with np.nan and then use np.nanmax to select the max (avoiding nan)\n",
    "    3.> We can input the grid (start_x:end_x, start_y:end_y, dim) as smart array indexing to np.nanmax\n",
    "    '''\n",
    "    # YOUR CODE HERE\n",
    "    for k in range(dims):\n",
    "        for i in range(ind1):\n",
    "            for j in range(ind2):\n",
    "                pooled_arr[i,j, k] = np.max(x[i*size:(i+1)*size, j*size:(j+1)*size, k]) \n",
    "    \n",
    "                                            \n",
    "    return pooled_arr"
   ]
  },
  {
   "cell_type": "markdown",
   "id": "2f934916",
   "metadata": {
    "deletable": false,
    "editable": false,
    "nbgrader": {
     "cell_type": "markdown",
     "checksum": "3a30a5e18db579607d17478cb28066cc",
     "grade": false,
     "grade_id": "cell-a0d2f5e224adba0f",
     "locked": true,
     "schema_version": 3,
     "solution": false,
     "task": false
    }
   },
   "source": [
    "``linear(x,W,b):``\n",
    "\n",
    "a function that will compute a node vector where each element is a linear combination of the input nodes, written as\n",
    "\n",
    "\\begin{equation}\n",
    "\\mathbf{y}[j] = \\sum_{k=1}^{K}\\mathbf{W}[j,k] \\mathbf{x}[k] + \\mathbf{b}[j] \n",
    "\\end{equation}\n",
    "\n",
    "or more succinctly in vector form as $\\mathbf{y} = \\mathbf{W} \\mathbf{x} + \\mathbf{b}$ - where $\\mathbf{x}$ is the $(K \\times 1)$ input node vector, $\\mathbf{W}$ is the $(J \\times K)$ weight matrix, $\\mathbf{b}$ is the $(J \\times 1)$ bias vector and $\\mathbf{y}$ is the~$(J \\times 1)$ output node vector.\n",
    "\n",
    "You should not need for-loops to implement this function."
   ]
  },
  {
   "cell_type": "code",
   "execution_count": 5,
   "id": "b10c3744",
   "metadata": {
    "deletable": false,
    "nbgrader": {
     "cell_type": "code",
     "checksum": "83ed8dacb1fb983d4d1f336de7601abc",
     "grade": false,
     "grade_id": "cell-aee1e87151903086",
     "locked": false,
     "schema_version": 3,
     "solution": true,
     "task": false
    }
   },
   "outputs": [],
   "source": [
    "def linear(x,W,b):\n",
    "    '''\n",
    "    Fully-connected layer.\n",
    "\n",
    "    [input]\n",
    "    * x: numpy.ndarray of shape (input_dim)\n",
    "    * weight: numpy.ndarray of shape (output_dim,input_dim)\n",
    "    * bias: numpy.ndarray of shape (output_dim)\n",
    "\n",
    "    [output]\n",
    "    * y: numpy.ndarray of shape (output_dim)\n",
    "    '''\n",
    "    \n",
    "    # YOUR CODE HERE\n",
    "    y = (W @ x) + b\n",
    "    # raise NotImplementedError()\n",
    "    return y"
   ]
  },
  {
   "cell_type": "markdown",
   "id": "c336b9bc",
   "metadata": {
    "deletable": false,
    "editable": false,
    "nbgrader": {
     "cell_type": "markdown",
     "checksum": "146fa6565ac543a5086ff5c24eeb6585",
     "grade": false,
     "grade_id": "cell-54047ba1b7802e8e",
     "locked": true,
     "schema_version": 3,
     "solution": false,
     "task": false
    }
   },
   "source": [
    "You should ignore all ``DropoutLayer`` you encounter; they're functional only during the training phase."
   ]
  },
  {
   "cell_type": "markdown",
   "id": "84b47ce6",
   "metadata": {
    "deletable": false,
    "editable": false,
    "nbgrader": {
     "cell_type": "markdown",
     "checksum": "2a6f29fbda60148eaaac3fb8e7f4b89d",
     "grade": false,
     "grade_id": "cell-5491f084ad832f2f",
     "locked": true,
     "schema_version": 3,
     "solution": false,
     "task": false
    }
   },
   "source": [
    "VGG-16 assumes that all input imagery to the network is resized to $224 \\times 224$ with the three color channels preserved (use ``skimage.transform.resize()`` to do this before passing any imagery to the network). And be sure to normalize the image using suggested mean and std before extracting the feature:\n",
    "```\n",
    "                                        mean=[0.485,0.456,0.406]}\n",
    "                                        std=[0.229,0.224,0.225]}\n",
    "```"
   ]
  },
  {
   "cell_type": "code",
   "execution_count": 4,
   "id": "f96a0ffa",
   "metadata": {
    "deletable": false,
    "nbgrader": {
     "cell_type": "code",
     "checksum": "9656d91025bba1426dd161ada89c41ec",
     "grade": false,
     "grade_id": "cell-7d0ed28aa0f1bffb",
     "locked": false,
     "schema_version": 3,
     "solution": true,
     "task": false
    }
   },
   "outputs": [],
   "source": [
    "def preprocess_image(image):\n",
    "    '''\n",
    "    Preprocesses the image to load into the prebuilt network.\n",
    "\n",
    "    [input]\n",
    "    * image: numpy.ndarray of shape (H,W,3)\n",
    "\n",
    "    [output]\n",
    "    * image_processed: torch.array of shape (3,H,W)\n",
    "    '''\n",
    "\n",
    "    # ----- TODO -----\n",
    "    \n",
    "    if(len(image.shape) == 2):\n",
    "        image = np.stack((image, image, image), axis=-1)\n",
    "\n",
    "    if(image.shape == 3 and image.shape[2] == 1):\n",
    "        image = np.concatenate((image, image, image), axis=-1)\n",
    "\n",
    "    if(image.shape[2] == 4):\n",
    "        image = image[:, :, 0:3]\n",
    "    '''\n",
    "    HINTS:\n",
    "    1.> Resize the image (look into skimage.transform.resize)\n",
    "    2.> normalize the image\n",
    "    3.> convert the image from numpy to torch\n",
    "    '''\n",
    "    # YOUR CODE HERE\n",
    "    image = skimage.transform.resize(image, (224, 224))\n",
    "    mean = np.array([0.485,0.456,0.406])\n",
    "    std = np.array([0.229,0.224,0.225])\n",
    "    M = np.tile(mean, (image.shape[0], image.shape[1], 1))\n",
    "    S = np.tile(std, (image.shape[0], image.shape[1], 1))\n",
    "    image = np.divide((image - M),S)\n",
    "    image = np.transpose(image, (2, 0, 1))\n",
    "    image_processed = torch.from_numpy(image)\n",
    "       \n",
    "    # raise NotImplementedError()\n",
    "    return image_processed"
   ]
  },
  {
   "cell_type": "markdown",
   "id": "6efb456f",
   "metadata": {
    "deletable": false,
    "editable": false,
    "nbgrader": {
     "cell_type": "markdown",
     "checksum": "8725f2cb95e93f82c875bce123ee6c4c",
     "grade": false,
     "grade_id": "cell-1cede50aa78672ed",
     "locked": true,
     "schema_version": 3,
     "solution": false,
     "task": false
    }
   },
   "source": [
    "For efficiency you should check that each sub-function is working properly before putting them all together - otherwise it will be hard to track any errors. To compare your implementation with pytroch, you should compare the extracted features between your ``extract_deep_feature``  and the pre-trained VGG-16 network.  ``evaluate_deep_extractor`` should come in handy in comparing the result of the two extracted features."
   ]
  },
  {
   "cell_type": "code",
   "execution_count": 85,
   "id": "9cc3e81d",
   "metadata": {
    "deletable": false,
    "nbgrader": {
     "cell_type": "code",
     "checksum": "3c391c1be80d17baab19771e8a946935",
     "grade": false,
     "grade_id": "cell-27d0fcec8607c9f3",
     "locked": false,
     "schema_version": 3,
     "solution": true,
     "task": false
    }
   },
   "outputs": [],
   "source": [
    "def extract_deep_feature(x, vgg16_weights):\n",
    "    '''\n",
    "    Extracts deep features from the given VGG-16 weights.\n",
    "\n",
    "    [input]\n",
    "    * x: numpy.ndarray of shape (H,W,3)\n",
    "    * vgg16_weights: list of shape (L,3)\n",
    "\n",
    "    [output]\n",
    "    * feat: numpy.ndarray of shape (K)\n",
    "    '''\n",
    "    \n",
    "    feat = np.copy(x)\n",
    "    nlayers = 34\n",
    "    for l in range(nlayers):\n",
    "        if (vgg16_weights[l][0] == \"conv2d\"):\n",
    "            feat = multichannel_conv2d(feat, vgg16_weights[l][1], vgg16_weights[l][2])\n",
    "        if (vgg16_weights[l][0] == \"relu\"):\n",
    "            feat = relu(feat)\n",
    "        if (vgg16_weights[l][0] == \"maxpool2d\"):\n",
    "            feat = max_pool2d(feat,vgg16_weights[l][1])\n",
    "        if (vgg16_weights[l][0] == \"linear\"):\n",
    "            if (len(feat.shape) == 3):\n",
    "                feat = np.transpose(feat, (2, 0, 1))\n",
    "                feat = feat.flatten()\n",
    "            feat = linear(feat, vgg16_weights[l][1], vgg16_weights[l][2])\n",
    "    # YOUR CODE HERE\n",
    "    # raise NotImplementedError()\n",
    "    return feat"
   ]
  },
  {
   "cell_type": "code",
   "execution_count": 86,
   "id": "23803b61",
   "metadata": {
    "deletable": false,
    "editable": false,
    "nbgrader": {
     "cell_type": "code",
     "checksum": "1957f46435c9183a7cb810f8b189c160",
     "grade": false,
     "grade_id": "cell-83df22bcc6adc770",
     "locked": true,
     "schema_version": 3,
     "solution": false,
     "task": false
    }
   },
   "outputs": [],
   "source": [
    "def evaluate_deep_extractor(img, vgg16):\n",
    "    '''\n",
    "    Evaluates the deep feature extractor for a single image.\n",
    "\n",
    "    [input]\n",
    "    * image: numpy.ndarray of shape (H,W,3)\n",
    "    * vgg16: prebuilt VGG-16 network.\n",
    "\n",
    "    [output]\n",
    "    * diff: difference between the two feature extractor's result\n",
    "    '''\n",
    "    \n",
    "    vgg16_weights = util.get_VGG16_weights()\n",
    "    img_torch = preprocess_image(img)\n",
    "    \n",
    "    feat = extract_deep_feature(np.transpose(img_torch.numpy(), (1,2,0)), vgg16_weights)\n",
    "    \n",
    "    with torch.no_grad():\n",
    "        vgg_classifier = torch.nn.Sequential(*list(vgg16.classifier.children())[:-3])\n",
    "        vgg_feat_feat = vgg16.features(img_torch[None, ])\n",
    "        vgg_feat_feat = vgg_classifier(vgg_feat_feat.flatten())\n",
    "    \n",
    "    return np.sum(np.abs(vgg_feat_feat.numpy() - feat))"
   ]
  },
  {
   "cell_type": "code",
   "execution_count": 89,
   "id": "5d135033-1f1d-489a-9f11-fa5f91b2ca5a",
   "metadata": {},
   "outputs": [
    {
     "name": "stdout",
     "output_type": "stream",
     "text": [
      "Error 2.439532950648804e-12\n"
     ]
    }
   ],
   "source": [
    "path_img = \"./data/aquarium/sun_aztvjgubyrgvirup.jpg\"\n",
    "image = io.imread(path_img)\n",
    "image = image.astype('float')/255\n",
    "\n",
    "vgg16 = torchvision.models.vgg16(pretrained=True).double()\n",
    "vgg16.eval()\n",
    "# vgg16_weights = util.get_VGG16_weights()\n",
    "# img_torch = preprocess_image(image)\n",
    "    \n",
    "# feat = extract_deep_feature(np.transpose(img_torch.numpy(), (1,2,0)), vgg16_weights)\n",
    "# feat3 = feat.reshape((4, 4, 256))\n",
    "# feat4 = np.transpose(feat3, (1, 2, 0)).flatten()\n",
    "    \n",
    "# with torch.no_grad():\n",
    "#     vgg_classifier = torch.nn.Sequential(*list(vgg16.classifier.children())[:-3])\n",
    "#     vgg_feat_feat = vgg16.features(img_torch[None, ])\n",
    "#     vgg_feat_feat = vgg_classifier(vgg_feat_feat.flatten())\n",
    "    \n",
    "# feat2 = np.sum(np.abs(vgg_feat_feat.numpy() - feat4))\n",
    "\n",
    "feat2 = evaluate_deep_extractor(image, vgg16)\n",
    "\n",
    "print(\"Error\", feat2)\n",
    "# print(np.linalg.norm(feat1,feat2))\n"
   ]
  },
  {
   "cell_type": "markdown",
   "id": "9f5176d7",
   "metadata": {
    "deletable": false,
    "editable": false,
    "nbgrader": {
     "cell_type": "markdown",
     "checksum": "0f71d40e5082c99099739ccd3b77548d",
     "grade": false,
     "grade_id": "cell-b841ba750b9c0b46",
     "locked": true,
     "schema_version": 3,
     "solution": false,
     "task": false
    }
   },
   "source": [
    "### Building a Visual Recognition System: Revisited\n",
    "\n",
    "We want to compare how useful deep features are in a visual recognition system. Since the speed of the function ``` scipy.ndimage.convolve``` is not ideal, you can use the pytroch VGG-16 network directly (refer to the helper function ```evaluate_deep_extractor``` on how to use the pre-trained network as feature extractor).\n",
    "\n",
    "#### Q4.2.1 (5 Points Autograder + WriteUp):\n",
    "Implement the functions\n",
    "```\n",
    "                    def build_recognition_system(vgg16):\n",
    "```\n",
    "and\n",
    "```\n",
    "                    def eval_recognition_system(vgg16)}\n",
    "```\n",
    "both of which takes the pretrained VGG-16 network as the input arguments. \n",
    "\n",
    "The former function should produce ``trained_system_deep.npz`` as the output. \n",
    "\n",
    "Included will be:\n",
    "* $features$ : a $N \\times  K$ matrix containing all the deep features of the $N$ training images in the data set.\n",
    "* $labels$ : an $N$ vector containing the labels of each of the images. ($features[i]$ will correspond to label $labels[i]$).\n",
    "\n",
    "The latter function should produce the confusion matrix, as with the previous question.\n",
    "\n",
    "Instead of using the histogram intersection similarity, write a function to just use the negative Euclidean distance (as larger values are more similar).\n",
    "\n",
    "**Report the confusion matrix and accuracy for your results in your write-up. Can you comment in your writeup on whether the results are better or worse than classical BoW - why do you think that is?**"
   ]
  },
  {
   "cell_type": "code",
   "execution_count": 11,
   "id": "29eef544",
   "metadata": {
    "deletable": false,
    "nbgrader": {
     "cell_type": "code",
     "checksum": "addc54e85c5948aba2bcf80cc2072e86",
     "grade": false,
     "grade_id": "cell-998a996bb091f4c9",
     "locked": false,
     "schema_version": 3,
     "solution": true,
     "task": false
    }
   },
   "outputs": [],
   "source": [
    "def get_image_feature(args):\n",
    "    '''\n",
    "    Extracts deep features from the prebuilt VGG-16 network.\n",
    "    This is a function run by a subprocess.\n",
    "    [input]\n",
    "    * i: index of training image\n",
    "    * image_path: path of image file\n",
    "    * vgg16: prebuilt VGG-16 network.\n",
    "    \n",
    "    [output]\n",
    "    * feat: evaluated deep feature\n",
    "    '''\n",
    "    i, image_path, vgg16 = args\n",
    "    image = io.imread(image_path)\n",
    "    image = image.astype('float')/255\n",
    "    img_torch = preprocess_image(image)\n",
    "    #for \n",
    "    '''\n",
    "    HINTS:\n",
    "    1.> Think along the lines of evaluate_deep_extractor\n",
    "    '''\n",
    "    # ----- TODO -----\n",
    "    # YOUR CODE HERE\n",
    "    with torch.no_grad():\n",
    "        vgg_classifier = torch.nn.Sequential(*list(vgg16.classifier.children())[:-3])\n",
    "        vgg_feat_feat = vgg16.features(img_torch[None, ])\n",
    "        vgg_feat_feat = vgg_classifier(vgg_feat_feat.flatten())\n",
    "    feat = vgg_feat_feat.numpy()\n",
    "    # raise NotImplementedError()\n",
    "    return [i,feat]"
   ]
  },
  {
   "cell_type": "code",
   "execution_count": 12,
   "id": "7ab97e2d",
   "metadata": {
    "deletable": false,
    "nbgrader": {
     "cell_type": "code",
     "checksum": "690e046304f5925ce2bbfbae43d83828",
     "grade": false,
     "grade_id": "cell-df193a9dbf349af9",
     "locked": false,
     "schema_version": 3,
     "solution": true,
     "task": false
    }
   },
   "outputs": [],
   "source": [
    "def build_recognition_system(vgg16, num_workers=2):\n",
    "    '''\n",
    "    Creates a trained recognition system by generating training features from all training images.\n",
    "\n",
    "    [input]\n",
    "    * vgg16: prebuilt VGG-16 network.\n",
    "    * num_workers: number of workers to process in parallel\n",
    "\n",
    "    [saved]\n",
    "    * features: numpy.ndarray of shape (N,K)\n",
    "    * labels: numpy.ndarray of shape (N)\n",
    "    '''\n",
    "\n",
    "    train_data = np.load(\"./data/train_data.npz\", allow_pickle=True)\n",
    "    image_names = train_data['files']\n",
    "    labels = train_data['labels']\n",
    "    num_images = image_names.shape[0]\n",
    "    '''\n",
    "    HINTS:\n",
    "    1.> Similar approach as Q1.2.2 and Q3.1.1 (create an argument list and use multiprocessing)\n",
    "    2.> Keep track of the order in which input is given to multiprocessing\n",
    "    '''\n",
    "    # YOUR CODE HERE\n",
    "    # raise NotImplementedError()\n",
    "    # ordered_features = [None] * len(features)\n",
    "    out = []\n",
    "    for i in range(num_images):\n",
    "        full_image_name = './data/' + image_names[i]\n",
    "        out.append(get_image_feature([i, full_image_name, vgg16])[1])\n",
    "    ordered_features = np.concatenate(np.expand_dims(out, axis = 0), axis = 1)\n",
    "    '''\n",
    "    HINTS:\n",
    "    1.> reorder the features to their correct place as input\n",
    "    '''\n",
    "    # YOUR CODE HERE\n",
    "    # raise NotImplementedError()\n",
    "    print(\"done\", ordered_features.shape)\n",
    "    \n",
    "    np.savez('trained_system_deep.npz', features=ordered_features, labels=labels)"
   ]
  },
  {
   "cell_type": "code",
   "execution_count": 13,
   "id": "b9d51250-8cde-4d96-9c13-05dce8b7d083",
   "metadata": {},
   "outputs": [],
   "source": [
    "# vgg16 = torchvision.models.vgg16(pretrained=True).double()\n",
    "# vgg16.eval()\n",
    "# build_recognition_system(vgg16, num_workers=6)"
   ]
  },
  {
   "cell_type": "code",
   "execution_count": 20,
   "id": "357651ab",
   "metadata": {
    "deletable": false,
    "nbgrader": {
     "cell_type": "code",
     "checksum": "d99e8eff30887e39239fe479c99a33a6",
     "grade": false,
     "grade_id": "cell-c7bb13cc505da9dc",
     "locked": false,
     "schema_version": 3,
     "solution": true,
     "task": false
    }
   },
   "outputs": [],
   "source": [
    "\n",
    "def helper_func(file_path, vgg16, trained_features, train_labels):\n",
    "    # YOUR CODE HERE\n",
    "    #raise NotImplementedError()\n",
    "    image = io.imread(file_path)\n",
    "    image = image.astype('float')/255\n",
    "    img_torch = preprocess_image(image)\n",
    "    #for \n",
    "    '''\n",
    "    HINTS:\n",
    "    1.> Think along the lines of evaluate_deep_extractor\n",
    "    '''\n",
    "    # ----- TODO -----\n",
    "    # YOUR CODE HERE\n",
    "    with torch.no_grad():\n",
    "        vgg_classifier = torch.nn.Sequential(*list(vgg16.classifier.children())[:-3])\n",
    "        vgg_feat_feat = vgg16.features(img_torch[None, ])\n",
    "        vgg_feat_feat = vgg_classifier(vgg_feat_feat.flatten())\n",
    "    test_feature = vgg_feat_feat.numpy()\n",
    "    dist_test = np.tile(test_feature, (trained_features.shape[0], 1))\n",
    "    distances = np.sum((dist_test - trained_features)**2, axis = 1)\n",
    "    # print(np.min(distances))\n",
    "    nearest_image_idx = np.argmin(distances)\n",
    "    pred_label = train_labels[nearest_image_idx]\n",
    "    i = nearest_image_idx\n",
    "    \n",
    "    return [i, pred_label]\n",
    "\n",
    "\n",
    "def evaluate_recognition_system(vgg16, num_workers=2):\n",
    "    '''\n",
    "    Evaluates the recognition system for all test images and returns the confusion matrix.\n",
    "\n",
    "    [input]\n",
    "    * vgg16: prebuilt VGG-16 network.\n",
    "    * num_workers: number of workers to process in parallel\n",
    "\n",
    "    [output]\n",
    "    * conf: numpy.ndarray of shape (8,8)\n",
    "    * accuracy: accuracy of the evaluated system\n",
    "    '''\n",
    "    '''\n",
    "    HINTS:\n",
    "    (1) Students can write helper functions (in this cell) to use multi-processing\n",
    "    '''\n",
    "    test_data = np.load(\"./data/test_data.npz\", allow_pickle=True)\n",
    "\n",
    "    # ----- TODO -----\n",
    "    trained_system = np.load(\"trained_system_deep.npz\", allow_pickle=True)\n",
    "    image_names = test_data['files']\n",
    "    test_labels = test_data['labels']\n",
    "\n",
    "    trained_features = trained_system['features']\n",
    "    train_labels = trained_system['labels']\n",
    "\n",
    "    print(\"Trained features shape: \", trained_features.shape)\n",
    "    \n",
    "    '''\n",
    "    HINTS:\n",
    "    1.> [Important] Can write a helper function in this cell of jupyter notebook for multiprocessing\n",
    "    \n",
    "    2.> Helper function will compute the vgg features for test image (get_image_feature) and find closest\n",
    "        matching feature from trained_features.\n",
    "    \n",
    "    3.> Since trained feature is of shape (N,K) -> smartly repeat the test image feature N times (bring it to\n",
    "        same shape as (N,K)). Then we can simply compute distance in a vectorized way.\n",
    "    \n",
    "    4.> Distance here can be sum over (a-b)**2\n",
    "    \n",
    "    5.> np.argmin over distance can give the closest point\n",
    "    '''\n",
    "    # YOUR CODE HERE\n",
    "    num_test_images = image_names.shape[0]\n",
    "    test_preds = []\n",
    "    for i in range(num_test_images):\n",
    "        full_image_name = './data/' + image_names[i]\n",
    "        out = helper_func(full_image_name,vgg16, trained_features, train_labels)\n",
    "        test_preds.append(out[1])\n",
    "    \n",
    "    \n",
    "    ordered_labels = np.array(test_preds, dtype=int)\n",
    "    # raise NotImplementedError()\n",
    "\n",
    "    print(\"Predicted labels shape: \", ordered_labels.shape)\n",
    "    \n",
    "    '''\n",
    "    HINTS:\n",
    "    1.> Compute the confusion matrix (8x8)\n",
    "    '''\n",
    "    # YOUR CODE HERE\n",
    "    conf_matrix = np.zeros((8, 8))\n",
    "    for i in range(num_test_images):\n",
    "        x = ordered_labels[i]\n",
    "        y = test_labels[i]\n",
    "        conf_matrix[x,y] = conf_matrix[x,y] + 1\n",
    "    \n",
    "    # print(conf_matrix.shape)\n",
    "    accuracy = (np.trace(conf_matrix)/np.sum(conf_matrix))*100\n",
    "    # raise NotImplementedError()\n",
    "    \n",
    "    print(\"\\n\")\n",
    "    print(\" Accuracy =\",accuracy, \"%\") \n",
    "    np.save(\"./trained_conf_matrix.npy\",conf_matrix)\n",
    "    return conf_matrix, accuracy\n",
    "    # pass"
   ]
  },
  {
   "cell_type": "code",
   "execution_count": 19,
   "id": "a2ac09cf-a06d-42d8-bba5-2cc648e32782",
   "metadata": {},
   "outputs": [
    {
     "name": "stdout",
     "output_type": "stream",
     "text": [
      "Trained features shape:  (1000, 4096)\n",
      "6123.703668884606\n",
      "6088.3167643733395\n",
      "8049.361762591481\n",
      "5071.5338401085955\n",
      "3729.408361742566\n",
      "1672.5744703717482\n",
      "5354.832007173931\n",
      "7112.405824826723\n",
      "4098.866950523543\n",
      "4701.423194858753\n",
      "2194.5674834978\n",
      "6103.762023085709\n",
      "1553.1896109700879\n",
      "1199.0886744251982\n"
     ]
    },
    {
     "ename": "KeyboardInterrupt",
     "evalue": "",
     "output_type": "error",
     "traceback": [
      "\u001b[1;31m---------------------------------------------------------------------------\u001b[0m",
      "\u001b[1;31mKeyboardInterrupt\u001b[0m                         Traceback (most recent call last)",
      "\u001b[1;32m<ipython-input-19-00b3e07c4b0a>\u001b[0m in \u001b[0;36m<module>\u001b[1;34m\u001b[0m\n\u001b[0;32m      1\u001b[0m \u001b[0mvgg16\u001b[0m \u001b[1;33m=\u001b[0m \u001b[0mtorchvision\u001b[0m\u001b[1;33m.\u001b[0m\u001b[0mmodels\u001b[0m\u001b[1;33m.\u001b[0m\u001b[0mvgg16\u001b[0m\u001b[1;33m(\u001b[0m\u001b[0mpretrained\u001b[0m\u001b[1;33m=\u001b[0m\u001b[1;32mTrue\u001b[0m\u001b[1;33m)\u001b[0m\u001b[1;33m.\u001b[0m\u001b[0mdouble\u001b[0m\u001b[1;33m(\u001b[0m\u001b[1;33m)\u001b[0m\u001b[1;33m\u001b[0m\u001b[1;33m\u001b[0m\u001b[0m\n\u001b[0;32m      2\u001b[0m \u001b[0mvgg16\u001b[0m\u001b[1;33m.\u001b[0m\u001b[0meval\u001b[0m\u001b[1;33m(\u001b[0m\u001b[1;33m)\u001b[0m\u001b[1;33m\u001b[0m\u001b[1;33m\u001b[0m\u001b[0m\n\u001b[1;32m----> 3\u001b[1;33m \u001b[0mevaluate_recognition_system\u001b[0m\u001b[1;33m(\u001b[0m\u001b[0mvgg16\u001b[0m\u001b[1;33m)\u001b[0m\u001b[1;33m\u001b[0m\u001b[1;33m\u001b[0m\u001b[0m\n\u001b[0m",
      "\u001b[1;32m<ipython-input-18-ec31ee1c9715>\u001b[0m in \u001b[0;36mevaluate_recognition_system\u001b[1;34m(vgg16, num_workers)\u001b[0m\n\u001b[0;32m     74\u001b[0m     \u001b[1;32mfor\u001b[0m \u001b[0mi\u001b[0m \u001b[1;32min\u001b[0m \u001b[0mrange\u001b[0m\u001b[1;33m(\u001b[0m\u001b[0mnum_test_images\u001b[0m\u001b[1;33m)\u001b[0m\u001b[1;33m:\u001b[0m\u001b[1;33m\u001b[0m\u001b[1;33m\u001b[0m\u001b[0m\n\u001b[0;32m     75\u001b[0m         \u001b[0mfull_image_name\u001b[0m \u001b[1;33m=\u001b[0m \u001b[1;34m'./data/'\u001b[0m \u001b[1;33m+\u001b[0m \u001b[0mimage_names\u001b[0m\u001b[1;33m[\u001b[0m\u001b[0mi\u001b[0m\u001b[1;33m]\u001b[0m\u001b[1;33m\u001b[0m\u001b[1;33m\u001b[0m\u001b[0m\n\u001b[1;32m---> 76\u001b[1;33m         \u001b[0mout\u001b[0m \u001b[1;33m=\u001b[0m \u001b[0mhelper_func\u001b[0m\u001b[1;33m(\u001b[0m\u001b[0mfull_image_name\u001b[0m\u001b[1;33m,\u001b[0m\u001b[0mvgg16\u001b[0m\u001b[1;33m,\u001b[0m \u001b[0mtrained_features\u001b[0m\u001b[1;33m,\u001b[0m \u001b[0mtrain_labels\u001b[0m\u001b[1;33m)\u001b[0m\u001b[1;33m\u001b[0m\u001b[1;33m\u001b[0m\u001b[0m\n\u001b[0m\u001b[0;32m     77\u001b[0m         \u001b[0mtest_preds\u001b[0m\u001b[1;33m.\u001b[0m\u001b[0mappend\u001b[0m\u001b[1;33m(\u001b[0m\u001b[0mout\u001b[0m\u001b[1;33m[\u001b[0m\u001b[1;36m1\u001b[0m\u001b[1;33m]\u001b[0m\u001b[1;33m)\u001b[0m\u001b[1;33m\u001b[0m\u001b[1;33m\u001b[0m\u001b[0m\n\u001b[0;32m     78\u001b[0m \u001b[1;33m\u001b[0m\u001b[0m\n",
      "\u001b[1;32m<ipython-input-18-ec31ee1c9715>\u001b[0m in \u001b[0;36mhelper_func\u001b[1;34m(file_path, vgg16, trained_features, train_labels)\u001b[0m\n\u001b[0;32m     14\u001b[0m     \u001b[1;32mwith\u001b[0m \u001b[0mtorch\u001b[0m\u001b[1;33m.\u001b[0m\u001b[0mno_grad\u001b[0m\u001b[1;33m(\u001b[0m\u001b[1;33m)\u001b[0m\u001b[1;33m:\u001b[0m\u001b[1;33m\u001b[0m\u001b[1;33m\u001b[0m\u001b[0m\n\u001b[0;32m     15\u001b[0m         \u001b[0mvgg_classifier\u001b[0m \u001b[1;33m=\u001b[0m \u001b[0mtorch\u001b[0m\u001b[1;33m.\u001b[0m\u001b[0mnn\u001b[0m\u001b[1;33m.\u001b[0m\u001b[0mSequential\u001b[0m\u001b[1;33m(\u001b[0m\u001b[1;33m*\u001b[0m\u001b[0mlist\u001b[0m\u001b[1;33m(\u001b[0m\u001b[0mvgg16\u001b[0m\u001b[1;33m.\u001b[0m\u001b[0mclassifier\u001b[0m\u001b[1;33m.\u001b[0m\u001b[0mchildren\u001b[0m\u001b[1;33m(\u001b[0m\u001b[1;33m)\u001b[0m\u001b[1;33m)\u001b[0m\u001b[1;33m[\u001b[0m\u001b[1;33m:\u001b[0m\u001b[1;33m-\u001b[0m\u001b[1;36m3\u001b[0m\u001b[1;33m]\u001b[0m\u001b[1;33m)\u001b[0m\u001b[1;33m\u001b[0m\u001b[1;33m\u001b[0m\u001b[0m\n\u001b[1;32m---> 16\u001b[1;33m         \u001b[0mvgg_feat_feat\u001b[0m \u001b[1;33m=\u001b[0m \u001b[0mvgg16\u001b[0m\u001b[1;33m.\u001b[0m\u001b[0mfeatures\u001b[0m\u001b[1;33m(\u001b[0m\u001b[0mimg_torch\u001b[0m\u001b[1;33m[\u001b[0m\u001b[1;32mNone\u001b[0m\u001b[1;33m,\u001b[0m \u001b[1;33m]\u001b[0m\u001b[1;33m)\u001b[0m\u001b[1;33m\u001b[0m\u001b[1;33m\u001b[0m\u001b[0m\n\u001b[0m\u001b[0;32m     17\u001b[0m         \u001b[0mvgg_feat_feat\u001b[0m \u001b[1;33m=\u001b[0m \u001b[0mvgg_classifier\u001b[0m\u001b[1;33m(\u001b[0m\u001b[0mvgg_feat_feat\u001b[0m\u001b[1;33m.\u001b[0m\u001b[0mflatten\u001b[0m\u001b[1;33m(\u001b[0m\u001b[1;33m)\u001b[0m\u001b[1;33m)\u001b[0m\u001b[1;33m\u001b[0m\u001b[1;33m\u001b[0m\u001b[0m\n\u001b[0;32m     18\u001b[0m     \u001b[0mtest_feature\u001b[0m \u001b[1;33m=\u001b[0m \u001b[0mvgg_feat_feat\u001b[0m\u001b[1;33m.\u001b[0m\u001b[0mnumpy\u001b[0m\u001b[1;33m(\u001b[0m\u001b[1;33m)\u001b[0m\u001b[1;33m\u001b[0m\u001b[1;33m\u001b[0m\u001b[0m\n",
      "\u001b[1;32m~\\AppData\\Local\\Programs\\Python\\Python37\\lib\\site-packages\\torch\\nn\\modules\\module.py\u001b[0m in \u001b[0;36m_call_impl\u001b[1;34m(self, *input, **kwargs)\u001b[0m\n\u001b[0;32m    887\u001b[0m             \u001b[0mresult\u001b[0m \u001b[1;33m=\u001b[0m \u001b[0mself\u001b[0m\u001b[1;33m.\u001b[0m\u001b[0m_slow_forward\u001b[0m\u001b[1;33m(\u001b[0m\u001b[1;33m*\u001b[0m\u001b[0minput\u001b[0m\u001b[1;33m,\u001b[0m \u001b[1;33m**\u001b[0m\u001b[0mkwargs\u001b[0m\u001b[1;33m)\u001b[0m\u001b[1;33m\u001b[0m\u001b[1;33m\u001b[0m\u001b[0m\n\u001b[0;32m    888\u001b[0m         \u001b[1;32melse\u001b[0m\u001b[1;33m:\u001b[0m\u001b[1;33m\u001b[0m\u001b[1;33m\u001b[0m\u001b[0m\n\u001b[1;32m--> 889\u001b[1;33m             \u001b[0mresult\u001b[0m \u001b[1;33m=\u001b[0m \u001b[0mself\u001b[0m\u001b[1;33m.\u001b[0m\u001b[0mforward\u001b[0m\u001b[1;33m(\u001b[0m\u001b[1;33m*\u001b[0m\u001b[0minput\u001b[0m\u001b[1;33m,\u001b[0m \u001b[1;33m**\u001b[0m\u001b[0mkwargs\u001b[0m\u001b[1;33m)\u001b[0m\u001b[1;33m\u001b[0m\u001b[1;33m\u001b[0m\u001b[0m\n\u001b[0m\u001b[0;32m    890\u001b[0m         for hook in itertools.chain(\n\u001b[0;32m    891\u001b[0m                 \u001b[0m_global_forward_hooks\u001b[0m\u001b[1;33m.\u001b[0m\u001b[0mvalues\u001b[0m\u001b[1;33m(\u001b[0m\u001b[1;33m)\u001b[0m\u001b[1;33m,\u001b[0m\u001b[1;33m\u001b[0m\u001b[1;33m\u001b[0m\u001b[0m\n",
      "\u001b[1;32m~\\AppData\\Local\\Programs\\Python\\Python37\\lib\\site-packages\\torch\\nn\\modules\\container.py\u001b[0m in \u001b[0;36mforward\u001b[1;34m(self, input)\u001b[0m\n\u001b[0;32m    117\u001b[0m     \u001b[1;32mdef\u001b[0m \u001b[0mforward\u001b[0m\u001b[1;33m(\u001b[0m\u001b[0mself\u001b[0m\u001b[1;33m,\u001b[0m \u001b[0minput\u001b[0m\u001b[1;33m)\u001b[0m\u001b[1;33m:\u001b[0m\u001b[1;33m\u001b[0m\u001b[1;33m\u001b[0m\u001b[0m\n\u001b[0;32m    118\u001b[0m         \u001b[1;32mfor\u001b[0m \u001b[0mmodule\u001b[0m \u001b[1;32min\u001b[0m \u001b[0mself\u001b[0m\u001b[1;33m:\u001b[0m\u001b[1;33m\u001b[0m\u001b[1;33m\u001b[0m\u001b[0m\n\u001b[1;32m--> 119\u001b[1;33m             \u001b[0minput\u001b[0m \u001b[1;33m=\u001b[0m \u001b[0mmodule\u001b[0m\u001b[1;33m(\u001b[0m\u001b[0minput\u001b[0m\u001b[1;33m)\u001b[0m\u001b[1;33m\u001b[0m\u001b[1;33m\u001b[0m\u001b[0m\n\u001b[0m\u001b[0;32m    120\u001b[0m         \u001b[1;32mreturn\u001b[0m \u001b[0minput\u001b[0m\u001b[1;33m\u001b[0m\u001b[1;33m\u001b[0m\u001b[0m\n\u001b[0;32m    121\u001b[0m \u001b[1;33m\u001b[0m\u001b[0m\n",
      "\u001b[1;32m~\\AppData\\Local\\Programs\\Python\\Python37\\lib\\site-packages\\torch\\nn\\modules\\module.py\u001b[0m in \u001b[0;36m_call_impl\u001b[1;34m(self, *input, **kwargs)\u001b[0m\n\u001b[0;32m    887\u001b[0m             \u001b[0mresult\u001b[0m \u001b[1;33m=\u001b[0m \u001b[0mself\u001b[0m\u001b[1;33m.\u001b[0m\u001b[0m_slow_forward\u001b[0m\u001b[1;33m(\u001b[0m\u001b[1;33m*\u001b[0m\u001b[0minput\u001b[0m\u001b[1;33m,\u001b[0m \u001b[1;33m**\u001b[0m\u001b[0mkwargs\u001b[0m\u001b[1;33m)\u001b[0m\u001b[1;33m\u001b[0m\u001b[1;33m\u001b[0m\u001b[0m\n\u001b[0;32m    888\u001b[0m         \u001b[1;32melse\u001b[0m\u001b[1;33m:\u001b[0m\u001b[1;33m\u001b[0m\u001b[1;33m\u001b[0m\u001b[0m\n\u001b[1;32m--> 889\u001b[1;33m             \u001b[0mresult\u001b[0m \u001b[1;33m=\u001b[0m \u001b[0mself\u001b[0m\u001b[1;33m.\u001b[0m\u001b[0mforward\u001b[0m\u001b[1;33m(\u001b[0m\u001b[1;33m*\u001b[0m\u001b[0minput\u001b[0m\u001b[1;33m,\u001b[0m \u001b[1;33m**\u001b[0m\u001b[0mkwargs\u001b[0m\u001b[1;33m)\u001b[0m\u001b[1;33m\u001b[0m\u001b[1;33m\u001b[0m\u001b[0m\n\u001b[0m\u001b[0;32m    890\u001b[0m         for hook in itertools.chain(\n\u001b[0;32m    891\u001b[0m                 \u001b[0m_global_forward_hooks\u001b[0m\u001b[1;33m.\u001b[0m\u001b[0mvalues\u001b[0m\u001b[1;33m(\u001b[0m\u001b[1;33m)\u001b[0m\u001b[1;33m,\u001b[0m\u001b[1;33m\u001b[0m\u001b[1;33m\u001b[0m\u001b[0m\n",
      "\u001b[1;32m~\\AppData\\Local\\Programs\\Python\\Python37\\lib\\site-packages\\torch\\nn\\modules\\conv.py\u001b[0m in \u001b[0;36mforward\u001b[1;34m(self, input)\u001b[0m\n\u001b[0;32m    397\u001b[0m \u001b[1;33m\u001b[0m\u001b[0m\n\u001b[0;32m    398\u001b[0m     \u001b[1;32mdef\u001b[0m \u001b[0mforward\u001b[0m\u001b[1;33m(\u001b[0m\u001b[0mself\u001b[0m\u001b[1;33m,\u001b[0m \u001b[0minput\u001b[0m\u001b[1;33m:\u001b[0m \u001b[0mTensor\u001b[0m\u001b[1;33m)\u001b[0m \u001b[1;33m->\u001b[0m \u001b[0mTensor\u001b[0m\u001b[1;33m:\u001b[0m\u001b[1;33m\u001b[0m\u001b[1;33m\u001b[0m\u001b[0m\n\u001b[1;32m--> 399\u001b[1;33m         \u001b[1;32mreturn\u001b[0m \u001b[0mself\u001b[0m\u001b[1;33m.\u001b[0m\u001b[0m_conv_forward\u001b[0m\u001b[1;33m(\u001b[0m\u001b[0minput\u001b[0m\u001b[1;33m,\u001b[0m \u001b[0mself\u001b[0m\u001b[1;33m.\u001b[0m\u001b[0mweight\u001b[0m\u001b[1;33m,\u001b[0m \u001b[0mself\u001b[0m\u001b[1;33m.\u001b[0m\u001b[0mbias\u001b[0m\u001b[1;33m)\u001b[0m\u001b[1;33m\u001b[0m\u001b[1;33m\u001b[0m\u001b[0m\n\u001b[0m\u001b[0;32m    400\u001b[0m \u001b[1;33m\u001b[0m\u001b[0m\n\u001b[0;32m    401\u001b[0m \u001b[1;32mclass\u001b[0m \u001b[0mConv3d\u001b[0m\u001b[1;33m(\u001b[0m\u001b[0m_ConvNd\u001b[0m\u001b[1;33m)\u001b[0m\u001b[1;33m:\u001b[0m\u001b[1;33m\u001b[0m\u001b[1;33m\u001b[0m\u001b[0m\n",
      "\u001b[1;32m~\\AppData\\Local\\Programs\\Python\\Python37\\lib\\site-packages\\torch\\nn\\modules\\conv.py\u001b[0m in \u001b[0;36m_conv_forward\u001b[1;34m(self, input, weight, bias)\u001b[0m\n\u001b[0;32m    394\u001b[0m                             _pair(0), self.dilation, self.groups)\n\u001b[0;32m    395\u001b[0m         return F.conv2d(input, weight, bias, self.stride,\n\u001b[1;32m--> 396\u001b[1;33m                         self.padding, self.dilation, self.groups)\n\u001b[0m\u001b[0;32m    397\u001b[0m \u001b[1;33m\u001b[0m\u001b[0m\n\u001b[0;32m    398\u001b[0m     \u001b[1;32mdef\u001b[0m \u001b[0mforward\u001b[0m\u001b[1;33m(\u001b[0m\u001b[0mself\u001b[0m\u001b[1;33m,\u001b[0m \u001b[0minput\u001b[0m\u001b[1;33m:\u001b[0m \u001b[0mTensor\u001b[0m\u001b[1;33m)\u001b[0m \u001b[1;33m->\u001b[0m \u001b[0mTensor\u001b[0m\u001b[1;33m:\u001b[0m\u001b[1;33m\u001b[0m\u001b[1;33m\u001b[0m\u001b[0m\n",
      "\u001b[1;31mKeyboardInterrupt\u001b[0m: "
     ]
    }
   ],
   "source": [
    "vgg16 = torchvision.models.vgg16(pretrained=True).double()\n",
    "vgg16.eval()\n",
    "evaluate_recognition_system(vgg16)"
   ]
  },
  {
   "cell_type": "code",
   "execution_count": 21,
   "id": "545a5547-ba0d-47e2-b953-e5e5115da4af",
   "metadata": {},
   "outputs": [
    {
     "data": {
      "text/plain": [
       "Text(33.0, 0.5, 'Predictions from Model')"
      ]
     },
     "execution_count": 21,
     "metadata": {},
     "output_type": "execute_result"
    },
    {
     "data": {
      "image/png": "[encoded data removed]",
      "text/plain": [
       "<Figure size 432x288 with 2 Axes>"
      ]
     },
     "metadata": {
      "needs_background": "light"
     },
     "output_type": "display_data"
    }
   ],
   "source": [
    "conf_matrix = np.array([[14.,  0.,  0.,  0.,  0.,  0.,  0.,  0.],\n",
    "        [ 0., 17.,  0.,  0.,  0.,  0.,  0.,  0.],\n",
    "        [ 0.,  0., 24.,  0.,  0.,  0.,  0.,  0.],\n",
    "        [ 0.,  0.,  0., 26.,  0.,  0.,  0.,  0.],\n",
    "        [ 0.,  0.,  0.,  0., 12.,  1.,  0.,  0.],\n",
    "        [ 0.,  0.,  0.,  0.,  1., 23.,  0.,  0.],\n",
    "        [ 0.,  0.,  0.,  0.,  0.,  0., 21.,  0.],\n",
    "        [ 0.,  1.,  1.,  0.,  0.,  0.,  0., 19.]])\n",
    "\n",
    "import seaborn as sns\n",
    "A = sns.heatmap(conf_matrix/np.sum(conf_matrix), annot=True, xticklabels = [ 'aquarium', 'park', 'desert', 'highway', 'kitchen', 'laundromat', 'waterfall', 'windmill'], yticklabels = [ 'aquarium', 'park', 'desert', 'highway', 'kitchen', 'laundromat', 'waterfall', 'windmill'], fmt='.2%', cmap='Blues')\n",
    "A.set_xlabel(\"Test Labels\")\n",
    "A.set_ylabel(\"Predictions from Model\")"
   ]
  },
  {
   "cell_type": "code",
   "execution_count": null,
   "id": "54c067d2",
   "metadata": {
    "deletable": false,
    "editable": false,
    "nbgrader": {
     "cell_type": "code",
     "checksum": "139b99f8d6775c060c31a5fd340b9143",
     "grade": true,
     "grade_id": "q_4_1_1",
     "locked": true,
     "points": 5,
     "schema_version": 3,
     "solution": false,
     "task": false
    }
   },
   "outputs": [],
   "source": []
  },
  {
   "cell_type": "code",
   "execution_count": null,
   "id": "d3da44bb",
   "metadata": {
    "deletable": false,
    "editable": false,
    "nbgrader": {
     "cell_type": "code",
     "checksum": "1c7cf16f5994d47f23c4c127f7a318a5",
     "grade": true,
     "grade_id": "q_4_1_2",
     "locked": true,
     "points": 2,
     "schema_version": 3,
     "solution": false,
     "task": false
    }
   },
   "outputs": [],
   "source": []
  },
  {
   "cell_type": "code",
   "execution_count": null,
   "id": "ec7cd3b3",
   "metadata": {
    "deletable": false,
    "editable": false,
    "nbgrader": {
     "cell_type": "code",
     "checksum": "ce812af4b046483ab1e43c6792b4448d",
     "grade": true,
     "grade_id": "q_4_1_3",
     "locked": true,
     "points": 5,
     "schema_version": 3,
     "solution": false,
     "task": false
    }
   },
   "outputs": [],
   "source": []
  },
  {
   "cell_type": "code",
   "execution_count": null,
   "id": "0232d06c",
   "metadata": {
    "deletable": false,
    "editable": false,
    "nbgrader": {
     "cell_type": "code",
     "checksum": "19d4948aa8f9c3ce2b4181d9919d68b1",
     "grade": true,
     "grade_id": "q_4_1_4",
     "locked": true,
     "points": 3,
     "schema_version": 3,
     "solution": false,
     "task": false
    }
   },
   "outputs": [],
   "source": []
  },
  {
   "cell_type": "code",
   "execution_count": null,
   "id": "a9f4d510",
   "metadata": {
    "deletable": false,
    "editable": false,
    "nbgrader": {
     "cell_type": "code",
     "checksum": "02a0e96d948d22209c3b3a5626ae40b6",
     "grade": true,
     "grade_id": "q_4_1_5",
     "locked": true,
     "points": 5,
     "schema_version": 3,
     "solution": false,
     "task": false
    }
   },
   "outputs": [],
   "source": []
  },
  {
   "cell_type": "code",
   "execution_count": null,
   "id": "bfbfc3c9",
   "metadata": {
    "deletable": false,
    "editable": false,
    "nbgrader": {
     "cell_type": "code",
     "checksum": "7555970fe39f565b777d4c8f37478396",
     "grade": true,
     "grade_id": "q_4_1_6",
     "locked": true,
     "points": 5,
     "schema_version": 3,
     "solution": false,
     "task": false
    }
   },
   "outputs": [],
   "source": []
  },
  {
   "cell_type": "code",
   "execution_count": null,
   "id": "afecd654",
   "metadata": {
    "deletable": false,
    "editable": false,
    "nbgrader": {
     "cell_type": "code",
     "checksum": "40e815d75f7923b2bc81403f5cf53bc8",
     "grade": true,
     "grade_id": "q_4_2_2",
     "locked": true,
     "points": 5,
     "schema_version": 3,
     "solution": false,
     "task": false
    }
   },
   "outputs": [],
   "source": []
  }
 ],
 "metadata": {
  "kernelspec": {
   "display_name": "Python 3",
   "language": "python",
   "name": "python3"
  },
  "language_info": {
   "codemirror_mode": {
    "name": "ipython",
    "version": 3
   },
   "file_extension": ".py",
   "mimetype": "text/x-python",
   "name": "python",
   "nbconvert_exporter": "python",
   "pygments_lexer": "ipython3",
   "version": "3.7.9"
  }
 },
 "nbformat": 4,
 "nbformat_minor": 5
}
