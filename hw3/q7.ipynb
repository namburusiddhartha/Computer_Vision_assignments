{
 "cells": [
  {
   "cell_type": "markdown",
   "id": "ef482389",
   "metadata": {
    "deletable": false,
    "editable": false,
    "nbgrader": {
     "cell_type": "markdown",
     "checksum": "bf54c97f500c5b9b4de4f8b8c529e782",
     "grade": false,
     "grade_id": "cell-13f53db58aca8872",
     "locked": true,
     "schema_version": 3,
     "solution": false,
     "task": false
    }
   },
   "source": [
    "<img align=\"center\" src=\"figures/course.png\" width=\"800\">\n",
    "\n",
    "#                                    16720 (B) Neural Networks for Recognition - Assignment 3\n",
    "\n",
    "     Instructor: Kris Kitani                       TAs: Qichen(Lead), Paritosh, Rawal, Yan, Zen, Wen-Hsuan"
   ]
  },
  {
   "cell_type": "markdown",
   "id": "2bc80285",
   "metadata": {
    "deletable": false,
    "editable": false,
    "nbgrader": {
     "cell_type": "markdown",
     "checksum": "c4586f3018bb60f22fadb17b4b790e22",
     "grade": false,
     "grade_id": "cell-6401c946baf292ff",
     "locked": true,
     "schema_version": 3,
     "solution": false,
     "task": false
    }
   },
   "source": [
    "## Q7 PyTorch (40 points)\n",
    "\n",
    "**Please include all the write up answers below to theory.ipynb. For the questions need code, you need to include the screenshot of code to theory.ipynb to get points.**\n",
    "\n",
    "While you were able to derive manual back-propagation rules for sigmoid and fully-connected layers, wouldn't it be nice if someone did that for lots of useful primatives and made it fast and easy to use for general computation?  Meet [automatic differentiation](https://en.wikipedia.org/wiki/Automatic_differentiation). Since we have high-dimensional inputs (images) and low-dimensional outputs (a scalar loss), it turns out **forward mode AD** is very efficient. Popular autodiff packages include [pytorch](https://pytorch.org/) (Facebook), [tensorflow](https://www.tensorflow.org/) (Google), [autograd](https://github.com/HIPS/autograd) (Boston-area academics). Autograd provides its own replacement for numpy operators and is a drop-in replacement for numpy, except you can ask for gradients now. The other two are able to act as shim layers for [cuDNN](https://developer.nvidia.com/cudnn), an implementation of auto-diff made by Nvidia for use on their GPUs. Since GPUs are able to perform large amounts of math much faster than CPUs, this makes the former two packages very popular for researchers who train large networks. Tensorflow asks you to build a computational graph using its API, and then is able to pass data through that graph. PyTorch builds a dynamic graph and allows you to mix autograd functions with normal python code much more smoothly, so it is currently more popular among CMU students. \n",
    "\n",
    "We will use [pytorch](https://pytorch.org/) as a framework. Many computer vision projects use neural networks as a basic building block, so familiarity with one of these frameworks is a good skill to develop. Here, we basically replicate and slightly expand our handwritten character recognition networks, but do it in PyTorch instead of doing it ourselves. Feel free to use any tutorial you like, but we like [the offical one](https://pytorch.org/tutorials/beginner/deep_learning_60min_blitz.html) or [this tutorial](http://cs231n.stanford.edu/notebooks/pytorch_tutorial.ipynb) (in a jupyter notebook) or [these slides](http://cs231n.stanford.edu/slides/2018/cs231n_2018_lecture08.pdf (starting from number 35).\n",
    "\n",
    "**For this section, you're free to implement these however you like. All of the tasks required here are fairly small and don't require a GPU if you use small networks. Including 7.2.**"
   ]
  },
  {
   "cell_type": "markdown",
   "id": "b98c1f2a",
   "metadata": {
    "deletable": false,
    "editable": false,
    "nbgrader": {
     "cell_type": "markdown",
     "checksum": "6b35d3d48d6c0a95815528f012c4196c",
     "grade": false,
     "grade_id": "cell-5c75db14ea00d1ae",
     "locked": true,
     "schema_version": 3,
     "solution": false,
     "task": false
    }
   },
   "source": [
    "### Q7.1 Train a neural network in PyTorch"
   ]
  },
  {
   "cell_type": "markdown",
   "id": "9223d5f9",
   "metadata": {
    "deletable": false,
    "editable": false,
    "nbgrader": {
     "cell_type": "markdown",
     "checksum": "f7715d4fde161c7796462b4a9ea0fa7f",
     "grade": false,
     "grade_id": "cell-6a8302ccaf83c369",
     "locked": true,
     "schema_version": 3,
     "solution": false,
     "task": false
    }
   },
   "source": [
    "#### Q7.1.1 (10 Points Code+WriteUp)\n",
    " \n",
    "Re-write and re-train your fully-connected network on NIST36 in PyTorch. Plot training accuracy and loss over time.\n",
    "\n",
    "<font color=\"red\">**Please include the write up answer and the screenshot of code to theory.ipynb**</font>"
   ]
  },
  {
   "cell_type": "code",
   "execution_count": 328,
   "id": "eef1c250",
   "metadata": {
    "deletable": false,
    "nbgrader": {
     "cell_type": "code",
     "checksum": "c33617c715bd40b0b810685f9adb676a",
     "grade": true,
     "grade_id": "cell-88a606e8a400dc8b",
     "locked": false,
     "points": 10,
     "schema_version": 3,
     "solution": true,
     "task": false
    }
   },
   "outputs": [
    {
     "name": "stdout",
     "output_type": "stream",
     "text": [
      "device = cpu\n",
      "Get dataset\n"
     ]
    }
   ],
   "source": [
    "import numpy as np\n",
    "import scipy.io\n",
    "from ipynb.fs.defs.q2 import *\n",
    "import torch\n",
    "import torchvision.datasets\n",
    "from torch.utils.data import TensorDataset, DataLoader\n",
    "import matplotlib.pyplot as plt\n",
    "\n",
    "\n",
    "torch.manual_seed(123)\n",
    "device = torch.device(\"cpu\")\n",
    "print(\"device = {}\".format(device))\n",
    "\n",
    "print(\"Get dataset\")\n",
    "train_data = scipy.io.loadmat('data/nist36_train.mat')\n",
    "valid_data = scipy.io.loadmat('data/nist36_valid.mat')\n",
    "\n",
    "train_x, train_y = train_data['train_data'].astype(np.float32), train_data['train_labels'].astype(np.int)\n",
    "valid_x, valid_y = valid_data['valid_data'].astype(np.float32), valid_data['valid_labels'].astype(np.int)\n",
    "\n",
    "class Net(nn.Module):\n",
    "    def __init__(self):\n",
    "        super(Net, self).__init__()\n",
    "        \n",
    "        self.fc1 = nn.Linear(1024, 64)\n",
    "        self.fc2 = nn.Linear(64, 36)\n",
    "        \n",
    "    def forward(self, x):\n",
    "        x = F.sigmoid(self.fc1(x))\n",
    "        x = self.fc2(x)\n",
    "        return x\n",
    "        \n",
    "\n",
    "model = Net()\n",
    "optimizer = optim.SGD(model.parameters(), lr=0.025, momentum=0.9)\n",
    "\n",
    "givendata_train = TensorDataset(torch.from_numpy(train_x), torch.from_numpy(train_y))\n",
    "givendata_test = TensorDataset(torch.from_numpy(valid_x), torch.from_numpy(valid_y))\n",
    "trainset_loader = DataLoader(givendata_train, batch_size=64, shuffle=True, num_workers=1)\n",
    "validset_loader = DataLoader(givendata_test, batch_size=64, shuffle=True, num_workers=1)\n",
    "\n",
    "\n",
    "def train(max_iters):\n",
    "    model.train()\n",
    "    Taccuracies = []\n",
    "    Tlosses = []\n",
    "    for itr in range(max_iters):\n",
    "        correct = 0\n",
    "        Tloss = 0\n",
    "        num = 0\n",
    "        for batch_idx, (data, target) in enumerate(trainset_loader):\n",
    "            data, target = data.to(device), target.to(device)\n",
    "            output = model(data)\n",
    "            target = torch.max(target, 1)[1]\n",
    "            loss = nn.functional.cross_entropy(output, target)            \n",
    "            loss.backward()\n",
    "            optimizer.step()\n",
    "            optimizer.zero_grad()\n",
    "            Tloss = Tloss + loss.item()\n",
    "\n",
    "            pred = torch.max(output, 1)[1] \n",
    "            correct += pred.eq(target).sum().item()\n",
    "            num = num + 1\n",
    "        \n",
    "        Taccuracies.append(100. * correct / (num*64))\n",
    "        Tlosses.append(Tloss/num)\n",
    "        if itr % 2 == 0:\n",
    "            print('Accuracy {:.2f} %'.format(100. * correct / (num*64)))\n",
    "            print('Loss: {:.6f}'.format(Tloss/num))\n",
    "            \n",
    "    return Taccuracies, Tlosses"
   ]
  },
  {
   "cell_type": "code",
   "execution_count": 329,
   "id": "10060d0c-0984-4902-a9b1-52467ad9abf9",
   "metadata": {},
   "outputs": [
    {
     "name": "stdout",
     "output_type": "stream",
     "text": [
      "Accuracy 8.65 %\n",
      "Loss: 3.475286\n",
      "Accuracy 51.01 %\n",
      "Loss: 2.060451\n",
      "Accuracy 62.59 %\n",
      "Loss: 1.424384\n",
      "Accuracy 67.56 %\n",
      "Loss: 1.201018\n",
      "Accuracy 70.76 %\n",
      "Loss: 1.073076\n",
      "Accuracy 72.85 %\n",
      "Loss: 0.985812\n",
      "Accuracy 74.86 %\n",
      "Loss: 0.904878\n",
      "Accuracy 76.16 %\n",
      "Loss: 0.853578\n",
      "Accuracy 77.93 %\n",
      "Loss: 0.810443\n",
      "Accuracy 78.94 %\n",
      "Loss: 0.758519\n",
      "Accuracy 79.83 %\n",
      "Loss: 0.724885\n",
      "Accuracy 80.92 %\n",
      "Loss: 0.686482\n",
      "Accuracy 81.59 %\n",
      "Loss: 0.663256\n",
      "Accuracy 83.09 %\n",
      "Loss: 0.620473\n",
      "Accuracy 83.27 %\n",
      "Loss: 0.602514\n",
      "Accuracy 83.79 %\n",
      "Loss: 0.572753\n",
      "Accuracy 84.65 %\n",
      "Loss: 0.551706\n",
      "Accuracy 85.30 %\n",
      "Loss: 0.525041\n",
      "Accuracy 85.69 %\n",
      "Loss: 0.515359\n",
      "Accuracy 86.25 %\n",
      "Loss: 0.486746\n",
      "Accuracy 86.73 %\n",
      "Loss: 0.472264\n",
      "Accuracy 87.19 %\n",
      "Loss: 0.452520\n",
      "Accuracy 88.15 %\n",
      "Loss: 0.433255\n",
      "Accuracy 88.45 %\n",
      "Loss: 0.420768\n",
      "Accuracy 88.60 %\n",
      "Loss: 0.410055\n",
      "Accuracy 89.12 %\n",
      "Loss: 0.392081\n",
      "Accuracy 89.27 %\n",
      "Loss: 0.382212\n",
      "Accuracy 90.06 %\n",
      "Loss: 0.367700\n",
      "Accuracy 90.50 %\n",
      "Loss: 0.353645\n",
      "Accuracy 90.33 %\n",
      "Loss: 0.350079\n",
      "Accuracy 91.21 %\n",
      "Loss: 0.334938\n",
      "Accuracy 91.40 %\n",
      "Loss: 0.323775\n",
      "Accuracy 91.56 %\n",
      "Loss: 0.313611\n",
      "Accuracy 91.72 %\n",
      "Loss: 0.305556\n",
      "Accuracy 91.97 %\n",
      "Loss: 0.296561\n",
      "Accuracy 92.68 %\n",
      "Loss: 0.282356\n",
      "Accuracy 92.90 %\n",
      "Loss: 0.276331\n",
      "Accuracy 93.12 %\n",
      "Loss: 0.266879\n",
      "Accuracy 93.07 %\n",
      "Loss: 0.263191\n",
      "Accuracy 93.36 %\n",
      "Loss: 0.257031\n",
      "Accuracy 93.84 %\n",
      "Loss: 0.244701\n",
      "Accuracy 93.86 %\n",
      "Loss: 0.239783\n",
      "Accuracy 94.18 %\n",
      "Loss: 0.229878\n",
      "Accuracy 94.67 %\n",
      "Loss: 0.221882\n",
      "Accuracy 94.91 %\n",
      "Loss: 0.217523\n",
      "Accuracy 95.04 %\n",
      "Loss: 0.211311\n",
      "Accuracy 94.99 %\n",
      "Loss: 0.205692\n",
      "Accuracy 94.94 %\n",
      "Loss: 0.203614\n",
      "Accuracy 95.51 %\n",
      "Loss: 0.196400\n",
      "Accuracy 95.70 %\n",
      "Loss: 0.188728\n",
      "Accuracy 95.72 %\n",
      "Loss: 0.185347\n",
      "Accuracy 95.96 %\n",
      "Loss: 0.180570\n",
      "Accuracy 95.96 %\n",
      "Loss: 0.177962\n",
      "Accuracy 96.52 %\n",
      "Loss: 0.165798\n",
      "Accuracy 96.30 %\n",
      "Loss: 0.167421\n",
      "Accuracy 96.72 %\n",
      "Loss: 0.156700\n",
      "Accuracy 96.88 %\n",
      "Loss: 0.155505\n",
      "Accuracy 96.94 %\n",
      "Loss: 0.149957\n",
      "Accuracy 97.20 %\n",
      "Loss: 0.145335\n",
      "Accuracy 96.99 %\n",
      "Loss: 0.147558\n"
     ]
    }
   ],
   "source": [
    "Taccuracies, Tlosses = train(120)"
   ]
  },
  {
   "cell_type": "code",
   "execution_count": 330,
   "id": "f01e1659-8778-486b-a81e-2cbae7c6e5c7",
   "metadata": {},
   "outputs": [
    {
     "data": {
      "image/png": "[encoded data removed]",
      "text/plain": [
       "<Figure size 432x288 with 1 Axes>"
      ]
     },
     "metadata": {
      "needs_background": "light"
     },
     "output_type": "display_data"
    },
    {
     "data": {
      "image/png": "[encoded data removed]",
      "text/plain": [
       "<Figure size 432x288 with 1 Axes>"
      ]
     },
     "metadata": {
      "needs_background": "light"
     },
     "output_type": "display_data"
    }
   ],
   "source": [
    "import matplotlib.pyplot as plt\n",
    "\n",
    "plt.figure()\n",
    "plt.plot(np.arange(120), [i for i in Taccuracies], label = \"Train Accuracy\")\n",
    "plt.xlabel(\"Iterations\")\n",
    "plt.ylabel(\"Accuracies (%)\")\n",
    "plt.legend(loc=\"best\")\n",
    "plt.title(\"Average Accuracies (%) vs Iterations\")\n",
    "plt.show()\n",
    "\n",
    "plt.figure()\n",
    "plt.plot(np.arange(120), [i for i in Tlosses], label = \"Train Cross Entropy Loss\")\n",
    "plt.xlabel(\"Iterations\")\n",
    "plt.ylabel(\"Loss\")\n",
    "plt.legend(loc=\"best\")\n",
    "plt.title(\"Average Loss vs Iterations\")\n",
    "plt.show()"
   ]
  },
  {
   "cell_type": "code",
   "execution_count": 332,
   "id": "a4b69742-45a9-44cb-a17f-e4b38ff607bd",
   "metadata": {},
   "outputs": [
    {
     "name": "stdout",
     "output_type": "stream",
     "text": [
      "\n",
      "Test set: Average loss: 0.0117, Accuracy: 2849/3600 (79%)\n",
      "\n"
     ]
    }
   ],
   "source": [
    "# Vaccuracies = []\n",
    "# Vloss = []\n",
    "model.eval()  # set evaluation mode\n",
    "valid_loss = 0\n",
    "correct = 0\n",
    "with torch.no_grad():\n",
    "    for data, target in validset_loader:\n",
    "        data, target = data.to(device), target.to(device)\n",
    "        output = model(data)\n",
    "        target = torch.max(target, 1)[1]\n",
    "        valid_loss += nn.functional.cross_entropy(output, target)\n",
    "        # Vloss.append(valid_loss)\n",
    "        pred = torch.max(output, 1)[1] \n",
    "        correct += pred.eq(target).sum().item()\n",
    "        # Vaccuracies.append(\n",
    "\n",
    "valid_loss /= len(validset_loader.dataset)\n",
    "print('\\nValid set: Average loss: {:.4f}, Accuracy: {}/{} ({:.0f}%)\\n'.format(\n",
    "    valid_loss, correct, len(validset_loader.dataset),\n",
    "    100. * correct / len(validset_loader.dataset)))"
   ]
  },
  {
   "cell_type": "code",
   "execution_count": null,
   "id": "f86fcb95-2cd4-4865-965b-ec359a9aedad",
   "metadata": {},
   "outputs": [],
   "source": [
    "test_data = scipy.io.loadmat('data/nist36_test.mat')\n",
    "test_x, test_y = test_data['test_data'].astype(np.float32), test_data['test_labels'].astype(np.int)\n",
    "givendata_test = TensorDataset(torch.from_numpy(test_x), torch.from_numpy(test_y))\n",
    "testset_loader = DataLoader(givendata_test, batch_size=64, shuffle=True, num_workers=1)\n",
    "# Vaccuracies = []\n",
    "# Vloss = []\n",
    "model.eval()  # set evaluation mode\n",
    "test_loss = 0\n",
    "correct = 0\n",
    "with torch.no_grad():\n",
    "    for data, target in testset_loader:\n",
    "        data, target = data.to(device), target.to(device)\n",
    "        output = model(data)\n",
    "        target = torch.max(target, 1)[1]\n",
    "        valid_loss += nn.functional.cross_entropy(output, target)\n",
    "        # Vloss.append(valid_loss)\n",
    "        pred = torch.max(output, 1)[1] \n",
    "        correct += pred.eq(target).sum().item()\n",
    "        # Vaccuracies.append(\n",
    "\n",
    "test_loss /= len(testset_loader.dataset)\n",
    "print('\\nTest set: Average loss: {:.4f}, Accuracy: {}/{} ({:.0f}%)\\n'.format(\n",
    "    test_loss, correct, len(testset_loader.dataset),\n",
    "    100. * correct / len(testset_loader.dataset)))"
   ]
  },
  {
   "cell_type": "markdown",
   "id": "f08d0f13",
   "metadata": {
    "deletable": false,
    "editable": false,
    "nbgrader": {
     "cell_type": "markdown",
     "checksum": "320a893a9eb23a0dfaa328c0594d0452",
     "grade": false,
     "grade_id": "cell-532aaec5d587259a",
     "locked": true,
     "schema_version": 3,
     "solution": false,
     "task": false
    }
   },
   "source": [
    "#### Q7.1.2 (3 Points Code+WriteUp)\n",
    " \n",
    "Train a convolutional neural network with PyTorch on MNIST. Plot training accuracy and loss over time.\n",
    "\n",
    "<font color=\"red\">**Please include the write up answer and the screenshot of code to theory.ipynb**</font>"
   ]
  },
  {
   "cell_type": "code",
   "execution_count": 430,
   "id": "02227711",
   "metadata": {
    "deletable": false,
    "nbgrader": {
     "cell_type": "code",
     "checksum": "0b2a076262c25e7e0f4b60af03ce7d95",
     "grade": true,
     "grade_id": "cell-db5a77f9ccaf8fd3",
     "locked": false,
     "points": 3,
     "schema_version": 3,
     "solution": true,
     "task": false
    }
   },
   "outputs": [
    {
     "name": "stdout",
     "output_type": "stream",
     "text": [
      "device = cpu\n",
      "Get dataset\n",
      "dataset size train, test\n",
      "torch.Size([60000, 28, 28])\n",
      "torch.Size([10000, 28, 28])\n",
      "Dataset MNIST\n",
      "    Number of datapoints: 60000\n",
      "    Root location: data\n",
      "    Split: Train\n",
      "    StandardTransform\n",
      "Transform: ToTensor()\n",
      "Dataset MNIST\n",
      "    Number of datapoints: 10000\n",
      "    Root location: data\n",
      "    Split: Test\n",
      "    StandardTransform\n",
      "Transform: ToTensor()\n"
     ]
    }
   ],
   "source": [
    "import numpy as np\n",
    "import scipy.io\n",
    "import torch\n",
    "import torchvision\n",
    "from torch import nn, optim\n",
    "import torch.nn.functional as F  # a lower level (compared to torch.nn) interface\n",
    "from torch.utils.data import Dataset, DataLoader\n",
    "from torchvision.datasets import MNIST\n",
    "import torchvision.transforms as transforms\n",
    "from time import time\n",
    "\n",
    "# Use GPU if available, otherwise stick with cpu\n",
    "use_cuda = torch.cuda.is_available()\n",
    "torch.manual_seed(123)\n",
    "device = torch.device(\"cpu\")\n",
    "print(\"device = {}\".format(device))\n",
    "\n",
    "print(\"Get dataset\")\n",
    "mnist_train = MNIST(root=\"data\", train=True, download=True, transform=transforms.ToTensor())\n",
    "trainset_loader = DataLoader(mnist_train, batch_size=20, shuffle=True, num_workers=1)\n",
    "\n",
    "mnist_test = MNIST(root=\"data\", train=False, download=True, transform=transforms.ToTensor())\n",
    "testset_loader = DataLoader(mnist_test, batch_size=20, shuffle=True, num_workers=1)\n",
    "\n",
    "print(\"dataset size train, test\")\n",
    "print(trainset_loader.dataset.data.shape)\n",
    "print(testset_loader.dataset.data.shape)\n",
    "\n",
    "print(trainset_loader.dataset)\n",
    "print(testset_loader.dataset)\n",
    "\n",
    "\n",
    "# YOUR CODE HERE\n",
    "# raise NotImplementedError()"
   ]
  },
  {
   "cell_type": "code",
   "execution_count": 431,
   "id": "8335eeaa-8748-4c03-b7be-d02925a3c254",
   "metadata": {},
   "outputs": [],
   "source": [
    "class ConvNet(nn.Module):\n",
    "    def __init__(self):\n",
    "        super(ConvNet, self).__init__()\n",
    "\n",
    "        self.conv1 = nn.Conv2d(1, 4, kernel_size=5, stride = 1, padding = 2)\n",
    "        self.conv2 = nn.Conv2d(4, 8, kernel_size=5, stride = 1, padding = 2)\n",
    "        self.conv2_drop = nn.Dropout2d()\n",
    "        \n",
    "        self.fc1 = nn.Linear(8 * 7 * 7, 150)\n",
    "        self.fc2 = nn.Linear(150, 10)\n",
    "        \n",
    "        self.max_pool = nn.MaxPool2d(2)\n",
    "        # ReLU(inplace=False)\n",
    "        self.relu = nn.ReLU()\n",
    "\n",
    "    def forward(self, x):\n",
    "        x = F.max_pool2d(F.relu(self.conv1(x)), 2)\n",
    "        # x = F.max_pool2d(F.relu(self.conv2(x)), 2) #\n",
    "        x = self.max_pool(self.relu(self.conv2_drop(self.conv2(x))))\n",
    "        x = x.view(-1, 8 * 7 * 7)\n",
    "        x = F.relu(self.fc1(x))\n",
    "        # x = F.dropout(x, training=self.training)\n",
    "        x = self.fc2(x)\n",
    "        return F.log_softmax(x, dim=1)\n",
    "\n",
    "model = ConvNet().to(device)\n",
    "optimizer = optim.SGD(model.parameters(), lr=0.0004, momentum=0.9)"
   ]
  },
  {
   "cell_type": "code",
   "execution_count": 432,
   "id": "b331f79b-25b1-4c5e-a24e-214b95bbdefe",
   "metadata": {},
   "outputs": [],
   "source": [
    "def train(epoch, log_interval=100):\n",
    "    model.train()  # set training mode\n",
    "    Taccuracies = []\n",
    "    Tlosses = []\n",
    "    for ep in range(epoch):\n",
    "        correct = 0\n",
    "        Tloss = 0\n",
    "        num = 0\n",
    "        for batch_idx, (data, target) in enumerate(trainset_loader):\n",
    "            # bring data to the computing device, e.g. GPU\n",
    "            data, target = data.to(device), target.to(device)\n",
    "            # print(target.shape)\n",
    "            # forward pass\n",
    "            output = model(data)\n",
    "            # compute loss: negative log-likelihood\n",
    "            loss = F.nll_loss(output, target)\n",
    "            \n",
    "            # backward pass\n",
    "            # clear the gradients of all tensors being optimized.\n",
    "            \n",
    "            loss.backward()\n",
    "            optimizer.step()\n",
    "            optimizer.zero_grad()\n",
    "            Tloss = Tloss + loss.item()\n",
    "\n",
    "            pred = output.max(1, keepdim=True)[1] # get the index of the max log-probability\n",
    "            correct += pred.eq(target.view_as(pred)).sum().item()\n",
    "            num = num + 1\n",
    "        \n",
    "        print('Accuracy: {}/{} ({:.0f}%)'.format(correct, len(trainset_loader.dataset), 100. * correct / len(trainset_loader.dataset)))\n",
    "        print('Loss: {:.6f}'.format(Tloss/num))\n",
    "        Taccuracies.append(100. * correct / len(trainset_loader.dataset))\n",
    "        Tlosses.append(Tloss/num)\n",
    "        \n",
    "    return Taccuracies, Tlosses\n",
    "        \n",
    "        # test() # evaluate at the end of epoch"
   ]
  },
  {
   "cell_type": "code",
   "execution_count": 433,
   "id": "b8155f5d-5337-43e8-a660-287bd2224b1b",
   "metadata": {},
   "outputs": [
    {
     "name": "stdout",
     "output_type": "stream",
     "text": [
      "Accuracy: 29471/60000 (49%)\n",
      "Loss: 1.538721\n",
      "Accuracy: 52889/60000 (88%)\n",
      "Loss: 0.412216\n",
      "Accuracy: 55074/60000 (92%)\n",
      "Loss: 0.291196\n",
      "Accuracy: 55946/60000 (93%)\n",
      "Loss: 0.237769\n",
      "Accuracy: 56557/60000 (94%)\n",
      "Loss: 0.203680\n",
      "Accuracy: 56890/60000 (95%)\n",
      "Loss: 0.183542\n",
      "Accuracy: 57132/60000 (95%)\n",
      "Loss: 0.167392\n",
      "Accuracy: 57349/60000 (96%)\n",
      "Loss: 0.153204\n",
      "Accuracy: 57472/60000 (96%)\n",
      "Loss: 0.144901\n",
      "Accuracy: 57653/60000 (96%)\n",
      "Loss: 0.135991\n",
      "Accuracy: 57761/60000 (96%)\n",
      "Loss: 0.129951\n",
      "Accuracy: 57875/60000 (96%)\n",
      "Loss: 0.125254\n",
      "Accuracy: 58008/60000 (97%)\n",
      "Loss: 0.117894\n",
      "Accuracy: 58036/60000 (97%)\n",
      "Loss: 0.112368\n",
      "Accuracy: 58119/60000 (97%)\n",
      "Loss: 0.108477\n",
      "Accuracy: 58105/60000 (97%)\n",
      "Loss: 0.106399\n",
      "Accuracy: 58210/60000 (97%)\n",
      "Loss: 0.100601\n",
      "Accuracy: 58213/60000 (97%)\n",
      "Loss: 0.099762\n",
      "Accuracy: 58270/60000 (97%)\n",
      "Loss: 0.097195\n",
      "Accuracy: 58316/60000 (97%)\n",
      "Loss: 0.094604\n"
     ]
    }
   ],
   "source": [
    "Taccuracies, Tlosses = train(20)"
   ]
  },
  {
   "cell_type": "code",
   "execution_count": 434,
   "id": "a6cb65fa-3b6e-491c-a58b-8604e250864b",
   "metadata": {},
   "outputs": [
    {
     "data": {
      "image/png": "[encoded data removed]",
      "text/plain": [
       "<Figure size 432x288 with 1 Axes>"
      ]
     },
     "metadata": {
      "needs_background": "light"
     },
     "output_type": "display_data"
    },
    {
     "data": {
      "image/png": "[encoded data removed]",
      "text/plain": [
       "<Figure size 432x288 with 1 Axes>"
      ]
     },
     "metadata": {
      "needs_background": "light"
     },
     "output_type": "display_data"
    }
   ],
   "source": [
    "import matplotlib.pyplot as plt\n",
    "\n",
    "plt.figure()\n",
    "plt.plot(np.arange(20), [i for i in Taccuracies], label = \"Train Accuracy\")\n",
    "plt.xlabel(\"Iterations\")\n",
    "plt.ylabel(\"Accuracies (%)\")\n",
    "plt.legend(loc=\"best\")\n",
    "plt.title(\"Average Accuracies (%) vs Iterations\")\n",
    "plt.show()\n",
    "\n",
    "plt.figure()\n",
    "plt.plot(np.arange(20), [i for i in Tlosses], label = \"Train Cross Entropy Loss\")\n",
    "plt.xlabel(\"Iterations\")\n",
    "plt.ylabel(\"Loss\")\n",
    "plt.legend(loc=\"best\")\n",
    "plt.title(\"Average Loss vs Iterations\")\n",
    "plt.show()"
   ]
  },
  {
   "cell_type": "code",
   "execution_count": 436,
   "id": "4b8720d3-39de-4def-980b-d4cb814f82ee",
   "metadata": {},
   "outputs": [
    {
     "name": "stdout",
     "output_type": "stream",
     "text": [
      "\n",
      "Test set: Average loss: 0.0503, Accuracy: 9834/10000 (98.34%)\n",
      "\n"
     ]
    }
   ],
   "source": [
    "model.eval()  # set evaluation mode\n",
    "test_loss = 0\n",
    "correct = 0\n",
    "with torch.no_grad():\n",
    "    for data, target in testset_loader:\n",
    "        data, target = data.to(device), target.to(device)\n",
    "        output = model(data)\n",
    "        test_loss += F.nll_loss(output, target, size_average=False).item() \n",
    "        pred = output.max(1, keepdim=True)[1]\n",
    "        correct += pred.eq(target.view_as(pred)).sum().item()\n",
    "\n",
    "test_loss /= len(testset_loader.dataset)\n",
    "print('\\nTest set: Average loss: {:.4f}, Accuracy: {}/{} ({:.2f}%)\\n'.format(\n",
    "    test_loss, correct, len(testset_loader.dataset),\n",
    "    100. * correct / len(testset_loader.dataset)))"
   ]
  },
  {
   "cell_type": "markdown",
   "id": "6d861662",
   "metadata": {
    "deletable": false,
    "editable": false,
    "nbgrader": {
     "cell_type": "markdown",
     "checksum": "b8efc5c0a19b68bcc677ed4e6f69ac97",
     "grade": false,
     "grade_id": "cell-224cbb8be1a16286",
     "locked": true,
     "schema_version": 3,
     "solution": false,
     "task": false
    }
   },
   "source": [
    "#### Q7.1.3 (2 Points Code+WriteUp)\n",
    " \n",
    "Train a convolutional neural network with PyTorch on the included NIST36 dataset. Plot training accuracy and loss over time.\n",
    "\n",
    "<font color=\"red\">**Please include the write up answer and the screenshot of code to theory.ipynb**</font>"
   ]
  },
  {
   "cell_type": "code",
   "execution_count": 454,
   "id": "20761659",
   "metadata": {
    "deletable": false,
    "nbgrader": {
     "cell_type": "code",
     "checksum": "99709b3d4b6d3875e97c4f7bc7b53ccf",
     "grade": true,
     "grade_id": "cell-87cfe11794cd5054",
     "locked": false,
     "points": 2,
     "schema_version": 3,
     "solution": true,
     "task": false
    }
   },
   "outputs": [
    {
     "name": "stdout",
     "output_type": "stream",
     "text": [
      "device = cpu\n",
      "Get dataset\n"
     ]
    }
   ],
   "source": [
    "import numpy as np\n",
    "import scipy.io\n",
    "import torch\n",
    "from torch import nn, optim\n",
    "import torch.nn.functional as F  # a lower level (compared to torch.nn) interface\n",
    "from torch.utils.data import Dataset, DataLoader\n",
    "import torchvision\n",
    "import torchvision.transforms as transforms\n",
    "from time import time\n",
    "import matplotlib.pyplot as plt\n",
    "\n",
    "# Use GPU if available, otherwise stick with cpu\n",
    "use_cuda = torch.cuda.is_available()\n",
    "torch.manual_seed(123)\n",
    "device = torch.device(\"cpu\")\n",
    "print(\"device = {}\".format(device))\n",
    "\n",
    "print(\"Get dataset\")\n",
    "train_data = scipy.io.loadmat('data/nist36_train.mat')\n",
    "valid_data = scipy.io.loadmat('data/nist36_valid.mat')\n",
    "\n",
    "train_x, train_y = train_data['train_data'].astype(np.float32), train_data['train_labels'].astype(np.int)\n",
    "valid_x, valid_y = valid_data['valid_data'].astype(np.float32), valid_data['valid_labels'].astype(np.int)\n",
    "\n",
    "# YOUR CODE HERE\n",
    "# raise NotImplementedError()"
   ]
  },
  {
   "cell_type": "code",
   "execution_count": 455,
   "id": "715f7d0a-cd79-4fd1-aaea-0efecfb0f936",
   "metadata": {},
   "outputs": [],
   "source": [
    "class ConvNet(nn.Module):\n",
    "    def __init__(self):\n",
    "        super(ConvNet, self).__init__()\n",
    "        \n",
    "        # Conv2d(in_channels, out_channels, kernel_size, stride=1, padding=0,\n",
    "        #        dilation=1, groups=1, bias=True, padding_mode='zeros')\n",
    "        self.conv1 = nn.Conv2d(1, 16, kernel_size=5, stride = 1, padding = 2)\n",
    "        self.conv2 = nn.Conv2d(16, 32, kernel_size=5, stride = 1, padding = 2)\n",
    "        self.conv2_drop = nn.Dropout2d()\n",
    "        \n",
    "        # Linear(in_features, out_features, bias=True)\n",
    "        self.fc1 = nn.Linear(32 * 8 * 8, 500)\n",
    "        self.fc2 = nn.Linear(500, 36)\n",
    "        \n",
    "        # MaxPool2d(kernel_size, stride=None, padding=0, dilation=1, return_indices=False, ceil_mode=False)\n",
    "        self.max_pool = nn.MaxPool2d(2)\n",
    "        # ReLU(inplace=False)\n",
    "        self.relu = nn.ReLU()\n",
    "\n",
    "    def forward(self, x):\n",
    "        # Note: the following two ways for max pooling / relu are equivalent.\n",
    "        # 1) with torch.nn.functional:\n",
    "        x = F.max_pool2d(F.relu(self.conv1(x)), 2)\n",
    "        # 2) with torch.nn:\n",
    "        x = F.max_pool2d(F.relu(self.conv2(x)), 2) #self.relu(self.max_pool(self.conv2_drop(self.conv2(x))))\n",
    "        x = x.view(-1, 32 * 8 * 8)\n",
    "        x = F.relu(self.fc1(x))\n",
    "        x = F.dropout(x, training=self.training)\n",
    "        x = self.fc2(x)\n",
    "        return x\n",
    "\n",
    "model1 = ConvNet().to(device)\n",
    "optimizer = optim.SGD(model1.parameters(), lr=0.001, momentum=0.9)"
   ]
  },
  {
   "cell_type": "code",
   "execution_count": 456,
   "id": "346e137f-4f7d-4ff1-aa6b-50a957f30829",
   "metadata": {},
   "outputs": [],
   "source": [
    "givendata_train = TensorDataset(torch.from_numpy(train_x.reshape(train_x.shape[0], 1, 32, 32)), torch.from_numpy(train_y))\n",
    "givendata_test = TensorDataset(torch.from_numpy(valid_x.reshape(valid_x.shape[0], 1, 32, 32)), torch.from_numpy(valid_y))\n",
    "trainset_loader = DataLoader(givendata_train, batch_size=64, shuffle=True, num_workers=1)\n",
    "validset_loader = DataLoader(givendata_test, batch_size=64, shuffle=True, num_workers=1)\n",
    "\n",
    "\n",
    "def train(max_iters):\n",
    "    model1.train()\n",
    "    Taccuracies = []\n",
    "    Tlosses = []\n",
    "    for itr in range(max_iters):\n",
    "        correct = 0\n",
    "        Tloss = 0\n",
    "        num = 0\n",
    "        for batch_idx, (data, target) in enumerate(trainset_loader):\n",
    "            data, target = data.to(device), target.to(device)\n",
    "            # print(data.size())\n",
    "            # forward pass\n",
    "            output = model1(data)\n",
    "            # print(output.size())\n",
    "            # print(target.size())\n",
    "            target = torch.max(target, 1)[1]\n",
    "            loss = nn.functional.cross_entropy(output, target)\n",
    "            \n",
    "            # backward pass\n",
    "            # clear the gradients of all tensors being optimized.\n",
    "            \n",
    "            loss.backward()\n",
    "            optimizer.step()\n",
    "            optimizer.zero_grad()\n",
    "            Tloss = Tloss + loss.item()\n",
    "\n",
    "            pred = torch.max(output, 1)[1] # get the index of the max log-probability\n",
    "            correct += pred.eq(target).sum().item()\n",
    "            num = num + 1\n",
    "            \n",
    "            # print(len(trainset_loader.dataset))\n",
    "        \n",
    "        Taccuracies.append(100. * correct / (num*64))\n",
    "        Tlosses.append(Tloss/num)\n",
    "        if itr % 2 == 0:\n",
    "            print('Accuracy {:.2f} %'.format(100. * correct / (num*64)))\n",
    "            print('Loss: {:.6f}'.format(Tloss/num))\n",
    "            \n",
    "    return Taccuracies, Tlosses"
   ]
  },
  {
   "cell_type": "code",
   "execution_count": 457,
   "id": "859003ac-605c-4db3-a993-c138ad6f2ec1",
   "metadata": {},
   "outputs": [
    {
     "name": "stdout",
     "output_type": "stream",
     "text": [
      "Accuracy 3.25 %\n",
      "Loss: 3.581832\n",
      "Accuracy 8.65 %\n",
      "Loss: 3.551577\n",
      "Accuracy 21.50 %\n",
      "Loss: 3.287986\n",
      "Accuracy 49.22 %\n",
      "Loss: 1.785873\n",
      "Accuracy 65.51 %\n",
      "Loss: 1.189467\n",
      "Accuracy 72.45 %\n",
      "Loss: 0.938052\n",
      "Accuracy 77.36 %\n",
      "Loss: 0.760565\n",
      "Accuracy 80.12 %\n",
      "Loss: 0.655760\n",
      "Accuracy 82.79 %\n",
      "Loss: 0.569822\n",
      "Accuracy 84.62 %\n",
      "Loss: 0.506652\n",
      "Accuracy 86.26 %\n",
      "Loss: 0.446586\n",
      "Accuracy 87.39 %\n",
      "Loss: 0.402615\n",
      "Accuracy 87.61 %\n",
      "Loss: 0.383569\n",
      "Accuracy 89.33 %\n",
      "Loss: 0.342255\n",
      "Accuracy 89.53 %\n",
      "Loss: 0.327018\n",
      "Accuracy 90.18 %\n",
      "Loss: 0.298872\n",
      "Accuracy 90.85 %\n",
      "Loss: 0.284025\n",
      "Accuracy 91.38 %\n",
      "Loss: 0.263793\n",
      "Accuracy 91.86 %\n",
      "Loss: 0.241209\n",
      "Accuracy 91.85 %\n",
      "Loss: 0.241078\n",
      "Accuracy 92.51 %\n",
      "Loss: 0.222159\n",
      "Accuracy 92.87 %\n",
      "Loss: 0.213751\n",
      "Accuracy 93.56 %\n",
      "Loss: 0.199325\n",
      "Accuracy 93.01 %\n",
      "Loss: 0.200921\n",
      "Accuracy 93.91 %\n",
      "Loss: 0.180988\n",
      "Accuracy 94.02 %\n",
      "Loss: 0.176183\n",
      "Accuracy 93.99 %\n",
      "Loss: 0.169257\n",
      "Accuracy 94.39 %\n",
      "Loss: 0.159001\n",
      "Accuracy 94.87 %\n",
      "Loss: 0.150030\n",
      "Accuracy 94.74 %\n",
      "Loss: 0.146743\n"
     ]
    }
   ],
   "source": [
    "Taccuracies, Tlosses = train(60)"
   ]
  },
  {
   "cell_type": "code",
   "execution_count": 459,
   "id": "53df9d38-6568-4414-8a9d-32433bf081ab",
   "metadata": {},
   "outputs": [
    {
     "data": {
      "image/png": "[encoded data removed]",
      "text/plain": [
       "<Figure size 432x288 with 1 Axes>"
      ]
     },
     "metadata": {
      "needs_background": "light"
     },
     "output_type": "display_data"
    },
    {
     "data": {
      "image/png": "[encoded data removed]",
      "text/plain": [
       "<Figure size 432x288 with 1 Axes>"
      ]
     },
     "metadata": {
      "needs_background": "light"
     },
     "output_type": "display_data"
    }
   ],
   "source": [
    "import matplotlib.pyplot as plt\n",
    "\n",
    "plt.figure()\n",
    "plt.plot(np.arange(60), [i for i in Taccuracies], label = \"Train Accuracy\")\n",
    "plt.xlabel(\"Iterations\")\n",
    "plt.ylabel(\"Accuracies (%)\")\n",
    "plt.legend(loc=\"best\")\n",
    "plt.title(\"Average Accuracies (%) vs Iterations\")\n",
    "plt.show()\n",
    "\n",
    "plt.figure()\n",
    "plt.plot(np.arange(60), [i for i in Tlosses], label = \"Train Cross Entropy Loss\")\n",
    "plt.xlabel(\"Iterations\")\n",
    "plt.ylabel(\"Loss\")\n",
    "plt.legend(loc=\"best\")\n",
    "plt.title(\"Average Loss vs Iterations\")\n",
    "plt.show()"
   ]
  },
  {
   "cell_type": "code",
   "execution_count": 462,
   "id": "98432461-1614-48ac-b687-e73c6de2bca7",
   "metadata": {},
   "outputs": [
    {
     "name": "stdout",
     "output_type": "stream",
     "text": [
      "\n",
      "Validation set: Average loss: 0.0043, Accuracy: 3290/3600 (91%)\n",
      "\n"
     ]
    }
   ],
   "source": [
    "# Vaccuracies = []\n",
    "# Vloss = []\n",
    "model1.eval()  # set evaluation mode\n",
    "valid_loss = 0\n",
    "correct = 0\n",
    "with torch.no_grad():\n",
    "    for data, target in validset_loader:\n",
    "        data, target = data.to(device), target.to(device)\n",
    "        output = model1(data)\n",
    "        target = torch.max(target, 1)[1]\n",
    "        valid_loss += nn.functional.cross_entropy(output, target)\n",
    "        # Vloss.append(valid_loss)\n",
    "        pred = torch.max(output, 1)[1] \n",
    "        correct += pred.eq(target).sum().item()\n",
    "        # Vaccuracies.append(\n",
    "\n",
    "valid_loss /= len(validset_loader.dataset)\n",
    "print('\\nValidation set: Average loss: {:.4f}, Accuracy: {}/{} ({:.0f}%)\\n'.format(\n",
    "    valid_loss, correct, len(validset_loader.dataset),\n",
    "    100. * correct / len(validset_loader.dataset)))"
   ]
  },
  {
   "cell_type": "code",
   "execution_count": null,
   "id": "ebe068d5-aff0-46bd-ae17-41f07ade4fe9",
   "metadata": {},
   "outputs": [],
   "source": [
    "test_data = scipy.io.loadmat('data/nist36_test.mat')\n",
    "test_x, test_y = test_data['test_data'].astype(np.float32), test_data['test_labels'].astype(np.int)\n",
    "givendata_test = TensorDataset(torch.from_numpy(test_x.reshape(test_x.shape[0], 1, 32, 32)), torch.from_numpy(test_y))\n",
    "\n",
    "# givendata_test = TensorDataset(torch.from_numpy(test_x), torch.from_numpy(test_y))\n",
    "testset_loader = DataLoader(givendata_test, batch_size=64, shuffle=True, num_workers=1)\n",
    "# Vaccuracies = []\n",
    "# Vloss = []\n",
    "model1.eval()  # set evaluation mode\n",
    "test_loss = 0\n",
    "correct = 0\n",
    "with torch.no_grad():\n",
    "    for data, target in testset_loader:\n",
    "        data, target = data.to(device), target.to(device)\n",
    "        output = model1(data)\n",
    "        target = torch.max(target, 1)[1]\n",
    "        valid_loss += nn.functional.cross_entropy(output, target)\n",
    "        # Vloss.append(valid_loss)\n",
    "        pred = torch.max(output, 1)[1] \n",
    "        correct += pred.eq(target).sum().item()\n",
    "        # Vaccuracies.append(\n",
    "\n",
    "test_loss /= len(testset_loader.dataset)\n",
    "print('\\nTest set: Average loss: {:.4f}, Accuracy: {}/{} ({:.0f}%)\\n'.format(\n",
    "    test_loss, correct, len(testset_loader.dataset),\n",
    "    100. * correct / len(testset_loader.dataset)))"
   ]
  },
  {
   "cell_type": "markdown",
   "id": "f6e7e34e",
   "metadata": {
    "deletable": false,
    "editable": false,
    "nbgrader": {
     "cell_type": "markdown",
     "checksum": "e2b8dfb19dca06928b2fed38cc283a9f",
     "grade": false,
     "grade_id": "cell-b4fe717706236784",
     "locked": true,
     "schema_version": 3,
     "solution": false,
     "task": false
    }
   },
   "source": [
    "#### Q7.1.4 (15 Points Code+WriteUp)\n",
    " \n",
    "Train a convolutional neural network with PyTorch on the EMNIST Balanced dataset  (available in *torchvision.datasets*, use *balanced* split) and evaluate it on the findLetters bounded boxes from the images folder. Find the accuracy on these bounded boxes.\n",
    "\n",
    "<font color=\"red\">**Please include the write up answer and the screenshot of code to theory.ipynb**</font>"
   ]
  },
  {
   "cell_type": "code",
   "execution_count": 497,
   "id": "3e00a6a4",
   "metadata": {
    "deletable": false,
    "nbgrader": {
     "cell_type": "code",
     "checksum": "556e9f146001dc2d77441e975cb9f9b2",
     "grade": true,
     "grade_id": "cell-96954b5ffa647538",
     "locked": false,
     "points": 15,
     "schema_version": 3,
     "solution": true,
     "task": false
    }
   },
   "outputs": [
    {
     "name": "stdout",
     "output_type": "stream",
     "text": [
      "device = cpu\n",
      "Get dataset\n",
      "torch.Size([112800, 28, 28])\n",
      "torch.Size([18800, 28, 28])\n"
     ]
    }
   ],
   "source": [
    "import numpy as np\n",
    "import scipy.io\n",
    "import torch\n",
    "from torch import nn, optim\n",
    "import torchvision\n",
    "import torch.nn.functional as F  # a lower level (compared to torch.nn) interface\n",
    "from torch.utils.data import Dataset, DataLoader\n",
    "from torchvision.datasets import EMNIST\n",
    "import torchvision.transforms as transforms\n",
    "from time import time\n",
    "\n",
    "# Use GPU if available, otherwise stick with cpu\n",
    "use_cuda = torch.cuda.is_available()\n",
    "torch.manual_seed(123)\n",
    "device = torch.device(\"cpu\")\n",
    "print(\"device = {}\".format(device))\n",
    "\n",
    "print(\"Get dataset\")\n",
    "\n",
    "EMNIST.url = 'http://www.itl.nist.gov/iaui/vip/cs_links/EMNIST/gzip.zip'\n",
    "# Reference for transform function\n",
    "# https://stackoverflow.com/a/54513835\n",
    "transform=torchvision.transforms.Compose([\n",
    "    lambda img: torchvision.transforms.functional.rotate(img, -90),\n",
    "    lambda img: torchvision.transforms.functional.hflip(img),\n",
    "    torchvision.transforms.ToTensor()\n",
    "])\n",
    "emnist_train = EMNIST(root=\"data\", split='balanced', train=True, download=True, transform=transform)\n",
    "trainset_loader = DataLoader(emnist_train, batch_size=20, shuffle=True, num_workers=0)\n",
    "\n",
    "emnist_test = EMNIST(root=\"data\", split='balanced', train=False, download=True, transform=transform)\n",
    "testset_loader = DataLoader(emnist_test, batch_size=20, shuffle=True, num_workers=0)\n",
    "\n",
    "# Ref: https://github.com/gaurav0651/emnist/blob/master/train_emnist.ipynb\n",
    "label_map = ['0','1','2','3','4','5','6','7','8','9',\n",
    "       'A','B','C','D','E','F','G','H','I','J','K','L','M','N','O','P','Q','R','S','T','U','V','W','X','Y','Z',\n",
    "       'a','b','d','e','f','g','h','n','q','r','t']\n",
    "\n",
    "print(trainset_loader.dataset.data.shape)\n",
    "print(testset_loader.dataset.data.shape)\n",
    "\n",
    "# YOUR CODE HERE\n",
    "# raise NotImplementedError()"
   ]
  },
  {
   "cell_type": "code",
   "execution_count": 499,
   "id": "e7e64ead-a9ac-4ac5-9c9f-a4e85cc607a4",
   "metadata": {},
   "outputs": [],
   "source": [
    "class ConvNet(nn.Module):\n",
    "    def __init__(self):\n",
    "        super(ConvNet, self).__init__()\n",
    "        \n",
    "        # Conv2d(in_channels, out_channe|ls, kernel_size, stride=1, padding=0,\n",
    "        #        dilation=1, groups=1, bias=True, padding_mode='zeros')\n",
    "        self.conv1 = nn.Conv2d(1, 16, kernel_size=5, stride = 1, padding = 2)\n",
    "        self.conv2 = nn.Conv2d(16, 32, kernel_size=5, stride = 1, padding = 2)\n",
    "        self.conv2_drop = nn.Dropout2d()\n",
    "        \n",
    "        # Linear(in_features, out_features, bias=True)\n",
    "        self.fc1 = nn.Linear(32 * 7 * 7, 500)\n",
    "        self.fc2 = nn.Linear(500, 47)\n",
    "        \n",
    "        # MaxPool2d(kernel_size, stride=None, padding=0, dilation=1, return_indices=False, ceil_mode=False)\n",
    "        self.max_pool = nn.MaxPool2d(2)\n",
    "        # ReLU(inplace=False)\n",
    "        self.relu = nn.ReLU()\n",
    "\n",
    "    def forward(self, x):\n",
    "        # Note: the following two ways for max pooling / relu are equivalent.\n",
    "        # 1) with torch.nn.functional:\n",
    "        x = F.max_pool2d(F.relu(self.conv1(x)), 2)\n",
    "        # 2) with torch.nn:\n",
    "        x = F.max_pool2d(F.relu(self.conv2(x)), 2) #self.relu(self.max_pool(self.conv2_drop(self.conv2(x))))\n",
    "        x = x.view(-1, 32 * 7 * 7)\n",
    "        x = F.relu(self.fc1(x))\n",
    "        x = F.dropout(x, training=self.training)\n",
    "        x = self.fc2(x)\n",
    "        return F.log_softmax(x, dim=1)\n",
    "\n",
    "model = ConvNet().to(device)\n",
    "optimizer = optim.SGD(model.parameters(), lr=0.001, momentum=0.9)"
   ]
  },
  {
   "cell_type": "code",
   "execution_count": 500,
   "id": "09432e27-905e-4e88-88dd-f04a374155a5",
   "metadata": {},
   "outputs": [],
   "source": [
    "def train(epoch, log_interval=100):\n",
    "    model.train()  # set training mode\n",
    "    Taccuracies = []\n",
    "    Tlosses = []\n",
    "    for ep in range(epoch):\n",
    "        correct = 0\n",
    "        Tloss = 0\n",
    "        num = 1\n",
    "        for batch_idx, (data, target) in enumerate(trainset_loader):\n",
    "            # bring data to the computing device, e.g. GPU\n",
    "            data, target = data.to(device), target.to(device)\n",
    "            # print(target.shape)\n",
    "            # forward pass\n",
    "            output = model(data)\n",
    "            # compute loss: negative log-likelihood\n",
    "            loss = F.nll_loss(output, target)\n",
    "            \n",
    "            # backward pass\n",
    "            # clear the gradients of all tensors being optimized.\n",
    "            \n",
    "            loss.backward()\n",
    "            optimizer.step()\n",
    "            optimizer.zero_grad()\n",
    "            Tloss = Tloss + loss.item()\n",
    "\n",
    "            pred = output.max(1, keepdim=True)[1] # get the index of the max log-probability\n",
    "            correct += pred.eq(target.view_as(pred)).sum().item()\n",
    "            num = num + 1\n",
    "        \n",
    "        print('Accuracy: {}/{} ({:.0f}%)'.format(correct, len(trainset_loader.dataset), 100. * correct / len(trainset_loader.dataset)))\n",
    "        print('Loss: {:.6f}'.format(Tloss/num))\n",
    "        Taccuracies.append(100. * correct / len(trainset_loader.dataset))\n",
    "        Tlosses.append(Tloss/num)\n",
    "        # test() # evaluate at the end of epoch"
   ]
  },
  {
   "cell_type": "code",
   "execution_count": 501,
   "id": "984dd9b8-d847-4b63-9b84-a90c79341dca",
   "metadata": {},
   "outputs": [
    {
     "name": "stdout",
     "output_type": "stream",
     "text": [
      "Accuracy: 65804/112800 (58%)\n",
      "Loss: 1.451900\n",
      "Accuracy: 89100/112800 (79%)\n",
      "Loss: 0.633955\n",
      "Accuracy: 92617/112800 (82%)\n",
      "Loss: 0.530376\n",
      "Accuracy: 94183/112800 (83%)\n",
      "Loss: 0.476860\n",
      "Accuracy: 95492/112800 (85%)\n",
      "Loss: 0.444680\n",
      "Accuracy: 96263/112800 (85%)\n",
      "Loss: 0.418012\n",
      "Accuracy: 96915/112800 (86%)\n",
      "Loss: 0.397987\n",
      "Accuracy: 97472/112800 (86%)\n",
      "Loss: 0.380712\n",
      "Accuracy: 97948/112800 (87%)\n",
      "Loss: 0.368232\n",
      "Accuracy: 98314/112800 (87%)\n",
      "Loss: 0.354823\n",
      "Accuracy: 98588/112800 (87%)\n",
      "Loss: 0.346746\n",
      "Accuracy: 98849/112800 (88%)\n",
      "Loss: 0.338124\n",
      "Accuracy: 99279/112800 (88%)\n",
      "Loss: 0.328914\n",
      "Accuracy: 99471/112800 (88%)\n",
      "Loss: 0.320197\n",
      "Accuracy: 99779/112800 (88%)\n",
      "Loss: 0.311226\n",
      "Accuracy: 99912/112800 (89%)\n",
      "Loss: 0.306138\n",
      "Accuracy: 100218/112800 (89%)\n",
      "Loss: 0.296977\n",
      "Accuracy: 100432/112800 (89%)\n",
      "Loss: 0.292087\n",
      "Accuracy: 100614/112800 (89%)\n",
      "Loss: 0.286088\n",
      "Accuracy: 100843/112800 (89%)\n",
      "Loss: 0.282625\n"
     ]
    },
    {
     "ename": "TypeError",
     "evalue": "cannot unpack non-iterable NoneType object",
     "output_type": "error",
     "traceback": [
      "\u001b[1;31m---------------------------------------------------------------------------\u001b[0m",
      "\u001b[1;31mTypeError\u001b[0m                                 Traceback (most recent call last)",
      "\u001b[1;32m<ipython-input-501-5843dbc4bd89>\u001b[0m in \u001b[0;36m<module>\u001b[1;34m\u001b[0m\n\u001b[1;32m----> 1\u001b[1;33m \u001b[0mTaccuracies\u001b[0m\u001b[1;33m,\u001b[0m \u001b[0mTlosses\u001b[0m \u001b[1;33m=\u001b[0m \u001b[0mtrain\u001b[0m\u001b[1;33m(\u001b[0m\u001b[1;36m20\u001b[0m\u001b[1;33m)\u001b[0m\u001b[1;33m\u001b[0m\u001b[1;33m\u001b[0m\u001b[0m\n\u001b[0m",
      "\u001b[1;31mTypeError\u001b[0m: cannot unpack non-iterable NoneType object"
     ]
    }
   ],
   "source": [
    "Taccuracies, Tlosses = train(20)"
   ]
  },
  {
   "cell_type": "code",
   "execution_count": 514,
   "id": "e4278514-13bc-47ae-8ca7-4e793a4fd997",
   "metadata": {},
   "outputs": [
    {
     "data": {
      "image/png": "[encoded data removed]",
      "text/plain": [
       "<Figure size 432x288 with 1 Axes>"
      ]
     },
     "metadata": {
      "needs_background": "light"
     },
     "output_type": "display_data"
    },
    {
     "data": {
      "image/png": "[encoded data removed]",
      "text/plain": [
       "<Figure size 432x288 with 1 Axes>"
      ]
     },
     "metadata": {
      "needs_background": "light"
     },
     "output_type": "display_data"
    }
   ],
   "source": [
    "import matplotlib.pyplot as plt\n",
    "\n",
    "plt.figure()\n",
    "plt.plot(np.arange(20), [i for i in Taccuracies], label = \"Train Accuracy\")\n",
    "plt.xlabel(\"Iterations\")\n",
    "plt.ylabel(\"Accuracies (%)\")\n",
    "plt.legend(loc=\"best\")\n",
    "plt.title(\"Average Accuracies (%) vs Iterations\")\n",
    "plt.show()\n",
    "\n",
    "plt.figure()\n",
    "Drr = [1.451, 0.633, 0.530, 0.476, 0.444, 0.418, 0.397, 0.380, 0.368, 0.354, 0.346, 0.338, 0.328, 0.320, 0.311, 0.306, 0.296, 0.292, 0.286, 0.282]\n",
    "plt.plot(np.arange(20), Drr, label = \"Train Cross Entropy Loss\")\n",
    "plt.xlabel(\"Iterations\")\n",
    "plt.ylabel(\"Loss\")\n",
    "plt.legend(loc=\"best\")\n",
    "plt.title(\"Average Loss vs Iterations\")\n",
    "plt.show()"
   ]
  },
  {
   "cell_type": "code",
   "execution_count": 503,
   "id": "0a8777a9-96e8-4e6b-b009-e4fc5e908ae0",
   "metadata": {},
   "outputs": [
    {
     "name": "stderr",
     "output_type": "stream",
     "text": [
      "C:\\Users\\saisi\\AppData\\Local\\Programs\\Python\\Python37\\lib\\site-packages\\torch\\nn\\_reduction.py:44: UserWarning: size_average and reduce args will be deprecated, please use reduction='sum' instead.\n",
      "  warnings.warn(warning.format(ret))\n"
     ]
    },
    {
     "name": "stdout",
     "output_type": "stream",
     "text": [
      "\n",
      "Test set: Average loss: 0.3293, Accuracy: 16650/18800 (88.56%)\n",
      "\n"
     ]
    }
   ],
   "source": [
    "model.eval()  # set evaluation mode\n",
    "test_loss = 0\n",
    "correct = 0\n",
    "with torch.no_grad():\n",
    "    for data, target in testset_loader:\n",
    "        data, target = data.to(device), target.to(device)\n",
    "        output = model(data)\n",
    "        test_loss += F.nll_loss(output, target, size_average=False).item() \n",
    "        pred = output.max(1, keepdim=True)[1]\n",
    "        correct += pred.eq(target.view_as(pred)).sum().item()\n",
    "\n",
    "test_loss /= len(testset_loader.dataset)\n",
    "print('\\nTest set: Average loss: {:.4f}, Accuracy: {}/{} ({:.2f}%)\\n'.format(\n",
    "    test_loss, correct, len(testset_loader.dataset),\n",
    "    100. * correct / len(testset_loader.dataset)))"
   ]
  },
  {
   "cell_type": "code",
   "execution_count": 504,
   "id": "ca0bf90a-9b1c-44ca-9e56-7025333389f4",
   "metadata": {},
   "outputs": [],
   "source": [
    "import pickle\n",
    "with open('processed_images.pickle', 'rb') as handle:\n",
    "    processed_images = pickle.load(handle)"
   ]
  },
  {
   "cell_type": "code",
   "execution_count": 515,
   "id": "945f4791-515c-4779-9dfc-9085f6eb813a",
   "metadata": {},
   "outputs": [
    {
     "name": "stdout",
     "output_type": "stream",
     "text": [
      "(115, 28, 28)\n",
      "torch.Size([115, 1])\n",
      "Accuarcy 83.47826086956522 %\n",
      "T0DOLIST1MhKEhTOPOLZST2CHECKOFFTHEFIRSrTHINGONrODOLfST3RBhLIZEYOUHhVEhLREADYCOnPLErrD2THtNgS4REWhRDYOURSELFWIrHANAP\n",
      "TODOLIST1MAKEATODOLIST2CHECKOFFTHEFIRSTTHINGONTODOLIST3REALIZEYOUHAVEALREADYCOMPLETED2THINGS4REWARDYOURSELFWITHANAP\n"
     ]
    }
   ],
   "source": [
    "import matplotlib.pyplot as plt\n",
    "import skimage.transform\n",
    "inputn1 = np.ones((len(processed_images['image0']), 28, 28))\n",
    "for i in range(len(processed_images['image0'])):\n",
    "    inputn = processed_images['image0'][i].reshape(32,32).T\n",
    "    inputn = skimage.transform.resize(inputn*255, (28, 28))\n",
    "    inputn = (inputn - np.min(inputn))/(np.max(inputn) - np.min(inputn))\n",
    "    inputn = (1 - inputn) * 255\n",
    "    inputn1[i, :, :] = inputn\n",
    "print(inputn1.shape)\n",
    "inputn1 = torch.from_numpy(inputn1)\n",
    "inputn1 = inputn1.unsqueeze(1)\n",
    "outputn1 = model(inputn1.float())\n",
    "preds = outputn1.max(1, keepdim=True)[1]\n",
    "print(preds.size())\n",
    "output = \"\"\n",
    "for i in range(len(processed_images['image0'])):\n",
    "    output = output + label_map[preds[i,0]]\n",
    "groundtruth1 = \"TODOLIST1MAKEATODOLIST2CHECKOFFTHEFIRSTTHINGONTODOLIST3REALIZEYOUHAVEALREADYCOMPLETED2THINGS4REWARDYOURSELFWITHANAP\"\n",
    "correct = 0\n",
    "for x, y in zip(groundtruth1, output):\n",
    "    if x == y:\n",
    "        correct = correct + 1\n",
    "\n",
    "accuracy1 = correct*100/len(output)\n",
    "print(\"Accuarcy\", accuracy1, \"%\")\n",
    "print(output)\n",
    "print(groundtruth1)"
   ]
  },
  {
   "cell_type": "code",
   "execution_count": 517,
   "id": "90cbe74f-01a8-4b21-8041-c9e2370197b7",
   "metadata": {},
   "outputs": [
    {
     "name": "stdout",
     "output_type": "stream",
     "text": [
      "(36, 28, 28)\n",
      "torch.Size([36, 1])\n",
      "Accuarcy 94.44444444444444 %\n",
      "ABCDEFGHIJKLMN0PQRSTUVWXYZ12345678g0\n",
      "ABCDEFGHIJKLMNOPQRSTUVWXYZ1234567890\n"
     ]
    }
   ],
   "source": [
    "inputn1 = np.ones((len(processed_images['image1']), 28, 28))\n",
    "for i in range(len(processed_images['image1'])):\n",
    "    inputn = processed_images['image1'][i].reshape(32,32).T\n",
    "    inputn = skimage.transform.resize(inputn*255, (28, 28))\n",
    "    inputn = (inputn - np.min(inputn))/(np.max(inputn) - np.min(inputn))\n",
    "    inputn = (1 - inputn) * 255\n",
    "    inputn1[i, :, :] = inputn\n",
    "print(inputn1.shape)\n",
    "inputn1 = torch.from_numpy(inputn1)\n",
    "inputn1 = inputn1.unsqueeze(1)\n",
    "outputn1 = model(inputn1.float())\n",
    "preds = outputn1.max(1, keepdim=True)[1]\n",
    "print(preds.size())\n",
    "output = \"\"\n",
    "for i in range(len(processed_images['image1'])):\n",
    "    output = output + label_map[preds[i,0]]\n",
    "groundtruth1 = \"ABCDEFGHIJKLMNOPQRSTUVWXYZ1234567890\"\n",
    "correct = 0\n",
    "for x, y in zip(groundtruth1, output):\n",
    "    if x == y:\n",
    "        correct = correct + 1\n",
    "\n",
    "accuracy1 = correct*100/len(output)\n",
    "print(\"Accuarcy\", accuracy1, \"%\")\n",
    "print(output)\n",
    "print(groundtruth1)"
   ]
  },
  {
   "cell_type": "code",
   "execution_count": 518,
   "id": "999087c2-a045-4ab4-aaa5-c30cee359c6d",
   "metadata": {},
   "outputs": [
    {
     "name": "stdout",
     "output_type": "stream",
     "text": [
      "(54, 28, 28)\n",
      "torch.Size([54, 1])\n",
      "Accuarcy 94.44444444444444 %\n",
      "HAIKUSAREEASrBUTSOMETIMESTHErDONTMAKESENSEREFRIGERAnOR\n",
      "HAIKUSAREEASYBUTSOMETIMESTHEYDONTMAKESENSEREFRIGERATOR\n"
     ]
    }
   ],
   "source": [
    "inputn1 = np.ones((len(processed_images['image2']), 28, 28))\n",
    "for i in range(len(processed_images['image2'])):\n",
    "    inputn = processed_images['image2'][i].reshape(32,32).T\n",
    "    inputn = skimage.transform.resize(inputn*255, (28, 28))\n",
    "    inputn = (inputn - np.min(inputn))/(np.max(inputn) - np.min(inputn))\n",
    "    inputn = (1 - inputn) * 255\n",
    "    inputn1[i, :, :] = inputn\n",
    "print(inputn1.shape)\n",
    "inputn1 = torch.from_numpy(inputn1)\n",
    "inputn1 = inputn1.unsqueeze(1)\n",
    "outputn1 = model(inputn1.float())\n",
    "preds = outputn1.max(1, keepdim=True)[1]\n",
    "print(preds.size())\n",
    "output = \"\"\n",
    "for i in range(len(processed_images['image2'])):\n",
    "    output = output + label_map[preds[i,0]]\n",
    "groundtruth1 = \"HAIKUSAREEASYBUTSOMETIMESTHEYDONTMAKESENSEREFRIGERATOR\"\n",
    "correct = 0\n",
    "for x, y in zip(groundtruth1, output):\n",
    "    if x == y:\n",
    "        correct = correct + 1\n",
    "\n",
    "accuracy1 = correct*100/len(output)\n",
    "print(\"Accuarcy\", accuracy1, \"%\")\n",
    "print(output)\n",
    "print(groundtruth1)"
   ]
  },
  {
   "cell_type": "code",
   "execution_count": 519,
   "id": "165ccfa9-624a-4d9a-97df-a37c6021d787",
   "metadata": {},
   "outputs": [
    {
     "name": "stdout",
     "output_type": "stream",
     "text": [
      "(41, 28, 28)\n",
      "torch.Size([41, 1])\n",
      "Accuarcy 97.5609756097561 %\n",
      "DEEPLEARNINGDEEPERLEARNINGDEEPE5TLEARNING\n",
      "DEEPLEARNINGDEEPERLEARNINGDEEPESTLEARNING\n"
     ]
    }
   ],
   "source": [
    "inputn1 = np.ones((len(processed_images['image3']), 28, 28))\n",
    "for i in range(len(processed_images['image3'])):\n",
    "    inputn = processed_images['image3'][i].reshape(32,32).T\n",
    "    inputn = skimage.transform.resize(inputn*255, (28, 28))\n",
    "    inputn = (inputn - np.min(inputn))/(np.max(inputn) - np.min(inputn))\n",
    "    inputn = (1 - inputn) * 255\n",
    "    inputn1[i, :, :] = inputn\n",
    "print(inputn1.shape)\n",
    "inputn1 = torch.from_numpy(inputn1)\n",
    "inputn1 = inputn1.unsqueeze(1)\n",
    "outputn1 = model(inputn1.float())\n",
    "preds = outputn1.max(1, keepdim=True)[1]\n",
    "print(preds.size())\n",
    "output = \"\"\n",
    "for i in range(len(processed_images['image3'])):\n",
    "    output = output + label_map[preds[i,0]]\n",
    "groundtruth1 = \"DEEPLEARNINGDEEPERLEARNINGDEEPESTLEARNING\"\n",
    "correct = 0\n",
    "for x, y in zip(groundtruth1, output):\n",
    "    if x == y:\n",
    "        correct = correct + 1\n",
    "\n",
    "accuracy1 = correct*100/len(output)\n",
    "print(\"Accuarcy\", accuracy1, \"%\")\n",
    "print(output)\n",
    "print(groundtruth1)"
   ]
  },
  {
   "cell_type": "markdown",
   "id": "3301e587",
   "metadata": {
    "deletable": false,
    "editable": false,
    "nbgrader": {
     "cell_type": "markdown",
     "checksum": "6f322c93d86608abcf989f5dad29594f",
     "grade": false,
     "grade_id": "cell-d3bb203777b72e08",
     "locked": true,
     "schema_version": 3,
     "solution": false,
     "task": false
    }
   },
   "source": [
    "### Q7.2 Fine Tuning"
   ]
  },
  {
   "cell_type": "markdown",
   "id": "4a65f628",
   "metadata": {
    "deletable": false,
    "editable": false,
    "nbgrader": {
     "cell_type": "markdown",
     "checksum": "e51996f861826437597be509707b7908",
     "grade": false,
     "grade_id": "cell-d067bc4110bebd56",
     "locked": true,
     "schema_version": 3,
     "solution": false,
     "task": false
    }
   },
   "source": [
    "#### Q7.2.1 (10 Points Code+WriteUp)\n",
    " \n",
    "Fine-tune a single layer classifier using pytorch on the [flowers 17](http://www.robots.ox.ac.uk/~vgg/data/flowers/17/index.html) (or [flowers 102](http://www.robots.ox.ac.uk/~vgg/data/flowers/102/index.html)!) dataset using [squeezenet1\\_1](https://pytorch.org/docs/stable/torchvision/models.html), as well as an architecture you've designed yourself (*3 conv layers, followed 2 fc layers, it's standard [slide 6](http://cs231n.stanford.edu/slides/2018/cs231n_2018_lecture09.pdf)*) and trained from scratch. How do they compare? \n",
    "    \n",
    "We include a script in `scripts/` to fetch the flowers dataset and extract it in a way that [PyTorch ImageFolder](https://pytorch.org/docs/stable/torchvision/datasets.html#imagefolder) can consume it, see [an example](https://pytorch.org/tutorials/beginner/data_loading_tutorial.html#afterword-torchvision), from **data/oxford-flowers17**. You should look at how SqueezeNet is [defined](https://github.com/pytorch/vision/blob/master/torchvision/models/squeezenet.py), and just replace the classifier layer. There exists a pretty good example for [fine-tuning](https://gist.github.com/jcjohnson/6e41e8512c17eae5da50aebef3378a4c) in PyTorch.\n",
    "\n",
    "<font color=\"red\">**Please include the write up answer and the screenshot of code to theory.ipynb**</font>"
   ]
  },
  {
   "cell_type": "code",
   "execution_count": 484,
   "id": "9bc3b8e0",
   "metadata": {
    "deletable": false,
    "nbgrader": {
     "cell_type": "code",
     "checksum": "fdb148aeff7e12af6b301759804d1092",
     "grade": true,
     "grade_id": "cell-a35068c20e20519b",
     "locked": false,
     "points": 10,
     "schema_version": 3,
     "solution": true,
     "task": false
    }
   },
   "outputs": [
    {
     "name": "stdout",
     "output_type": "stream",
     "text": [
      "Starting epoch 1\n"
     ]
    },
    {
     "name": "stderr",
     "output_type": "stream",
     "text": [
      "C:\\Users\\saisi\\AppData\\Roaming\\Python\\Python37\\site-packages\\ipykernel_launcher.py:12: UserWarning: volatile was removed and now has no effect. Use `with torch.no_grad():` instead.\n",
      "  if sys.path[0] == '':\n"
     ]
    },
    {
     "name": "stdout",
     "output_type": "stream",
     "text": [
      "Train accuracy:  0.6558823529411765\n",
      "Val accuracy:  0.6558823529411765\n",
      "\n",
      "Starting epoch 2\n",
      "Train accuracy:  0.8426470588235294\n",
      "Val accuracy:  0.8735294117647059\n",
      "\n",
      "Starting epoch 3\n",
      "Train accuracy:  0.8838235294117647\n",
      "Val accuracy:  0.9\n",
      "\n",
      "Starting epoch 4\n",
      "Train accuracy:  0.913235294117647\n",
      "Val accuracy:  0.9147058823529411\n",
      "\n",
      "Starting epoch 5\n",
      "Train accuracy:  0.925\n",
      "Val accuracy:  0.9205882352941176\n",
      "\n",
      "Starting epoch 6\n",
      "Train accuracy:  0.9426470588235294\n",
      "Val accuracy:  0.9323529411764706\n",
      "\n",
      "Starting epoch 7\n",
      "Train accuracy:  0.9279411764705883\n",
      "Val accuracy:  0.9411764705882353\n",
      "\n",
      "Starting epoch 8\n",
      "Train accuracy:  0.9294117647058824\n",
      "Val accuracy:  0.9205882352941176\n",
      "\n",
      "Starting epoch 9\n",
      "Train accuracy:  0.95\n",
      "Val accuracy:  0.9411764705882353\n",
      "\n",
      "Starting epoch 10\n",
      "Train accuracy:  0.9470588235294117\n",
      "Val accuracy:  0.9470588235294117\n",
      "\n",
      "Starting epoch 11\n",
      "Train accuracy:  0.9529411764705882\n",
      "Val accuracy:  0.95\n",
      "\n",
      "Starting epoch 12\n",
      "Train accuracy:  0.9426470588235294\n",
      "Val accuracy:  0.9352941176470588\n",
      "\n",
      "Starting epoch 13\n",
      "Train accuracy:  0.9632352941176471\n",
      "Val accuracy:  0.95\n",
      "\n",
      "Starting epoch 14\n",
      "Train accuracy:  0.9632352941176471\n",
      "Val accuracy:  0.9441176470588235\n",
      "\n",
      "Starting epoch 15\n",
      "Train accuracy:  0.961764705882353\n",
      "Val accuracy:  0.9352941176470588\n",
      "\n",
      "Starting epoch 16\n",
      "Train accuracy:  0.961764705882353\n",
      "Val accuracy:  0.9294117647058824\n",
      "\n",
      "Starting epoch 17\n",
      "Train accuracy:  0.9602941176470589\n",
      "Val accuracy:  0.9441176470588235\n",
      "\n",
      "Starting epoch 18\n",
      "Train accuracy:  0.9558823529411765\n",
      "Val accuracy:  0.9529411764705882\n",
      "\n",
      "Starting epoch 19\n",
      "Train accuracy:  0.9779411764705882\n",
      "Val accuracy:  0.9411764705882353\n",
      "\n",
      "Starting epoch 20\n",
      "Train accuracy:  0.9661764705882353\n",
      "Val accuracy:  0.9470588235294117\n",
      "\n"
     ]
    }
   ],
   "source": [
    "# Code for fine-tune squeezenet1_1\n",
    "# YOUR CODE HERE\n",
    "from torchvision.datasets import ImageFolder\n",
    "from torch.autograd import Variable\n",
    "\n",
    "batch_size1 = 20\n",
    "num_epochs = 20\n",
    "def calculate_accuracy(model, loader):\n",
    "    model.eval()\n",
    "    num_correct, num_samples = 0, 0\n",
    "    for x, y in loader:\n",
    "        x_var = Variable(x, volatile=True) # .type(dtype)\n",
    "        scores = model(x_var)\n",
    "        _, preds = scores.data.cpu().max(1)\n",
    "        num_correct += (preds == y).sum()\n",
    "        num_samples += x.size(0)\n",
    "        acc = float(num_correct) / num_samples\n",
    "    return acc\n",
    "\n",
    "def run_model(model, loss_fn, loader, optimizer):\n",
    "    model.train()\n",
    "    for x, y in loader:\n",
    "        x_var = Variable(x.type(torch.FloatTensor))\n",
    "        y_var = Variable(y.type(torch.FloatTensor).long())\n",
    "        scores = model(x_var)\n",
    "        loss = loss_fn(scores, y_var)\n",
    "        optimizer.zero_grad()\n",
    "        loss.backward()\n",
    "        optimizer.step()\n",
    "    return loss\n",
    "    \n",
    "\n",
    "mean = [0.485, 0.456, 0.406]\n",
    "std = [0.229, 0.224, 0.225]\n",
    "train_transform = transforms.Compose([transforms.Scale(256), transforms.RandomSizedCrop(224), transforms.RandomHorizontalFlip(), transforms.ToTensor(), transforms.Normalize(mean, std)])\n",
    "\n",
    "train_dset = ImageFolder(\"./data/oxford-flowers17/train\", transform=train_transform)\n",
    "train_loader = DataLoader(train_dset, batch_size=batch_size1, num_workers=0, shuffle=True)\n",
    "\n",
    "val_transform = transforms.Compose([transforms.Scale(224), transforms.CenterCrop(224), transforms.ToTensor(), transforms.Normalize(mean, std)])\n",
    "val_dset = ImageFolder(\"./data/oxford-flowers17/val\", transform=val_transform)\n",
    "val_loader = DataLoader(val_dset, batch_size=batch_size1, num_workers=0)\n",
    "\n",
    "lastmodel = torchvision.models.squeezenet1_1(pretrained=True)\n",
    "num_classes = len(train_dset.classes)\n",
    "\n",
    "lastmodel.classifier[1] = nn.Conv2d(512, num_classes, kernel_size=(1,1), stride=(1,1))\n",
    "lastmodel.num_classes = num_classes\n",
    "\n",
    "loss_fn = nn.CrossEntropyLoss()\n",
    "for param in lastmodel.parameters():\n",
    "    param.requires_grad = False\n",
    "for param in lastmodel.classifier.parameters():\n",
    "    param.requires_grad = True\n",
    "\n",
    "\n",
    "optimizer = torch.optim.Adam(lastmodel.classifier.parameters(), lr=0.001)\n",
    "\n",
    "Taccuracies = []\n",
    "Vaccuracies = []\n",
    "Tlosses = []\n",
    "for epoch in range(num_epochs):\n",
    "    # Run an epoch over the training data.\n",
    "    print('Starting epoch %d' % (epoch + 1))\n",
    "    loss = run_model(lastmodel, loss_fn, train_loader, optimizer)\n",
    "\n",
    "    train_acc = calculate_accuracy(lastmodel, train_loader)\n",
    "    val_acc = calculate_accuracy(lastmodel, val_loader)\n",
    "    print('Train accuracy: ', train_acc)\n",
    "    print('Val accuracy: ', val_acc)\n",
    "    print()\n",
    "    Taccuracies.append(train_acc)\n",
    "    Vaccuracies.append(val_acc)\n",
    "    Tlosses.append(loss)\n"
   ]
  },
  {
   "cell_type": "code",
   "execution_count": 485,
   "id": "026b55bf-cf21-4182-98bc-93eeee00b4b6",
   "metadata": {},
   "outputs": [
    {
     "data": {
      "image/png": "[encoded data removed]",
      "text/plain": [
       "<Figure size 432x288 with 1 Axes>"
      ]
     },
     "metadata": {
      "needs_background": "light"
     },
     "output_type": "display_data"
    },
    {
     "data": {
      "image/png": "[encoded data removed]",
      "text/plain": [
       "<Figure size 432x288 with 1 Axes>"
      ]
     },
     "metadata": {
      "needs_background": "light"
     },
     "output_type": "display_data"
    },
    {
     "data": {
      "image/png": "[encoded data removed]",
      "text/plain": [
       "<Figure size 432x288 with 1 Axes>"
      ]
     },
     "metadata": {
      "needs_background": "light"
     },
     "output_type": "display_data"
    }
   ],
   "source": [
    "import matplotlib.pyplot as plt\n",
    "\n",
    "plt.figure()\n",
    "plt.plot(np.arange(20), [i*100 for i in Taccuracies], label = \"Train Accuracy\")\n",
    "plt.xlabel(\"Iterations\")\n",
    "plt.ylabel(\"Accuracies (%)\")\n",
    "plt.legend(loc=\"best\")\n",
    "plt.title(\"Average Accuracies (%) vs Iterations\")\n",
    "plt.show()\n",
    "\n",
    "plt.figure()\n",
    "plt.plot(np.arange(20), [i*100 for i in Vaccuracies], label = \"Valid Accuracy\")\n",
    "plt.xlabel(\"Iterations\")\n",
    "plt.ylabel(\"Accuracies (%)\")\n",
    "plt.legend(loc=\"best\")\n",
    "plt.title(\"Average Accuracies (%) vs Iterations\")\n",
    "plt.show()\n",
    "\n",
    "plt.figure()\n",
    "plt.plot(np.arange(20), [i for i in Tlosses], label = \"Train Cross Entropy Loss\")\n",
    "plt.xlabel(\"Iterations\")\n",
    "plt.ylabel(\"Loss\")\n",
    "plt.legend(loc=\"best\")\n",
    "plt.title(\"Average Loss vs Iterations\")\n",
    "plt.show()"
   ]
  },
  {
   "cell_type": "code",
   "execution_count": 513,
   "id": "11787666-abfd-4943-ab0f-d04202206c96",
   "metadata": {},
   "outputs": [
    {
     "name": "stderr",
     "output_type": "stream",
     "text": [
      "C:\\Users\\saisi\\AppData\\Local\\Programs\\Python\\Python37\\lib\\site-packages\\torchvision\\transforms\\transforms.py:279: UserWarning: The use of the transforms.Scale transform is deprecated, please use transforms.Resize instead.\n",
      "  warnings.warn(\"The use of the transforms.Scale transform is deprecated, \" +\n",
      "C:\\Users\\saisi\\AppData\\Local\\Programs\\Python\\Python37\\lib\\site-packages\\torchvision\\transforms\\transforms.py:840: UserWarning: The use of the transforms.RandomSizedCrop transform is deprecated, please use transforms.RandomResizedCrop instead.\n",
      "  warnings.warn(\"The use of the transforms.RandomSizedCrop transform is deprecated, \" +\n"
     ]
    },
    {
     "name": "stdout",
     "output_type": "stream",
     "text": [
      "Starting epoch 1\n"
     ]
    },
    {
     "name": "stderr",
     "output_type": "stream",
     "text": [
      "C:\\Users\\saisi\\AppData\\Roaming\\Python\\Python37\\site-packages\\ipykernel_launcher.py:12: UserWarning: volatile was removed and now has no effect. Use `with torch.no_grad():` instead.\n",
      "  if sys.path[0] == '':\n"
     ]
    },
    {
     "name": "stdout",
     "output_type": "stream",
     "text": [
      "Train accuracy:  0.6308823529411764\n",
      "Val accuracy:  0.6323529411764706\n",
      "\n",
      "Starting epoch 2\n",
      "Train accuracy:  0.8102941176470588\n",
      "Val accuracy:  0.8088235294117647\n",
      "\n",
      "Starting epoch 3\n",
      "Train accuracy:  0.861764705882353\n",
      "Val accuracy:  0.8676470588235294\n",
      "\n",
      "Starting epoch 4\n",
      "Train accuracy:  0.8735294117647059\n",
      "Val accuracy:  0.888235294117647\n",
      "\n",
      "Starting epoch 5\n",
      "Train accuracy:  0.9088235294117647\n",
      "Val accuracy:  0.9058823529411765\n",
      "\n",
      "Starting epoch 6\n",
      "Train accuracy:  0.9\n",
      "Val accuracy:  0.9088235294117647\n",
      "\n",
      "Starting epoch 7\n",
      "Train accuracy:  0.9338235294117647\n",
      "Val accuracy:  0.9235294117647059\n",
      "\n",
      "Starting epoch 8\n",
      "Train accuracy:  0.9485294117647058\n",
      "Val accuracy:  0.9294117647058824\n",
      "\n",
      "Starting epoch 9\n",
      "Train accuracy:  0.9397058823529412\n",
      "Val accuracy:  0.9117647058823529\n",
      "\n",
      "Starting epoch 10\n",
      "Train accuracy:  0.9294117647058824\n",
      "Val accuracy:  0.9382352941176471\n",
      "\n",
      "Starting epoch 11\n",
      "Train accuracy:  0.9294117647058824\n",
      "Val accuracy:  0.9205882352941176\n",
      "\n",
      "Starting epoch 12\n",
      "Train accuracy:  0.9397058823529412\n",
      "Val accuracy:  0.9058823529411765\n",
      "\n",
      "Starting epoch 13\n",
      "Train accuracy:  0.9514705882352941\n",
      "Val accuracy:  0.9382352941176471\n",
      "\n",
      "Starting epoch 14\n",
      "Train accuracy:  0.9514705882352941\n",
      "Val accuracy:  0.9411764705882353\n",
      "\n",
      "Starting epoch 15\n",
      "Train accuracy:  0.9411764705882353\n",
      "Val accuracy:  0.9235294117647059\n",
      "\n",
      "Starting epoch 16\n",
      "Train accuracy:  0.9455882352941176\n",
      "Val accuracy:  0.9352941176470588\n",
      "\n",
      "Starting epoch 17\n",
      "Train accuracy:  0.9323529411764706\n",
      "Val accuracy:  0.9294117647058824\n",
      "\n",
      "Starting epoch 18\n",
      "Train accuracy:  0.9558823529411765\n",
      "Val accuracy:  0.9382352941176471\n",
      "\n",
      "Starting epoch 19\n",
      "Train accuracy:  0.9514705882352941\n",
      "Val accuracy:  0.9294117647058824\n",
      "\n",
      "Starting epoch 20\n",
      "Train accuracy:  0.9338235294117647\n",
      "Val accuracy:  0.9382352941176471\n",
      "\n"
     ]
    }
   ],
   "source": [
    "# Code for fine-tune squeezenet1_1\n",
    "# YOUR CODE HERE\n",
    "from torchvision.datasets import ImageFolder\n",
    "from torch.autograd import Variable\n",
    "\n",
    "batch_size1 = 40\n",
    "num_epochs = 20\n",
    "def calculate_accuracy(model, loader):\n",
    "    model.eval()\n",
    "    num_correct, num_samples = 0, 0\n",
    "    for x, y in loader:\n",
    "        x_var = Variable(x, volatile=True) # .type(dtype)\n",
    "        scores = model(x_var)\n",
    "        _, preds = scores.data.cpu().max(1)\n",
    "        num_correct += (preds == y).sum()\n",
    "        num_samples += x.size(0)\n",
    "        acc = float(num_correct) / num_samples\n",
    "    return acc\n",
    "\n",
    "def run_model(model, loss_fn, loader, optimizer):\n",
    "    model.train()\n",
    "    for x, y in loader:\n",
    "        x_var = Variable(x.type(torch.FloatTensor))\n",
    "        y_var = Variable(y.type(torch.FloatTensor).long())\n",
    "        scores = model(x_var)\n",
    "        loss = loss_fn(scores, y_var)\n",
    "        optimizer.zero_grad()\n",
    "        loss.backward()\n",
    "        optimizer.step()\n",
    "    return loss\n",
    "    \n",
    "\n",
    "mean = [0.485, 0.456, 0.406]\n",
    "std = [0.229, 0.224, 0.225]\n",
    "train_transform = transforms.Compose([transforms.Scale(256), transforms.RandomSizedCrop(224), transforms.RandomHorizontalFlip(), transforms.ToTensor(), transforms.Normalize(mean, std)])\n",
    "\n",
    "train_dset = ImageFolder(\"./data/oxford-flowers17/train\", transform=train_transform)\n",
    "train_loader = DataLoader(train_dset, batch_size=batch_size1, num_workers=0, shuffle=True)\n",
    "\n",
    "val_transform = transforms.Compose([transforms.Scale(224), transforms.CenterCrop(224), transforms.ToTensor(), transforms.Normalize(mean, std)])\n",
    "val_dset = ImageFolder(\"./data/oxford-flowers17/val\", transform=val_transform)\n",
    "val_loader = DataLoader(val_dset, batch_size=batch_size1, num_workers=0)\n",
    "\n",
    "lastmodel = torchvision.models.squeezenet1_1(pretrained=True)\n",
    "num_classes = len(train_dset.classes)\n",
    "lastmodel.classifier[1] = nn.Conv2d(512, num_classes, kernel_size=(1,1), stride=(1,1))\n",
    "lastmodel.num_classes = num_classes\n",
    "\n",
    "loss_fn = nn.CrossEntropyLoss()\n",
    "for param in lastmodel.parameters():\n",
    "    param.requires_grad = False\n",
    "for param in lastmodel.classifier.parameters():\n",
    "    param.requires_grad = True\n",
    "\n",
    "\n",
    "optimizer = torch.optim.Adam(lastmodel.classifier.parameters(), lr=0.009)\n",
    "\n",
    "Taccuracies = []\n",
    "Vaccuracies = []\n",
    "Tlosses = []\n",
    "for epoch in range(num_epochs):\n",
    "    print('Starting epoch %d' % (epoch + 1))\n",
    "    loss = run_model(lastmodel, loss_fn, train_loader, optimizer)\n",
    "\n",
    "    train_acc = calculate_accuracy(lastmodel, train_loader)\n",
    "    val_acc = calculate_accuracy(lastmodel, val_loader)\n",
    "    print('Train accuracy: ', train_acc)\n",
    "    print('Val accuracy: ', val_acc)\n",
    "    print()\n",
    "    Taccuracies.append(train_acc)\n",
    "    Vaccuracies.append(val_acc)\n",
    "    Tlosses.append(loss)"
   ]
  },
  {
   "cell_type": "code",
   "execution_count": 521,
   "id": "39da9f44-1a21-4bb6-bfd9-a86cbb3112e5",
   "metadata": {},
   "outputs": [
    {
     "data": {
      "image/png": "[encoded data removed]",
      "text/plain": [
       "<Figure size 432x288 with 1 Axes>"
      ]
     },
     "metadata": {
      "needs_background": "light"
     },
     "output_type": "display_data"
    },
    {
     "data": {
      "image/png": "[encoded data removed]",
      "text/plain": [
       "<Figure size 432x288 with 1 Axes>"
      ]
     },
     "metadata": {
      "needs_background": "light"
     },
     "output_type": "display_data"
    },
    {
     "data": {
      "image/png": "[encoded data removed]",
      "text/plain": [
       "<Figure size 432x288 with 1 Axes>"
      ]
     },
     "metadata": {
      "needs_background": "light"
     },
     "output_type": "display_data"
    }
   ],
   "source": [
    "import matplotlib.pyplot as plt\n",
    "\n",
    "plt.figure()\n",
    "plt.plot(np.arange(20), [i*100 for i in Taccuracies], label = \"Train Accuracy\")\n",
    "plt.xlabel(\"Iterations\")\n",
    "plt.ylabel(\"Accuracies (%)\")\n",
    "plt.legend(loc=\"best\")\n",
    "plt.title(\"Average Accuracies (%) vs Iterations\")\n",
    "plt.show()\n",
    "\n",
    "plt.figure()\n",
    "plt.plot(np.arange(20), [i*100 for i in Vaccuracies], label = \"Valid Accuracy\")\n",
    "plt.xlabel(\"Iterations\")\n",
    "plt.ylabel(\"Accuracies (%)\")\n",
    "plt.legend(loc=\"best\")\n",
    "plt.title(\"Average Accuracies (%) vs Iterations\")\n",
    "plt.show()\n",
    "\n",
    "plt.figure()\n",
    "plt.plot(np.arange(20), [i for i in Tlosses], label = \"Train Cross Entropy Loss\")\n",
    "plt.xlabel(\"Iterations\")\n",
    "plt.ylabel(\"Loss\")\n",
    "plt.legend(loc=\"best\")\n",
    "plt.title(\"Average Loss vs Iterations\")\n",
    "plt.show()"
   ]
  },
  {
   "cell_type": "code",
   "execution_count": 492,
   "id": "9aba22c3",
   "metadata": {
    "deletable": false,
    "nbgrader": {
     "cell_type": "code",
     "checksum": "95692dd504e0ccd968b109aacf6b1722",
     "grade": true,
     "grade_id": "cell-a94d41f5ea3dcc20",
     "locked": false,
     "points": 0,
     "schema_version": 3,
     "solution": true,
     "task": false
    }
   },
   "outputs": [],
   "source": [
    "# Code for fine-tune the network you designed\n",
    "# YOUR CODE HERE\n",
    "class ConvNetF(nn.Module):\n",
    "    def __init__(self):\n",
    "        super(ConvNetF, self).__init__()\n",
    "        \n",
    "        self.conv1 = nn.Conv2d(3, 16, kernel_size=7, stride = 1, padding = 3)\n",
    "        self.conv2 = nn.Conv2d(16, 64, kernel_size=5, stride = 1, padding = 2)\n",
    "        self.conv3 = nn.Conv2d(64, 256, kernel_size=5, stride = 1, padding = 2)\n",
    "        self.conv3_drop = nn.Dropout2d()\n",
    "        \n",
    "        self.fc1 = nn.Linear(256 * 28 * 28, 1000)\n",
    "        self.fc2 = nn.Linear(1000, 17)\n",
    "        \n",
    "        self.max_pool = nn.MaxPool2d(2)\n",
    "        self.relu = nn.ReLU()\n",
    "\n",
    "    def forward(self, x):\n",
    "        x = F.max_pool2d(F.relu(self.conv1(x)), 2)\n",
    "        x = F.max_pool2d(F.relu(self.conv2(x)), 2) \n",
    "        x = self.max_pool(self.relu(self.conv3_drop(self.conv3(x))))\n",
    "        x = x.view(-1, 256 * 28 * 28)\n",
    "        x = F.relu(self.fc1(x))\n",
    "        x = F.dropout(x, training=self.training)\n",
    "        x = self.fc2(x)\n",
    "        return x \n",
    "\n",
    "mymodel = ConvNetF().to(device)\n",
    "optimizer = optim.SGD(mymodel.parameters(), lr=0.001, momentum=0.9)\n",
    "# raise NotImplementedError()"
   ]
  },
  {
   "cell_type": "code",
   "execution_count": 494,
   "id": "f81ef66f-c705-44b4-9ef0-37359d902ea1",
   "metadata": {},
   "outputs": [
    {
     "name": "stdout",
     "output_type": "stream",
     "text": [
      "Starting epoch 1\n"
     ]
    },
    {
     "name": "stderr",
     "output_type": "stream",
     "text": [
      "C:\\Users\\saisi\\AppData\\Roaming\\Python\\Python37\\site-packages\\ipykernel_launcher.py:5: UserWarning: volatile was removed and now has no effect. Use `with torch.no_grad():` instead.\n",
      "  \"\"\"\n"
     ]
    },
    {
     "name": "stdout",
     "output_type": "stream",
     "text": [
      "Train accuracy:  0.1323529411764706\n",
      "Val accuracy:  0.14411764705882352\n",
      "\n",
      "Starting epoch 2\n",
      "Train accuracy:  0.17058823529411765\n",
      "Val accuracy:  0.1588235294117647\n",
      "\n",
      "Starting epoch 3\n",
      "Train accuracy:  0.22647058823529412\n",
      "Val accuracy:  0.21176470588235294\n",
      "\n",
      "Starting epoch 4\n",
      "Train accuracy:  0.225\n",
      "Val accuracy:  0.22058823529411764\n",
      "\n",
      "Starting epoch 5\n",
      "Train accuracy:  0.32794117647058824\n",
      "Val accuracy:  0.32941176470588235\n",
      "\n",
      "Starting epoch 6\n",
      "Train accuracy:  0.3426470588235294\n",
      "Val accuracy:  0.31470588235294117\n",
      "\n",
      "Starting epoch 7\n",
      "Train accuracy:  0.3720588235294118\n",
      "Val accuracy:  0.3558823529411765\n",
      "\n",
      "Starting epoch 8\n",
      "Train accuracy:  0.4147058823529412\n",
      "Val accuracy:  0.4\n",
      "\n",
      "Starting epoch 9\n",
      "Train accuracy:  0.4323529411764706\n",
      "Val accuracy:  0.4294117647058823\n",
      "\n",
      "Starting epoch 10\n",
      "Train accuracy:  0.4426470588235294\n",
      "Val accuracy:  0.45\n",
      "\n",
      "Starting epoch 11\n",
      "Train accuracy:  0.47058823529411764\n",
      "Val accuracy:  0.48823529411764705\n",
      "\n",
      "Starting epoch 12\n",
      "Train accuracy:  0.475\n",
      "Val accuracy:  0.4647058823529412\n",
      "\n",
      "Starting epoch 13\n",
      "Train accuracy:  0.4632352941176471\n",
      "Val accuracy:  0.4411764705882353\n",
      "\n",
      "Starting epoch 14\n",
      "Train accuracy:  0.49558823529411766\n",
      "Val accuracy:  0.49117647058823527\n",
      "\n",
      "Starting epoch 15\n",
      "Train accuracy:  0.49558823529411766\n",
      "Val accuracy:  0.5235294117647059\n",
      "\n",
      "Starting epoch 16\n",
      "Train accuracy:  0.5220588235294118\n",
      "Val accuracy:  0.5411764705882353\n",
      "\n",
      "Starting epoch 17\n",
      "Train accuracy:  0.49117647058823527\n",
      "Val accuracy:  0.5323529411764706\n",
      "\n",
      "Starting epoch 18\n",
      "Train accuracy:  0.5088235294117647\n",
      "Val accuracy:  0.5411764705882353\n",
      "\n",
      "Starting epoch 19\n",
      "Train accuracy:  0.513235294117647\n",
      "Val accuracy:  0.5088235294117647\n",
      "\n",
      "Starting epoch 20\n",
      "Train accuracy:  0.5029411764705882\n",
      "Val accuracy:  0.5205882352941177\n",
      "\n"
     ]
    }
   ],
   "source": [
    "def calculate_accuracy(model, loader):\n",
    "    model.eval()\n",
    "    num_correct, num_samples = 0, 0\n",
    "    for x, y in loader:\n",
    "        x_var = Variable(x, volatile=True) # .type(dtype)\n",
    "        scores = model(x_var)\n",
    "        preds = torch.max(scores, 1)[1]\n",
    "        num_correct += (preds == y).sum()\n",
    "        num_samples += x.size(0)\n",
    "        acc = float(num_correct) / num_samples\n",
    "    return acc\n",
    "\n",
    "def run_model(model, loss_fn, loader, optimizer):\n",
    "    model.train()\n",
    "    for x, y in loader:\n",
    "        x_var = Variable(x.type(torch.FloatTensor))\n",
    "        y_var = Variable(y.type(torch.FloatTensor).long())\n",
    "        scores = model(x_var)\n",
    "        loss = loss_fn(scores, y_var)\n",
    "        optimizer.zero_grad()\n",
    "        loss.backward()\n",
    "        optimizer.step()\n",
    "    return loss\n",
    "\n",
    "Taccuracies = []\n",
    "Vaccuracies = []\n",
    "Tlosses = []\n",
    "for epoch in range(20):\n",
    "    # Run an epoch over the training data.\n",
    "    print('Starting epoch %d' % (epoch + 1))\n",
    "    run_model(mymodel, loss_fn, train_loader, optimizer)\n",
    "\n",
    "    train_acc = calculate_accuracy(mymodel, train_loader)\n",
    "    val_acc = calculate_accuracy(mymodel, val_loader)\n",
    "    print('Train accuracy: ', train_acc)\n",
    "    print('Val accuracy: ', val_acc)\n",
    "    print()\n",
    "    Taccuracies.append(train_acc)\n",
    "    Vaccuracies.append(val_acc)\n",
    "    Tlosses.append(loss)"
   ]
  },
  {
   "cell_type": "code",
   "execution_count": 496,
   "id": "2da635c9-9d95-4e6c-913b-8e16e97d5657",
   "metadata": {},
   "outputs": [
    {
     "data": {
      "image/png": "[encoded data removed]",
      "text/plain": [
       "<Figure size 432x288 with 1 Axes>"
      ]
     },
     "metadata": {
      "needs_background": "light"
     },
     "output_type": "display_data"
    },
    {
     "data": {
      "image/png": "[encoded data removed]",
      "text/plain": [
       "<Figure size 432x288 with 1 Axes>"
      ]
     },
     "metadata": {
      "needs_background": "light"
     },
     "output_type": "display_data"
    }
   ],
   "source": [
    "import matplotlib.pyplot as plt\n",
    "\n",
    "plt.figure()\n",
    "plt.plot(np.arange(20), [i*100 for i in Taccuracies], label = \"Train Accuracy\")\n",
    "plt.xlabel(\"Iterations\")\n",
    "plt.ylabel(\"Accuracies (%)\")\n",
    "plt.legend(loc=\"best\")\n",
    "plt.title(\"Average Accuracies (%) vs Iterations\")\n",
    "plt.show()\n",
    "\n",
    "plt.figure()\n",
    "plt.plot(np.arange(20), [i*100 for i in Vaccuracies], label = \"Valid Accuracy\")\n",
    "plt.xlabel(\"Iterations\")\n",
    "plt.ylabel(\"Accuracies (%)\")\n",
    "plt.legend(loc=\"best\")\n",
    "plt.title(\"Average Accuracies (%) vs Iterations\")\n",
    "plt.show()\n"
   ]
  },
  {
   "cell_type": "code",
   "execution_count": null,
   "id": "44e79e09-5c71-44f9-9fa3-88497bb54a98",
   "metadata": {},
   "outputs": [],
   "source": [
    "# for epoch in range(20):\n",
    "#     # Run an epoch over the training data.\n",
    "#     print('Starting epoch %d / %d' % (epoch + 1, num_epochs))\n",
    "#     run_model(mymodel, loss_fn, train_loader, optimizer)\n",
    "\n",
    "#     train_acc = calculate_accuracy(mymodel, train_loader)\n",
    "#     val_acc = calculate_accuracy(mymodel, val_loader)\n",
    "#     print('Train accuracy: ', train_acc)\n",
    "#     print('Val accuracy: ', val_acc)\n",
    "#     print()"
   ]
  }
 ],
 "metadata": {
  "kernelspec": {
   "display_name": "Python 3",
   "language": "python",
   "name": "python3"
  },
  "language_info": {
   "codemirror_mode": {
    "name": "ipython",
    "version": 3
   },
   "file_extension": ".py",
   "mimetype": "text/x-python",
   "name": "python",
   "nbconvert_exporter": "python",
   "pygments_lexer": "ipython3",
   "version": "3.7.9"
  }
 },
 "nbformat": 4,
 "nbformat_minor": 5
}
