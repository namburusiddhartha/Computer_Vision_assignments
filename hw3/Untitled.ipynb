{
 "cells": [
  {
   "cell_type": "code",
   "execution_count": 2,
   "id": "acaa5bbb-367c-4954-a41b-ee3d9079dfe2",
   "metadata": {},
   "outputs": [],
   "source": [
    "import numpy as np"
   ]
  },
  {
   "cell_type": "code",
   "execution_count": 5,
   "id": "b4d99f3a-c5dc-444f-8bab-a8d23e22e77c",
   "metadata": {},
   "outputs": [],
   "source": [
    "A = np.ones((5, ))\n",
    "N = 7"
   ]
  },
  {
   "cell_type": "code",
   "execution_count": 15,
   "id": "45207f98-da11-46be-ae24-3de3b3644866",
   "metadata": {},
   "outputs": [],
   "source": [
    "Y_max = np.array([np.arange(5), A])"
   ]
  },
  {
   "cell_type": "code",
   "execution_count": 16,
   "id": "183fb8b3-fb42-441e-aa1c-368b20bc7f46",
   "metadata": {},
   "outputs": [
    {
     "data": {
      "text/plain": [
       "array([[0., 1., 2., 3., 4.],\n",
       "       [1., 1., 1., 1., 1.]])"
      ]
     },
     "execution_count": 16,
     "metadata": {},
     "output_type": "execute_result"
    }
   ],
   "source": [
    "Y_max"
   ]
  },
  {
   "cell_type": "code",
   "execution_count": 18,
   "id": "a26bceb9-9620-42a6-a5ac-282286d603db",
   "metadata": {},
   "outputs": [
    {
     "data": {
      "text/plain": [
       "array([[0., 1.],\n",
       "       [1., 1.],\n",
       "       [2., 1.],\n",
       "       [3., 1.],\n",
       "       [4., 1.]])"
      ]
     },
     "execution_count": 18,
     "metadata": {},
     "output_type": "execute_result"
    }
   ],
   "source": [
    "Y_max.T"
   ]
  },
  {
   "cell_type": "code",
   "execution_count": 20,
   "id": "4611785e-638f-40af-84d3-33e95bd3890a",
   "metadata": {},
   "outputs": [],
   "source": [
    "C = np.random.randint(5, size = (5, 10))"
   ]
  },
  {
   "cell_type": "code",
   "execution_count": 21,
   "id": "b7c009b8-6e7d-488f-b246-9e698e3a3eb0",
   "metadata": {},
   "outputs": [
    {
     "data": {
      "text/plain": [
       "array([[2, 0, 2, 2, 4, 4, 4, 0, 3, 2],\n",
       "       [3, 1, 1, 4, 3, 2, 0, 0, 2, 0],\n",
       "       [0, 2, 1, 4, 2, 1, 2, 2, 4, 3],\n",
       "       [0, 0, 3, 2, 2, 3, 4, 2, 1, 3],\n",
       "       [2, 2, 1, 2, 1, 3, 0, 0, 3, 1]])"
      ]
     },
     "execution_count": 21,
     "metadata": {},
     "output_type": "execute_result"
    }
   ],
   "source": [
    "C"
   ]
  },
  {
   "cell_type": "code",
   "execution_count": 24,
   "id": "b85dbbfc-55c9-45a4-9134-7d844914a014",
   "metadata": {},
   "outputs": [
    {
     "data": {
      "text/plain": [
       "(5, 10)"
      ]
     },
     "execution_count": 24,
     "metadata": {},
     "output_type": "execute_result"
    }
   ],
   "source": [
    "C.shape"
   ]
  },
  {
   "cell_type": "code",
   "execution_count": 29,
   "id": "9ead8fcc-10d5-4871-8535-c9394dd6c804",
   "metadata": {},
   "outputs": [
    {
     "data": {
      "text/plain": [
       "array([0., 1., 2., 3., 4.])"
      ]
     },
     "execution_count": 29,
     "metadata": {},
     "output_type": "execute_result"
    }
   ],
   "source": [
    "Y_max.T[:,0]"
   ]
  },
  {
   "cell_type": "code",
   "execution_count": 32,
   "id": "b5097d85-51a1-49a7-bcad-377ed95930b8",
   "metadata": {},
   "outputs": [
    {
     "data": {
      "text/plain": [
       "array([0, 1, 2, 0, 2])"
      ]
     },
     "execution_count": 32,
     "metadata": {},
     "output_type": "execute_result"
    }
   ],
   "source": [
    "C[(Y_max.T[:,0]).astype(int), (Y_max.T[:,1]).astype(int)]"
   ]
  },
  {
   "cell_type": "code",
   "execution_count": 34,
   "id": "f4868730-f3c1-4651-ba93-80b6c296c3a4",
   "metadata": {},
   "outputs": [],
   "source": [
    "D = np.equal(C,C)\n",
    "D[2,2] = False"
   ]
  },
  {
   "cell_type": "code",
   "execution_count": 35,
   "id": "ad42adc8-1324-4435-924f-53112e9f6575",
   "metadata": {},
   "outputs": [
    {
     "data": {
      "text/plain": [
       "array([[ True,  True,  True,  True,  True,  True,  True,  True,  True,\n",
       "         True],\n",
       "       [ True,  True,  True,  True,  True,  True,  True,  True,  True,\n",
       "         True],\n",
       "       [ True,  True, False,  True,  True,  True,  True,  True,  True,\n",
       "         True],\n",
       "       [ True,  True,  True,  True,  True,  True,  True,  True,  True,\n",
       "         True],\n",
       "       [ True,  True,  True,  True,  True,  True,  True,  True,  True,\n",
       "         True]])"
      ]
     },
     "execution_count": 35,
     "metadata": {},
     "output_type": "execute_result"
    }
   ],
   "source": [
    "D"
   ]
  },
  {
   "cell_type": "code",
   "execution_count": 37,
   "id": "f496e411-270d-40ee-a5b1-0877d2333970",
   "metadata": {},
   "outputs": [
    {
     "data": {
      "text/plain": [
       "array([1, 1, 0, 1, 1])"
      ]
     },
     "execution_count": 37,
     "metadata": {},
     "output_type": "execute_result"
    }
   ],
   "source": [
    "np.all(D, axis = 1).astype(int)"
   ]
  },
  {
   "cell_type": "code",
   "execution_count": 41,
   "id": "d61055f0-656b-48f7-8ded-4d7295ea0faf",
   "metadata": {},
   "outputs": [
    {
     "data": {
      "text/plain": [
       "array([4, 3, 3, 6, 5], dtype=int64)"
      ]
     },
     "execution_count": 41,
     "metadata": {},
     "output_type": "execute_result"
    }
   ],
   "source": [
    "np.argmax(C, axis = 1)"
   ]
  },
  {
   "cell_type": "code",
   "execution_count": 42,
   "id": "981b3228-a48f-4aaf-8063-6ba7f10eeff7",
   "metadata": {},
   "outputs": [],
   "source": [
    "Y_max = np.array([np.arange(5), np.argmax(C, axis = 1)])"
   ]
  },
  {
   "cell_type": "code",
   "execution_count": 43,
   "id": "b44fc62b-bbe4-4a43-b7d3-ee264ee43d36",
   "metadata": {},
   "outputs": [
    {
     "data": {
      "text/plain": [
       "array([[0, 1, 2, 3, 4],\n",
       "       [4, 3, 3, 6, 5]], dtype=int64)"
      ]
     },
     "execution_count": 43,
     "metadata": {},
     "output_type": "execute_result"
    }
   ],
   "source": [
    "Y_max"
   ]
  },
  {
   "cell_type": "code",
   "execution_count": null,
   "id": "8e4527d2-954a-4a30-b3e3-a08c210b1a27",
   "metadata": {},
   "outputs": [],
   "source": []
  },
  {
   "cell_type": "code",
   "execution_count": 56,
   "id": "034998a6-7068-4fde-a623-633727bd23d6",
   "metadata": {},
   "outputs": [],
   "source": [
    "ix1 = tuple((Y_max.T[:,0]).astype(int))"
   ]
  },
  {
   "cell_type": "code",
   "execution_count": 55,
   "id": "35989982-7879-486a-8663-71831cbb4793",
   "metadata": {},
   "outputs": [],
   "source": [
    "ix2 = tuple((Y_max.T[:,1]).astype(int))"
   ]
  },
  {
   "cell_type": "code",
   "execution_count": 57,
   "id": "2e432f84-3b75-4ea5-9007-20e0a887745c",
   "metadata": {},
   "outputs": [],
   "source": [
    "C[tuple((Y_max.T[:,0]).astype(int)), tuple((Y_max.T[:,1]).astype(int))] = 1"
   ]
  },
  {
   "cell_type": "code",
   "execution_count": 58,
   "id": "d28bbaba-78d3-4d16-8020-bb0370323d6e",
   "metadata": {},
   "outputs": [],
   "source": [
    "CC = np.array([[2, 0, 2, 2, 1, 4, 4, 0, 3, 2],\n",
    "       [3, 1, 1, 1, 3, 2, 0, 0, 2, 0],\n",
    "       [0, 2, 1, 1, 2, 1, 2, 2, 4, 3],\n",
    "       [0, 0, 3, 2, 2, 3, 1, 2, 1, 3],\n",
    "       [2, 2, 1, 2, 1, 1, 0, 0, 3, 1]])"
   ]
  },
  {
   "cell_type": "code",
   "execution_count": 59,
   "id": "16bb166a-4e24-4dd1-9ae6-725f30818c22",
   "metadata": {},
   "outputs": [],
   "source": [
    "Y_correct = np.all(np.equal(CC,C), axis = 1).astype(int)"
   ]
  },
  {
   "cell_type": "code",
   "execution_count": 60,
   "id": "e80695c2-2300-4bde-b20a-dfc292b0f75b",
   "metadata": {},
   "outputs": [],
   "source": [
    "acc = np.count_nonzero(Y_correct)/5"
   ]
  },
  {
   "cell_type": "code",
   "execution_count": 61,
   "id": "f69e012e-71c7-4627-9f90-f0290565c957",
   "metadata": {},
   "outputs": [
    {
     "data": {
      "text/plain": [
       "1.0"
      ]
     },
     "execution_count": 61,
     "metadata": {},
     "output_type": "execute_result"
    }
   ],
   "source": [
    "acc"
   ]
  },
  {
   "cell_type": "code",
   "execution_count": 63,
   "id": "e1f6fef2-9d1a-4b21-a1dd-9149c793af72",
   "metadata": {},
   "outputs": [
    {
     "data": {
      "text/plain": [
       "array([20, 13, 18, 17, 13])"
      ]
     },
     "execution_count": 63,
     "metadata": {},
     "output_type": "execute_result"
    }
   ],
   "source": [
    "np.sum(CC, axis = 1)"
   ]
  },
  {
   "cell_type": "code",
   "execution_count": 71,
   "id": "5b02847a-609a-441b-86c9-7e19d5abc4c8",
   "metadata": {},
   "outputs": [],
   "source": [
    "d = np.random.randint(0,20, size = 3)"
   ]
  },
  {
   "cell_type": "code",
   "execution_count": 69,
   "id": "66505464-b903-4c0a-9ec4-c27ed3cb24c9",
   "metadata": {},
   "outputs": [],
   "source": [
    "n, c1, c2 = 20, 100, 5\n",
    "batch_size = 3\n",
    "x = np.random.rand(n, c1)\n",
    "y = np.random.rand(n, c2)"
   ]
  },
  {
   "cell_type": "code",
   "execution_count": 76,
   "id": "b8f6f3ef-db9c-43e1-9d2b-138ea2dd48b1",
   "metadata": {},
   "outputs": [
    {
     "data": {
      "text/plain": [
       "(3, 100)"
      ]
     },
     "execution_count": 76,
     "metadata": {},
     "output_type": "execute_result"
    }
   ],
   "source": [
    "x[tuple(d),:].shape"
   ]
  },
  {
   "cell_type": "code",
   "execution_count": 77,
   "id": "b684c9da-dd43-443e-a7a5-c7db43c08e8f",
   "metadata": {},
   "outputs": [
    {
     "name": "stdout",
     "output_type": "stream",
     "text": [
      "[0 0 0 0 0 0 0 0 0 0 1 1 1 1 1 1 1 1 1 1 2 2 2 2 2 2 2 2 2 2 3 3 3 3 3 3 3\n",
      " 3 3 3]\n"
     ]
    }
   ],
   "source": [
    "y_idx = np.array([0 for _ in range(10)] + [1 for _ in range(10)] + [2 for _ in range(10)] + [3 for _ in range(10)])\n",
    "print(y_idx)"
   ]
  },
  {
   "cell_type": "code",
   "execution_count": null,
   "id": "c35a312e-67cd-4e81-b1da-8b30a976a6ba",
   "metadata": {},
   "outputs": [],
   "source": [
    "if len(v.shape) == 2:\n",
    "            for i in range(v.shape[0]):\n",
    "                for j in range(v.shape[1]):\n",
    "                    #   subtract epsilon\n",
    "                    params[k][i, j] = v[i, j] - eps\n",
    "                    #   run the forward function by\n",
    "                    h1s = forward(x, params, 'layer1')\n",
    "                    probss = forward(h1s, params, 'output', softmax)\n",
    "                    #   get the loss\n",
    "                    ls1, acc1 = compute_loss_and_acc(y , probss)\n",
    "                    #   add epsilon\n",
    "                    params[k][i, j] = v[i, j] + eps\n",
    "                    #   run the forward function\n",
    "                    h1a = forward(x, params, 'layer1')\n",
    "                    probsa = forward(h1a, params, 'output', softmax)\n",
    "                    #   get the loss\n",
    "                    ls2, acc2 = compute_loss_and_acc(y , probsa)\n",
    "                    #   compute derivative with central diffs\n",
    "                    params[k][i, j] = v[i, j]\n",
    "                    # print((ls2 - ls1))\n",
    "                    params['grad_' + k][i, j] = (ls2 - ls1) / (2*eps)\n",
    "        else:\n",
    "            for i in range(v.shape[0]):\n",
    "                #   subtract epsilon\n",
    "                params[k][i] = v[i] - eps\n",
    "                #   run the forward function by\n",
    "                h1s = forward(x, params, 'layer1')\n",
    "                probss = forward(h1s, params, 'output', softmax)\n",
    "                #   get the loss\n",
    "                ls1, acc1 = compute_loss_and_acc(y , probss)\n",
    "                #   add epsilon\n",
    "                params[k][i] = v[i] + eps\n",
    "                #   run the forward function\n",
    "                h1a = forward(x, params, 'layer1')\n",
    "                probsa = forward(h1a, params, 'output', softmax)\n",
    "                #   get the loss\n",
    "                ls2, acc2 = compute_loss_and_acc(y , probsa)\n",
    "                #   compute derivative with central diffs\n",
    "                params[k][i] = v[i] \n",
    "                params['grad_' + k][i] = (ls2 - ls1) / (2*eps)"
   ]
  },
  {
   "cell_type": "code",
   "execution_count": 1,
   "id": "bdc537ac-9bdc-4c76-869c-a9f44c22345c",
   "metadata": {},
   "outputs": [],
   "source": [
    "import torchvision"
   ]
  },
  {
   "cell_type": "code",
   "execution_count": 2,
   "id": "64feac52-04bf-4e4b-adad-850c7c256fc0",
   "metadata": {},
   "outputs": [
    {
     "data": {
      "text/plain": [
       "'0.8.2+cu101'"
      ]
     },
     "execution_count": 2,
     "metadata": {},
     "output_type": "execute_result"
    }
   ],
   "source": [
    "torchvision.__version__"
   ]
  },
  {
   "cell_type": "code",
   "execution_count": 3,
   "id": "63ab5636-a3a8-40a4-89b5-fa506c581db1",
   "metadata": {},
   "outputs": [],
   "source": [
    "import torch"
   ]
  },
  {
   "cell_type": "code",
   "execution_count": 4,
   "id": "0ab48de8-2018-4858-9dac-7ab833a5d87a",
   "metadata": {},
   "outputs": [
    {
     "data": {
      "text/plain": [
       "'1.7.1+cu101'"
      ]
     },
     "execution_count": 4,
     "metadata": {},
     "output_type": "execute_result"
    }
   ],
   "source": [
    "torch.__version__"
   ]
  },
  {
   "cell_type": "code",
   "execution_count": null,
   "id": "1c0c3a40-7fd4-4ce6-b79e-baff71a4eb5e",
   "metadata": {},
   "outputs": [],
   "source": [
    "class ConvNet(nn.Module):\n",
    "    def __init__(self):\n",
    "        super(ConvNet, self).__init__()\n",
    "        \n",
    "        # Conv2d(in_channels, out_channels, kernel_size, stride=1, padding=0,\n",
    "        #        dilation=1, groups=1, bias=True, padding_mode='zeros')\n",
    "        self.conv1 = nn.Conv2d(1, 10, kernel_size=5)\n",
    "        self.conv2 = nn.Conv2d(10, 20, kernel_size=5)\n",
    "        self.conv2_drop = nn.Dropout2d()\n",
    "        \n",
    "        # Linear(in_features, out_features, bias=True)\n",
    "        self.fc1 = nn.Linear(320, 50)\n",
    "        self.fc2 = nn.Linear(50, 10)\n",
    "        \n",
    "        # MaxPool2d(kernel_size, stride=None, padding=0, dilation=1, return_indices=False, ceil_mode=False)\n",
    "        self.max_pool = nn.MaxPool2d(2)\n",
    "        # ReLU(inplace=False)\n",
    "        self.relu = nn.ReLU()\n",
    "\n",
    "    def forward(self, x):\n",
    "        # Note: the following two ways for max pooling / relu are equivalent.\n",
    "        # 1) with torch.nn.functional:\n",
    "        x = F.relu(F.max_pool2d(self.conv1(x), 2))\n",
    "        # 2) with torch.nn:\n",
    "        x = self.relu(self.max_pool(self.conv2_drop(self.conv2(x))))\n",
    "        x = x.view(-1, 320)\n",
    "        x = F.relu(self.fc1(x))\n",
    "        x = F.dropout(x, training=self.training)\n",
    "        x = self.fc2(x)\n",
    "        return F.log_softmax(x, dim=1)\n",
    "\n",
    "model = ConvNet().to(device)\n",
    "optimizer = optim.SGD(model.parameters(), lr=0.001, momentum=0.9)"
   ]
  }
 ],
 "metadata": {
  "kernelspec": {
   "display_name": "Python 3",
   "language": "python",
   "name": "python3"
  },
  "language_info": {
   "codemirror_mode": {
    "name": "ipython",
    "version": 3
   },
   "file_extension": ".py",
   "mimetype": "text/x-python",
   "name": "python",
   "nbconvert_exporter": "python",
   "pygments_lexer": "ipython3",
   "version": "3.7.9"
  }
 },
 "nbformat": 4,
 "nbformat_minor": 5
}
